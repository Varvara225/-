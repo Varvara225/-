{
 "cells": [
  {
   "cell_type": "markdown",
   "id": "3c985705",
   "metadata": {},
   "source": [
    "Для подтверждения результата необходимо будет прикрепить в форму ноутбук:<br> https://forms.gle/5mJbfaoF2d4ybbkk7. Без прикрепленного ноутбука набранные бонусные баллы начисляться не будут<br>\n",
    "**Прикрепленный ноутбук должен:**<br>\n",
    "1) запускаться целиком без ошибок<br>\n",
    "2) генерировать в результате работы submission.csv<br>\n",
    "3) все ячейки в ноутбуке должны быть выполнены по порядку (цифры слева от ячеек идут в порядке возрастания, нет ячеек с пустыми скобками)"
   ]
  },
  {
   "cell_type": "code",
   "execution_count": 1,
   "id": "1a64cdda",
   "metadata": {},
   "outputs": [],
   "source": [
    "import regex\n",
    "import nltk\n",
    "import numpy as np\n",
    "import pandas as pd\n",
    "from sklearn.linear_model import LogisticRegression"
   ]
  },
  {
   "cell_type": "code",
   "execution_count": 2,
   "id": "21ddb977",
   "metadata": {},
   "outputs": [],
   "source": [
    "from sklearn.feature_extraction.text import TfidfVectorizer"
   ]
  },
  {
   "cell_type": "markdown",
   "id": "8c250630",
   "metadata": {},
   "source": [
    "# Загрузка данных"
   ]
  },
  {
   "cell_type": "code",
   "execution_count": 3,
   "id": "f8db17d8",
   "metadata": {},
   "outputs": [],
   "source": [
    "test_responses = []\n",
    "with open('hse-sentiment-analysis/x_test.txt',  encoding='utf-8') as file:\n",
    "    reader = file.read()\n",
    "    for r in reader.split('\\n'):\n",
    "        test_responses.append(r)"
   ]
  },
  {
   "cell_type": "code",
   "execution_count": 4,
   "id": "ce757954",
   "metadata": {},
   "outputs": [],
   "source": [
    "responses = []\n",
    "with open('hse-sentiment-analysis/x_train.txt',  encoding='utf-8') as file:\n",
    "    reader = file.read()\n",
    "    for r in reader.split('\\n'):\n",
    "        responses.append(r)\n",
    "\n",
    "target = pd.read_csv('hse-sentiment-analysis/y_train.csv')  "
   ]
  },
  {
   "cell_type": "code",
   "execution_count": 5,
   "id": "85073ef8",
   "metadata": {},
   "outputs": [
    {
     "name": "stdout",
     "output_type": "stream",
     "text": [
      "3600001\n",
      "400001\n"
     ]
    }
   ],
   "source": [
    "print(len(responses))\n",
    "print(len(test_responses))"
   ]
  },
  {
   "cell_type": "code",
   "execution_count": 6,
   "id": "faaa2505",
   "metadata": {},
   "outputs": [],
   "source": [
    "texts = list(map(lambda r: regex.sub(r'[^\\p{Latin}]', ' ', r.lower()), responses))\n",
    "test_texts = list(map(lambda r: regex.sub(r'[^\\p{Latin}]', ' ', r.lower()), test_responses))"
   ]
  },
  {
   "cell_type": "code",
   "execution_count": 7,
   "id": "6b2089e4",
   "metadata": {},
   "outputs": [],
   "source": [
    "clean_texts = list(map(lambda r: regex.sub(r' +', ' ', r), texts))\n",
    "clean_test_texts = list(map(lambda r: regex.sub(r' +', ' ', r), test_texts))"
   ]
  },
  {
   "cell_type": "code",
   "execution_count": 8,
   "id": "aa57e73d",
   "metadata": {},
   "outputs": [
    {
     "name": "stdout",
     "output_type": "stream",
     "text": [
      "3600001\n",
      "400001\n"
     ]
    }
   ],
   "source": [
    "print(len(clean_texts))\n",
    "print(len(clean_test_texts))"
   ]
  },
  {
   "cell_type": "code",
   "execution_count": 9,
   "id": "fb09f250",
   "metadata": {},
   "outputs": [],
   "source": [
    "data = clean_texts[:3600000] + clean_test_texts[:400000]"
   ]
  },
  {
   "cell_type": "code",
   "execution_count": 10,
   "id": "0ee4c7d2",
   "metadata": {},
   "outputs": [
    {
     "data": {
      "text/plain": [
       "4000000"
      ]
     },
     "execution_count": 10,
     "metadata": {},
     "output_type": "execute_result"
    }
   ],
   "source": [
    "len(data)"
   ]
  },
  {
   "cell_type": "markdown",
   "id": "5298c45c",
   "metadata": {},
   "source": [
    "# Векторизация"
   ]
  },
  {
   "cell_type": "code",
   "execution_count": 11,
   "id": "761c43e6",
   "metadata": {},
   "outputs": [],
   "source": [
    "vectorizer = TfidfVectorizer(encoding='utf8', min_df=5)\n",
    "_ = vectorizer.fit(data)"
   ]
  },
  {
   "cell_type": "code",
   "execution_count": 12,
   "id": "2d0e36f4",
   "metadata": {},
   "outputs": [],
   "source": [
    "X = vectorizer.transform(data)"
   ]
  },
  {
   "cell_type": "code",
   "execution_count": 13,
   "id": "d609ee64",
   "metadata": {},
   "outputs": [],
   "source": [
    "Y_train = np.array(target.Probability).astype(int)"
   ]
  },
  {
   "cell_type": "code",
   "execution_count": 14,
   "id": "ba5e7ce1",
   "metadata": {},
   "outputs": [
    {
     "data": {
      "text/plain": [
       "3600000"
      ]
     },
     "execution_count": 14,
     "metadata": {},
     "output_type": "execute_result"
    }
   ],
   "source": [
    "len(Y_train)"
   ]
  },
  {
   "cell_type": "code",
   "execution_count": 15,
   "id": "83fac907",
   "metadata": {},
   "outputs": [
    {
     "name": "stderr",
     "output_type": "stream",
     "text": [
      "/Library/Frameworks/Python.framework/Versions/3.9/lib/python3.9/site-packages/sklearn/linear_model/_logistic.py:814: ConvergenceWarning: lbfgs failed to converge (status=1):\n",
      "STOP: TOTAL NO. of ITERATIONS REACHED LIMIT.\n",
      "\n",
      "Increase the number of iterations (max_iter) or scale the data as shown in:\n",
      "    https://scikit-learn.org/stable/modules/preprocessing.html\n",
      "Please also refer to the documentation for alternative solver options:\n",
      "    https://scikit-learn.org/stable/modules/linear_model.html#logistic-regression\n",
      "  n_iter_i = _check_optimize_result(\n"
     ]
    },
    {
     "data": {
      "text/plain": [
       "LogisticRegression()"
      ]
     },
     "execution_count": 15,
     "metadata": {},
     "output_type": "execute_result"
    }
   ],
   "source": [
    "lr = LogisticRegression()\n",
    "lr.fit(X[:3600000], Y_train)"
   ]
  },
  {
   "cell_type": "code",
   "execution_count": 16,
   "id": "79adc996",
   "metadata": {},
   "outputs": [],
   "source": [
    "preds = lr.predict_proba(X[3600000: 4000000])[:,1]"
   ]
  },
  {
   "cell_type": "code",
   "execution_count": 17,
   "id": "917e4d01",
   "metadata": {},
   "outputs": [],
   "source": [
    "submitions = {\n",
    "  \"Id\": [i for i in range(1, 400001)],\n",
    "  \"Probability\": preds\n",
    "}"
   ]
  },
  {
   "cell_type": "code",
   "execution_count": 18,
   "id": "34c64122",
   "metadata": {},
   "outputs": [],
   "source": [
    "df = pd.DataFrame(submitions)"
   ]
  },
  {
   "cell_type": "code",
   "execution_count": 19,
   "id": "ccccb141",
   "metadata": {},
   "outputs": [
    {
     "data": {
      "text/html": [
       "<div>\n",
       "<style scoped>\n",
       "    .dataframe tbody tr th:only-of-type {\n",
       "        vertical-align: middle;\n",
       "    }\n",
       "\n",
       "    .dataframe tbody tr th {\n",
       "        vertical-align: top;\n",
       "    }\n",
       "\n",
       "    .dataframe thead th {\n",
       "        text-align: right;\n",
       "    }\n",
       "</style>\n",
       "<table border=\"1\" class=\"dataframe\">\n",
       "  <thead>\n",
       "    <tr style=\"text-align: right;\">\n",
       "      <th></th>\n",
       "      <th>Id</th>\n",
       "      <th>Probability</th>\n",
       "    </tr>\n",
       "  </thead>\n",
       "  <tbody>\n",
       "    <tr>\n",
       "      <th>0</th>\n",
       "      <td>1</td>\n",
       "      <td>0.992436</td>\n",
       "    </tr>\n",
       "    <tr>\n",
       "      <th>1</th>\n",
       "      <td>2</td>\n",
       "      <td>0.995693</td>\n",
       "    </tr>\n",
       "    <tr>\n",
       "      <th>2</th>\n",
       "      <td>3</td>\n",
       "      <td>0.035033</td>\n",
       "    </tr>\n",
       "    <tr>\n",
       "      <th>3</th>\n",
       "      <td>4</td>\n",
       "      <td>0.667350</td>\n",
       "    </tr>\n",
       "    <tr>\n",
       "      <th>4</th>\n",
       "      <td>5</td>\n",
       "      <td>0.986535</td>\n",
       "    </tr>\n",
       "    <tr>\n",
       "      <th>...</th>\n",
       "      <td>...</td>\n",
       "      <td>...</td>\n",
       "    </tr>\n",
       "    <tr>\n",
       "      <th>399995</th>\n",
       "      <td>399996</td>\n",
       "      <td>0.200603</td>\n",
       "    </tr>\n",
       "    <tr>\n",
       "      <th>399996</th>\n",
       "      <td>399997</td>\n",
       "      <td>0.039683</td>\n",
       "    </tr>\n",
       "    <tr>\n",
       "      <th>399997</th>\n",
       "      <td>399998</td>\n",
       "      <td>0.121764</td>\n",
       "    </tr>\n",
       "    <tr>\n",
       "      <th>399998</th>\n",
       "      <td>399999</td>\n",
       "      <td>0.998612</td>\n",
       "    </tr>\n",
       "    <tr>\n",
       "      <th>399999</th>\n",
       "      <td>400000</td>\n",
       "      <td>0.027966</td>\n",
       "    </tr>\n",
       "  </tbody>\n",
       "</table>\n",
       "<p>400000 rows × 2 columns</p>\n",
       "</div>"
      ],
      "text/plain": [
       "            Id  Probability\n",
       "0            1     0.992436\n",
       "1            2     0.995693\n",
       "2            3     0.035033\n",
       "3            4     0.667350\n",
       "4            5     0.986535\n",
       "...        ...          ...\n",
       "399995  399996     0.200603\n",
       "399996  399997     0.039683\n",
       "399997  399998     0.121764\n",
       "399998  399999     0.998612\n",
       "399999  400000     0.027966\n",
       "\n",
       "[400000 rows x 2 columns]"
      ]
     },
     "execution_count": 19,
     "metadata": {},
     "output_type": "execute_result"
    }
   ],
   "source": [
    "df"
   ]
  },
  {
   "cell_type": "code",
   "execution_count": 20,
   "id": "6cd4d780",
   "metadata": {},
   "outputs": [],
   "source": [
    "df.to_csv('submission.csv', index=False)"
   ]
  }
 ],
 "metadata": {
  "kernelspec": {
   "display_name": "Python 3 (ipykernel)",
   "language": "python",
   "name": "python3"
  },
  "language_info": {
   "codemirror_mode": {
    "name": "ipython",
    "version": 3
   },
   "file_extension": ".py",
   "mimetype": "text/x-python",
   "name": "python",
   "nbconvert_exporter": "python",
   "pygments_lexer": "ipython3",
   "version": "3.9.2"
  }
 },
 "nbformat": 4,
 "nbformat_minor": 5
}
