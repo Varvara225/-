{
  "nbformat": 4,
  "nbformat_minor": 0,
  "metadata": {
    "colab": {
      "provenance": []
    },
    "kernelspec": {
      "name": "python3",
      "display_name": "Python 3"
    },
    "language_info": {
      "name": "python"
    }
  },
  "cells": [
    {
      "cell_type": "markdown",
      "source": [
        "# Графы\n",
        "\n",
        "* Что это такое?\n",
        "* Зачем это нужно?\n",
        "* Какие виды есть?\n",
        "* Что с ними можно делать?\n",
        "* Как это хранить?\n",
        "* Если мы выбрали способ хранение, как можно устроить обход графа?\n",
        "* Еще задачи на графы, которые мы разберем..."
      ],
      "metadata": {
        "id": "cmNJSdp9cMbd"
      }
    },
    {
      "cell_type": "code",
      "source": [
        "# Матрица смежности\n",
        "matrix = [[0, 1, 1, 0, 0],\n",
        "          [1, 1, 0, 0, 0],\n",
        "          [1, 0, 0, 1, 1],\n",
        "          [0, 0, 1, 0, 1],\n",
        "          [0, 0, 1, 1, 0]]\n",
        "\n",
        "# Список (словарь) смежности\n",
        "graph = {1: {2, 3},\n",
        "         2: {1, 2},\n",
        "         3: {1, 4, 5},\n",
        "         4: {3, 5},\n",
        "         5: {3, 4}}\n",
        "\n",
        "# Список ребер\n",
        "graph = [(1, 2), (1, 3), (2, 2), (3, 4), (4, 5), (3, 5)]"
      ],
      "metadata": {
        "id": "KLAUrznxzmJC"
      },
      "execution_count": null,
      "outputs": []
    },
    {
      "cell_type": "code",
      "execution_count": null,
      "metadata": {
        "colab": {
          "base_uri": "https://localhost:8080/"
        },
        "id": "cRY3oT73ovcI",
        "outputId": "bab152fe-6721-4733-b5f6-41198721370c"
      },
      "outputs": [
        {
          "output_type": "stream",
          "name": "stdout",
          "text": [
            "0\n",
            "2\n",
            "1\n",
            "3\n",
            "4\n"
          ]
        }
      ],
      "source": [
        "# Алгоритм обхода в глубину на Python\n",
        "\n",
        "\n",
        "# Алгоритм\n",
        "def dfs(graph, start, visited=set()):\n",
        "\n",
        "    # Сначала, мы добавляем данную вершнину в множество посещенных\n",
        "    #visited.\n",
        "    # После, печатаем ее (или делаем еще что-то в зависимости от задачи)\n",
        "    print(start)\n",
        "    # Далее нам надо посетить все смежные вершины\n",
        "\n",
        "\n",
        "def dfs(graph, start, visited=set()):\n",
        "\n",
        "    if start not in visited:\n",
        "\n",
        "        visited.update([start])\n",
        "        print(start)\n",
        "        for vertice in graph[start]:\n",
        "            dfs(graph, vertice, visited)\n",
        "\n",
        "    \n",
        "\n",
        "# Пусть у нас есть следующий граф\n",
        "graph = {'0': set(['1', '2']),\n",
        "         '1': set(['0', '3', '4']),\n",
        "         '2': set(['0']),\n",
        "         '3': set(['1']),\n",
        "         '4': set(['2', '3'])}\n",
        "\n",
        "dfs(graph, '0')"
      ]
    },
    {
      "cell_type": "code",
      "source": [
        "graph = [[]]"
      ],
      "metadata": {
        "id": "TWUkTBroTeAD"
      },
      "execution_count": null,
      "outputs": []
    },
    {
      "cell_type": "markdown",
      "source": [
        "## Поиск компонент связности\n",
        "\n",
        "Используя обход в глубину, надо придумать алгоритм, который скажет, сколько в этом графе компонент связности"
      ],
      "metadata": {
        "id": "IZ0xJUjnrzOR"
      }
    },
    {
      "cell_type": "code",
      "source": [
        "def num_comp(graph):\n",
        "  \n",
        "    pass"
      ],
      "metadata": {
        "colab": {
          "base_uri": "https://localhost:8080/",
          "height": 130
        },
        "id": "czSLBFilrytm",
        "outputId": "5b609cc1-ffdc-4fbe-8930-8ef222530bb0"
      },
      "execution_count": null,
      "outputs": [
        {
          "output_type": "error",
          "ename": "IndentationError",
          "evalue": "ignored",
          "traceback": [
            "\u001b[0;36m  File \u001b[0;32m\"<ipython-input-6-977b3ce6e7ec>\"\u001b[0;36m, line \u001b[0;32m1\u001b[0m\n\u001b[0;31m    def num_comp(graph):\u001b[0m\n\u001b[0m                        ^\u001b[0m\n\u001b[0;31mIndentationError\u001b[0m\u001b[0;31m:\u001b[0m expected an indented block\n"
          ]
        }
      ]
    },
    {
      "cell_type": "markdown",
      "source": [
        "# А что, если я захочу обход в глубину через матрицу смежности?"
      ],
      "metadata": {
        "id": "9gTmH0-RO6S-"
      }
    },
    {
      "cell_type": "code",
      "source": [
        "def dfs(graph, start, visited=set()):\n",
        "\n",
        "    if start not in visited:\n",
        "\n",
        "        visited.update([start])\n",
        "        print(start)\n",
        "        for vertice in graph[start]:\n",
        "            dfs(graph, vertice, visited)\n",
        "\n",
        "\n",
        "matrix = [[0, 1, 1, 0, 0],\n",
        "          [1, 1, 0, 0, 0],\n",
        "          [1, 0, 0, 1, 1],\n",
        "          [0, 0, 1, 0, 1],\n",
        "          [0, 0, 1, 1, 0]]"
      ],
      "metadata": {
        "id": "nmzNfXkN_zGi"
      },
      "execution_count": null,
      "outputs": []
    },
    {
      "cell_type": "markdown",
      "source": [
        "# Обход в ширину"
      ],
      "metadata": {
        "id": "YHM3heLCPRjG"
      }
    },
    {
      "cell_type": "code",
      "source": [
        "def bfs(graph, start):\n",
        "\n",
        "    pass\n",
        "\n",
        "# Задал граф через списки смежности вершин!\n",
        "graph = [[4, 5],\n",
        "         [5, 6],\n",
        "         [6, 7],\n",
        "         [7],\n",
        "         [0],\n",
        "         [0, 1],\n",
        "         [1, 2],\n",
        "         [2, 3]]"
      ],
      "metadata": {
        "id": "Vs1pUlCFPTZq"
      },
      "execution_count": null,
      "outputs": []
    },
    {
      "cell_type": "markdown",
      "source": [
        "# Алгоритм Дейкстры\n",
        "\n",
        "Алгоритм нахождения кратчайших путей от одной вершины до всех остальных. \n",
        "\n",
        "* Каждой вершине мы присуждаем метку - кратчайшее расстояние от этой вершины до той, с которой мы начали считать\n",
        "\n",
        "* Инициализируем метки вершни как бесконечность, а начальную как 0\n",
        "\n",
        "* На каждом шаге переходим к вершине с минимальной меткой (если минимальная метка равна бесконечности, то завершаем работу). Если мы посетили все вершины, то завершаем работу алгоритма.\n",
        "\n",
        "* Для каждой соседней вершины мы пытаемся обновить метку: если сумма метки данной вершины и ребра между ней и соседней вершиной меньше метки соседней вершины, то мы обновляем метку на эту сумму. \n",
        "\n",
        "* Такой алгоритм гарантирует, что после его выполнения в метках будут наименьшие расстояния от данной вершины ко всем остальным."
      ],
      "metadata": {
        "id": "8Aca3sIqS3oq"
      }
    },
    {
      "cell_type": "code",
      "source": [
        "graph = [\n",
        "    [0, 12, 7, 0, 0, 0],\n",
        "    [12, 0, 3, 5, 0, 0],\n",
        "    [7, 3, 0, 10, 0, 11],\n",
        "    [0, 5, 10, 0, 4, 0],\n",
        "    [0, 0, 0, 4, 0, 10],\n",
        "    [0, 0, 11, 0, 10, 0]\n",
        "]\n",
        "\n",
        "def dijkstra(graph, node):\n",
        "\n",
        "    t = [float('inf') for _ in range(len(graph))] # Метки вершин, которые показывают кратчайшее расстояние от них до вершины node\n",
        "    s = set() # Множество вершин, которые посетили\n",
        "    t[node] = 0\n",
        "\n",
        "    for v in range(len(graph)): # Мы точно знаем, что нам нужно столько итераций, сколько у нас ребер\n",
        "\n",
        "        now_vertex = -1 # Мы должны выбрать вершину\n",
        "\n",
        "        for vertex in range(len(graph)): # Выбираем мы ту, у которой метка меньше и которую мы еще не посещали\n",
        "            if vertex not in s and  t[vertex] < t[now_vertex]:\n",
        "                now_vertex = vertex\n",
        "\n",
        "        s.add(now_vertex)\n",
        "        \n",
        "        for adj in range(len(graph[v])):\n",
        "           if graph[now_vertex][adj] != 0:\n",
        "              t[adj] = min(t[now_vertex] + graph[now_vertex][adj],  t[adj])\n",
        "\n",
        "    return t"
      ],
      "metadata": {
        "id": "1WHNOXH3yux2"
      },
      "execution_count": 65,
      "outputs": []
    },
    {
      "cell_type": "code",
      "source": [
        "dijkstra(graph, 0)"
      ],
      "metadata": {
        "colab": {
          "base_uri": "https://localhost:8080/"
        },
        "id": "Dk1NpecdIP_I",
        "outputId": "d9876a3c-610a-434e-b276-c43318ee876d"
      },
      "execution_count": 66,
      "outputs": [
        {
          "output_type": "execute_result",
          "data": {
            "text/plain": [
              "[0, 10, 7, 15, 19, 18]"
            ]
          },
          "metadata": {},
          "execution_count": 66
        }
      ]
    },
    {
      "cell_type": "code",
      "source": [],
      "metadata": {
        "id": "6selW41geJVM"
      },
      "execution_count": null,
      "outputs": []
    }
  ]
}