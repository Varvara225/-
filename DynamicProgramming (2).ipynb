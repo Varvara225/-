{
  "nbformat": 4,
  "nbformat_minor": 0,
  "metadata": {
    "colab": {
      "provenance": []
    },
    "kernelspec": {
      "name": "python3",
      "display_name": "Python 3"
    },
    "language_info": {
      "name": "python"
    }
  },
  "cells": [
    {
      "cell_type": "markdown",
      "source": [
        "# Но сначала задача про подмассивы"
      ],
      "metadata": {
        "id": "q0QXpblIaGAv"
      }
    },
    {
      "cell_type": "markdown",
      "source": [
        "**K Sum Subarrays Count**\n",
        "\n",
        "Дан массив целых чисел `arr`. Нужно найти количество подмассивов, сумма которых равна k\n",
        "\n",
        "Подмассив – это непрерывный участок массива `arr[i:j+1]`. Один элемент и весь массив так же являются подмассивами."
      ],
      "metadata": {
        "id": "ECzv5IOxaMMz"
      }
    },
    {
      "cell_type": "code",
      "execution_count": null,
      "metadata": {
        "id": "4uXdygQdaDQg"
      },
      "outputs": [],
      "source": [
        "def k_sum_subarrays(arr: list, k) -> int:\n",
        "    \n",
        "    # Заведем словарь, где будем хранить частичные суммы массива и сколько раз мы ее встретили\n",
        "    # Частично суммой для элемента i будет sum(arr[:i+1])\n",
        "    sums = {}\n",
        "    now_s = 0 # Нынешняя сумма, чтобы каждый раз не вызывать функцию sum\n",
        "    n = 0\n",
        "\n",
        "    for i in range(len(arr)):\n",
        "        # Увеличиваем нынешнюю сумму\n",
        "        now_s += arr[i]\n",
        "        # Если какая-то из частичных сумм равна нужному числу, то увеличиваем счетчик\n",
        "        if now_s == k:\n",
        "            n += 1\n",
        "        # Если выполнено условие, что sum(arr[i:j+1]) = k, которое можно записать как\n",
        "        # sum(arr[:j+1]) - sum(arr[:i+1]) = k, то мы нашли нужный подмассив\n",
        "        if (now_s - k) in sums:\n",
        "            # Для данного индекса таких подмассиво может быть сразу несколько, так что нам надо хранить их число\n",
        "            n += sums[now_s - k]\n",
        "        # Заполяем хэш-таблицу\n",
        "        if now_s in sums:\n",
        "            sums[now_s] += 1\n",
        "        else:\n",
        "            sums[now_s] = 1\n",
        "    return n"
      ]
    },
    {
      "cell_type": "code",
      "source": [
        "print(k_sum_subarrays([1, 2, 3], 3))\n",
        "print(k_sum_subarrays([1, -2, 3], 0))\n",
        "print(k_sum_subarrays([1, 1, 1, 1, 1], 3))"
      ],
      "metadata": {
        "colab": {
          "base_uri": "https://localhost:8080/"
        },
        "id": "CCt-q3ecctct",
        "outputId": "585f61da-b9ee-43d8-ffc4-2791e96e3349"
      },
      "execution_count": null,
      "outputs": [
        {
          "output_type": "stream",
          "name": "stdout",
          "text": [
            "2\n",
            "0\n",
            "3\n"
          ]
        }
      ]
    },
    {
      "cell_type": "code",
      "source": [
        "[-3, 3, -2, 2, 1, 3, 4]"
      ],
      "metadata": {
        "id": "zbcik0p2A01z"
      },
      "execution_count": null,
      "outputs": []
    },
    {
      "cell_type": "markdown",
      "source": [
        "# Dynamic Programming. Basics"
      ],
      "metadata": {
        "id": "UpaVAHr2iEMQ"
      }
    },
    {
      "cell_type": "markdown",
      "source": [
        "## Размен монет\n",
        "\n",
        "Дан массив `coins[0..m-1]`, содержащий `m` монет разного номинала. Необходимо написать программу, которая выдаст нужную сумму `V` наименьшим числом монет. Если выдать сумму невозможно, верните `-1`."
      ],
      "metadata": {
        "id": "OjWcH1wB0qjZ"
      }
    },
    {
      "cell_type": "code",
      "source": [
        "def coins_change(coins, V):\n",
        "    \n",
        "    table = [float('inf') for _ in range(0, V + 1)]\n",
        "    table[0] = 0\n",
        "\n",
        "    for i in range(1, V + 1):\n",
        "        for coin in coins:\n",
        "            if coin <= i:\n",
        "                curr = table[i - coin]\n",
        "                if curr != float('inf') and curr + 1 < table[i]:\n",
        "                    table[i] = curr + 1\n",
        "\n",
        "    if table[V] == float('inf'):\n",
        "        return -1\n",
        "    \n",
        "    return table[V]\n"
      ],
      "metadata": {
        "id": "RPuCu58h1CTD"
      },
      "execution_count": null,
      "outputs": []
    },
    {
      "cell_type": "code",
      "source": [
        "coins = [1, 4, 7]\n",
        "V = 17\n",
        "\n",
        "coins_change(coins, V)"
      ],
      "metadata": {
        "colab": {
          "base_uri": "https://localhost:8080/"
        },
        "id": "-9adHshpqCrd",
        "outputId": "2da3abd7-5ada-4dfe-e903-8cb1f047fa04"
      },
      "execution_count": null,
      "outputs": [
        {
          "output_type": "execute_result",
          "data": {
            "text/plain": [
              "5"
            ]
          },
          "metadata": {},
          "execution_count": 11
        }
      ]
    },
    {
      "cell_type": "code",
      "source": [
        "coins = [1, 2, 4, 8, 16]\n",
        "V = 31\n",
        "\n",
        "coins_change(coins, V)"
      ],
      "metadata": {
        "colab": {
          "base_uri": "https://localhost:8080/"
        },
        "id": "S-4DjRC5qifs",
        "outputId": "5de2d9ca-cb67-4505-c392-37b732361ee3"
      },
      "execution_count": null,
      "outputs": [
        {
          "output_type": "execute_result",
          "data": {
            "text/plain": [
              "5"
            ]
          },
          "metadata": {},
          "execution_count": 12
        }
      ]
    },
    {
      "cell_type": "markdown",
      "source": [
        "## Рюкзак\n",
        "\n",
        "Есть рюкзак вместимостью `W` и `N` предметов разной ценности. Нужно заполнить рюкзак так, чтобы его общая ценность была максимальной. Другими словами, даны два целочисленных массива `val[0..N-1]` и `wt[0..N-1]`, которые представляют ценность и веса предметов. Найдите максимальное подмножество значений из `val[]`, такое, что сумма весов этого подмножества меньше или равна `W`. В качестве ответа, выведите полученное значение для ценности рюкзака. Предмет можно выбрать полностью, или не выбрать вообще. Решите задачу с неповторяющимися предметами."
      ],
      "metadata": {
        "id": "gcmzAgg20jpl"
      }
    },
    {
      "cell_type": "code",
      "source": [
        "val = [4, 5, 3, 2]\n",
        "wt = [4, 5, 1, 2]\n",
        "W = 4\n",
        "\n",
        "max_val = ''"
      ],
      "metadata": {
        "id": "VgWNK9OacxVY"
      },
      "execution_count": null,
      "outputs": []
    },
    {
      "cell_type": "markdown",
      "source": [
        "### Идеи:\n",
        "* Какой рекурсивный алгоритм тут можно придумать (как у него сложность)?\n",
        "* Как получить эффективную рекурсию?"
      ],
      "metadata": {
        "id": "mH18wR6U0QK_"
      }
    },
    {
      "cell_type": "code",
      "source": [
        "def knapsack_no_repetition(val, wt, W, N):\n",
        "    \n",
        "    table = [[0 for _ in range(W + 1)] for __ in range(N + 1)]\n",
        "\n",
        "    for i in range(1, N + 1):\n",
        "        for w in range(1, W + 1):\n",
        "\n",
        "            if wt[i - 1] <= w:\n",
        "                table[i][w] = max(table[i - 1][w], val[i - 1] + table[i - 1][w - wt[i - 1]])\n",
        "            else:\n",
        "                table[i][w] = table[i - 1][w]\n",
        "    print(*table, sep='\\n')\n",
        "    return table[N][W]"
      ],
      "metadata": {
        "id": "xUQg6sBvwL4V"
      },
      "execution_count": null,
      "outputs": []
    },
    {
      "cell_type": "code",
      "source": [
        "val = [30, 14, 16, 9]\n",
        "wt = [6, 3, 4, 2]\n",
        "N = 4\n",
        "W = 10\n",
        "\n",
        "knapsack_no_repetition(val, wt, W, N)"
      ],
      "metadata": {
        "colab": {
          "base_uri": "https://localhost:8080/"
        },
        "id": "14gRttqSnMx4",
        "outputId": "20fc4a6f-ed92-4176-e781-bfc87b82850d"
      },
      "execution_count": null,
      "outputs": [
        {
          "output_type": "stream",
          "name": "stdout",
          "text": [
            "[0, 0, 0, 0, 0, 0, 0, 0, 0, 0, 0]\n",
            "[0, 0, 0, 0, 0, 0, 30, 30, 30, 30, 30]\n",
            "[0, 0, 0, 14, 14, 14, 30, 30, 30, 44, 44]\n",
            "[0, 0, 0, 14, 16, 16, 30, 30, 30, 44, 46]\n",
            "[0, 0, 9, 14, 16, 23, 30, 30, 39, 44, 46]\n"
          ]
        },
        {
          "output_type": "execute_result",
          "data": {
            "text/plain": [
              "46"
            ]
          },
          "metadata": {},
          "execution_count": 10
        }
      ]
    },
    {
      "cell_type": "code",
      "source": [
        "val = [4, 5, 3, 2]\n",
        "wt = [4, 5, 1, 2]\n",
        "W = 4\n",
        "N = 4\n",
        "\n",
        "knapsack_no_repetition(val, wt, W, N)"
      ],
      "metadata": {
        "colab": {
          "base_uri": "https://localhost:8080/"
        },
        "id": "7qvzGfj6OOIL",
        "outputId": "da93de8c-8bf9-4e4e-bc6c-5eba2f2a9427"
      },
      "execution_count": null,
      "outputs": [
        {
          "output_type": "stream",
          "name": "stdout",
          "text": [
            "[0, 0, 0, 0, 0]\n",
            "[0, 0, 0, 0, 4]\n",
            "[0, 0, 0, 0, 4]\n",
            "[0, 3, 3, 3, 4]\n",
            "[0, 3, 3, 5, 5]\n"
          ]
        },
        {
          "output_type": "execute_result",
          "data": {
            "text/plain": [
              "5"
            ]
          },
          "metadata": {},
          "execution_count": 11
        }
      ]
    },
    {
      "cell_type": "markdown",
      "source": [
        "# А как если с повторениями?\n",
        "\n",
        "* Измениться ли наша рекурсивная формула?"
      ],
      "metadata": {
        "id": "UZ1CWAtccimG"
      }
    },
    {
      "cell_type": "code",
      "source": [
        "def knapsack_with_repetition(val, wt, W, N):\n",
        "    \n",
        "    table = [0 for _ in range(0, W + 1)]\n",
        "    table[0] = 0\n",
        "\n",
        "    for i in range(1, W + 1):\n",
        "        for item in range(N):\n",
        "            if wt[item] <= i:\n",
        "                curr = table[i - wt[item]]\n",
        "                if curr + val[item] > table[i]:\n",
        "                    table[i] = curr + val[item]\n",
        "    return table[W]\n"
      ],
      "metadata": {
        "id": "Wm-HqaPocnHX"
      },
      "execution_count": null,
      "outputs": []
    },
    {
      "cell_type": "code",
      "source": [
        "val = [30, 14, 16, 9]\n",
        "wt = [6, 3, 4, 2]\n",
        "N = 4\n",
        "W = 10\n",
        "\n",
        "knapsack_with_repetition(val, wt, W, N)"
      ],
      "metadata": {
        "colab": {
          "base_uri": "https://localhost:8080/"
        },
        "id": "_wfkvURFhYUl",
        "outputId": "69c0678e-d3f3-44a7-e8c3-6fd1566d3cf6"
      },
      "execution_count": null,
      "outputs": [
        {
          "output_type": "execute_result",
          "data": {
            "text/plain": [
              "48"
            ]
          },
          "metadata": {},
          "execution_count": 3
        }
      ]
    },
    {
      "cell_type": "markdown",
      "source": [
        "# Edit Distance"
      ],
      "metadata": {
        "id": "DpwP9uPG0fsn"
      }
    },
    {
      "cell_type": "code",
      "source": [
        "def compute_edit_distance(s1, s2, insertion_cost, deletion_cost, substit_cost):\n",
        "  \n",
        "    table = [[0 for _ in range(len(s2) + 1)] for __ in range(len(s1) + 1)]\n",
        "\n",
        "    table[0] = [i for i in range(len(s2)+1)]\n",
        "    for i in range(len(table)):\n",
        "        table[i][0] = i\n",
        "    for i in range(1, len(s1) + 1):\n",
        "        for j in range(1, len(s2) + 1):\n",
        "            if s1[i - 1] == s2[j - 1]:\n",
        "                table[i][j] = table[i - 1][j - 1]\n",
        "            else:\n",
        "                table[i][j] = min(table[i][j - 1] + 1, table[i - 1][j] + 1, table[i - 1][j - 1] + 1)\n",
        "    print(*table, sep='\\n')\n",
        "    return table[len(s1)][len(s2)]"
      ],
      "metadata": {
        "id": "y14vW8vVcGNY"
      },
      "execution_count": null,
      "outputs": []
    },
    {
      "cell_type": "code",
      "source": [
        "compute_edit_distance('sunday', 'saturday', 2, 3, 4)"
      ],
      "metadata": {
        "colab": {
          "base_uri": "https://localhost:8080/"
        },
        "id": "wHDJelCb47bk",
        "outputId": "bc38fda3-7356-4186-aee7-f7a7fa572e7b"
      },
      "execution_count": null,
      "outputs": [
        {
          "output_type": "stream",
          "name": "stdout",
          "text": [
            "[0, 1, 2, 3, 4, 5, 6, 7, 8]\n",
            "[1, 0, 1, 2, 3, 4, 5, 6, 7]\n",
            "[2, 1, 1, 2, 2, 3, 4, 5, 6]\n",
            "[3, 2, 2, 2, 3, 3, 4, 5, 6]\n",
            "[4, 3, 3, 3, 3, 4, 3, 4, 5]\n",
            "[5, 4, 3, 4, 4, 4, 4, 3, 4]\n",
            "[6, 5, 4, 4, 5, 5, 5, 4, 3]\n"
          ]
        },
        {
          "output_type": "execute_result",
          "data": {
            "text/plain": [
              "3"
            ]
          },
          "metadata": {},
          "execution_count": 11
        }
      ]
    },
    {
      "cell_type": "markdown",
      "source": [
        "# Наибольшая общая подпоследовательность\n",
        "\n",
        "Даны 2 последовательности (строки). Необходимо найти наибольшую подпоследовательность этих строк. `z` — подпоследовательность `x` в том случае, если существует строго возрастающий набор индексов элементов `x`, из которых получается `z`."
      ],
      "metadata": {
        "id": "Br3FBtEnXtba"
      }
    },
    {
      "cell_type": "code",
      "source": [
        "def GCS(s1, s2):\n",
        "    table = [[0 for _ in range(len(s2) + 1)] for __ in range(len(s1) + 1)]\n",
        "\n",
        "    table[0] = [i for i in range(len(s2)+1)]\n",
        "    for i in range(len(table)):\n",
        "        table[i][0] = i\n",
        "    for i in range(1, len(s1) + 1):\n",
        "        for j in range(1, len(s2) + 1):\n",
        "            if s1[i - 1] == s2[j - 1]:\n",
        "                table[i][j] = table[i - 1][j - 1]\n",
        "            else:\n",
        "                table[i][j] = min(table[i][j - 1] + 1, table[i - 1][j] + 1, table[i - 1][j - 1] + 1)\n",
        "    print(*table, sep='\\n')\n",
        "    return table[len(s1)][len(s2)]"
      ],
      "metadata": {
        "id": "S1HcCYr3rqaQ"
      },
      "execution_count": null,
      "outputs": []
    },
    {
      "cell_type": "code",
      "source": [
        "def GCS(s1, s2):\n",
        "    matrix = [[0 for _ in range(len(s2)+1)] for _ in range(len(s1)+1)]\n",
        "    \n",
        "    for i in range(1, len(s1)+1):\n",
        "        for j in range(1, len(s2)+1):\n",
        "            if s1[i-1] == s2[j-1]:\n",
        "                matrix[i][j] = matrix[i-1][j-1] + 1\n",
        "            else:\n",
        "                matrix[i][j] = max(matrix[i-1][j], matrix[i][j-1])\n",
        "    return matrix[-1][-1]"
      ],
      "metadata": {
        "id": "17ErZ0d3SR4G"
      },
      "execution_count": null,
      "outputs": []
    },
    {
      "cell_type": "code",
      "source": [
        "GCS('apple', 'pear')"
      ],
      "metadata": {
        "colab": {
          "base_uri": "https://localhost:8080/"
        },
        "id": "_J3aTNTLq309",
        "outputId": "22b9a05f-c461-4b61-93b0-a9976b15bdeb"
      },
      "execution_count": null,
      "outputs": [
        {
          "output_type": "execute_result",
          "data": {
            "text/plain": [
              "2"
            ]
          },
          "metadata": {},
          "execution_count": 13
        }
      ]
    },
    {
      "cell_type": "code",
      "source": [
        "GCS('sunday', 'saturday')"
      ],
      "metadata": {
        "id": "x24Ov2m-TBA6",
        "outputId": "d68a6425-effb-46f8-c830-7e51b077fa5e",
        "colab": {
          "base_uri": "https://localhost:8080/"
        }
      },
      "execution_count": null,
      "outputs": [
        {
          "output_type": "execute_result",
          "data": {
            "text/plain": [
              "5"
            ]
          },
          "metadata": {},
          "execution_count": 14
        }
      ]
    },
    {
      "cell_type": "markdown",
      "source": [
        "# Наибольшая возрастающая последовательность\n",
        "\n",
        "Найдите среди всех возможных подпоследовательностей данной последовательности монотонно возрастающую подпоследовательность наибольшей длины"
      ],
      "metadata": {
        "id": "Yam5MQgmGe-W"
      }
    },
    {
      "cell_type": "markdown",
      "source": [
        "* Рассмотрим какой-то элемент s[i]. Его можно добавить в любую последовательность, которая заканчивается число, меньшим, чем s[i]. Тогда если есть последовательность длиной k и заканчивающаяся на число, меньше s[i], то можно получить последовательность длиной k + 1.\n",
        "* Чтобы все было ОК, такое добавление должно приводить к улучшению для последовательности длины k + 1. То есть последний элемент последовательности длины k + 1 должен быть не меньше s[i].\n",
        "* Как получить ответ? Нам нужнен индекс первого числа, не равного бесконечности"
      ],
      "metadata": {
        "id": "uH0aBArJbF6c"
      }
    },
    {
      "cell_type": "code",
      "source": [
        "def GAS(s):\n",
        "    # В таблице храним для каждой длины (индекса) последний элемент соответсвующей последовательности\n",
        "    table = [float('inf') for i in range(len(s) + 2)] # нам нужно рассмотреть от 0 и до n + 1 включительно\n",
        "    table[0] = -float('inf') # Для нуля минус бесконечность (это значит, что к нулю можно любую последовательность приделать)\n",
        "\n",
        "    for i in range(len(s)): # Это просто бин поиск. Для каждого элемента мы ищем \n",
        "\n",
        "        left, right = 0, len(s) \n",
        "\n",
        "        while right - left > 1:\n",
        "            mid = (right + left) // 2\n",
        "            if table[mid] >= s[i]:\n",
        "                right = mid\n",
        "            else: \n",
        "                left = mid \n",
        "        table[right] = s[i]\n",
        "\n",
        "    return table.index(float('inf')) - 2 # Тут находим первое вхождение бесконечности и отнимаем 2, так как нужное нам число до нее и еще лишний индекс от нулевого элемента\n"
      ],
      "metadata": {
        "id": "8yCCYOb0YeT3"
      },
      "execution_count": null,
      "outputs": []
    },
    {
      "cell_type": "code",
      "source": [
        "GAS([2, 4, 8, 16, 7, 10, 9, 5, 11, 22, 8, 9])"
      ],
      "metadata": {
        "colab": {
          "base_uri": "https://localhost:8080/"
        },
        "id": "3CpAtPo6SX50",
        "outputId": "6cb7e08b-79b9-466d-a94b-805b3893931b"
      },
      "execution_count": null,
      "outputs": [
        {
          "output_type": "execute_result",
          "data": {
            "text/plain": [
              "6"
            ]
          },
          "metadata": {},
          "execution_count": 15
        }
      ]
    },
    {
      "cell_type": "code",
      "source": [],
      "metadata": {
        "id": "6f62QmWvn2qZ"
      },
      "execution_count": null,
      "outputs": []
    }
  ]
}