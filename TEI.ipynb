{
 "cells": [
  {
   "cell_type": "code",
   "execution_count": 1,
   "id": "684afa50",
   "metadata": {},
   "outputs": [
    {
     "name": "stdout",
     "output_type": "stream",
     "text": [
      "Defaulting to user installation because normal site-packages is not writeable\n",
      "Requirement already satisfied: beautifulsoup4 in /Library/Frameworks/Python.framework/Versions/3.9/lib/python3.9/site-packages (4.10.0)\n",
      "Requirement already satisfied: soupsieve>1.2 in /Library/Frameworks/Python.framework/Versions/3.9/lib/python3.9/site-packages (from beautifulsoup4) (2.3.1)\n",
      "\u001b[33mWARNING: You are using pip version 21.0.1; however, version 23.0.1 is available.\n",
      "You should consider upgrading via the '/Library/Frameworks/Python.framework/Versions/3.9/bin/python3.9 -m pip install --upgrade pip' command.\u001b[0m\n",
      "Defaulting to user installation because normal site-packages is not writeable\n",
      "Requirement already satisfied: python-docx in /Users/Varvara/Library/Python/3.9/lib/python/site-packages (0.8.11)\n",
      "Requirement already satisfied: lxml>=2.3.2 in /Library/Frameworks/Python.framework/Versions/3.9/lib/python3.9/site-packages (from python-docx) (4.9.1)\n",
      "\u001b[33mWARNING: You are using pip version 21.0.1; however, version 23.0.1 is available.\n",
      "You should consider upgrading via the '/Library/Frameworks/Python.framework/Versions/3.9/bin/python3.9 -m pip install --upgrade pip' command.\u001b[0m\n"
     ]
    }
   ],
   "source": [
    "!pip3 install beautifulsoup4\n",
    "from bs4 import BeautifulSoup\n",
    "!pip3 install python-docx\n",
    "from docx import Document\n",
    "from docx.shared import Pt\n",
    "from docx.shared import RGBColor"
   ]
  },
  {
   "cell_type": "code",
   "execution_count": 2,
   "id": "2561e995",
   "metadata": {},
   "outputs": [],
   "source": [
    "import re"
   ]
  },
  {
   "cell_type": "code",
   "execution_count": 3,
   "id": "71bf235e",
   "metadata": {},
   "outputs": [],
   "source": [
    "with open('/Users/Varvara/прога 2 курс/xml_printed_edition/oldrus-tei-26.xml', 'r') as f:\n",
    "    data = f.read()\n",
    "\n",
    "bs_data = BeautifulSoup(data, \"lxml\")"
   ]
  },
  {
   "cell_type": "code",
   "execution_count": 21,
   "id": "b2136d37",
   "metadata": {},
   "outputs": [],
   "source": [
    "entries = bs_data.find_all('entry', {'type':'mainEntry'})"
   ]
  },
  {
   "cell_type": "code",
   "execution_count": 22,
   "id": "4893c16f",
   "metadata": {},
   "outputs": [
    {
     "data": {
      "text/plain": [
       "1646"
      ]
     },
     "execution_count": 22,
     "metadata": {},
     "output_type": "execute_result"
    }
   ],
   "source": [
    "len(entries)"
   ]
  },
  {
   "cell_type": "code",
   "execution_count": 13,
   "id": "e3146117",
   "metadata": {},
   "outputs": [],
   "source": [
    "e = entries[0]"
   ]
  },
  {
   "cell_type": "code",
   "execution_count": 36,
   "id": "9e45a82d",
   "metadata": {},
   "outputs": [],
   "source": [
    "# for e in entries:\n",
    "#     para_entry = document.add_paragraph()\n",
    "#     run_entry_name = para_entry.add_run(e.find('orth').text + ', ')\n",
    "#     run_entry_name.font.size = Pt(14)\n",
    "#     run_entry_name.font.name = 'Times New Roman'\n",
    "#     run_entry_name.bold = True\n",
    "    \n",
    "#     run_entry_def = para_entry.add_run(e.find('def').text + '. ')\n",
    "#     run_entry_def.font.size = Pt(14)\n",
    "#     run_entry_def.font.name = 'Times New Roman'\n",
    "#     run_entry_name.italic = True\n",
    "#     pass"
   ]
  },
  {
   "cell_type": "markdown",
   "id": "f404ffb6",
   "metadata": {},
   "source": [
    "# Варя и Ксюша"
   ]
  },
  {
   "cell_type": "code",
   "execution_count": 26,
   "id": "7c3758bd",
   "metadata": {},
   "outputs": [
    {
     "name": "stdout",
     "output_type": "stream",
     "text": [
      "СНУРЪ <gram type=\"gen\">м.</gram>\n",
      "СНУРОКЪ <gram type=\"gen\">м.</gram>\n",
      "СНУРОЧЕКЪ <gram type=\"gen\">м.</gram>\n",
      "СНЫТКА <gram type=\"gen\">ж.</gram>\n",
      "СНЫТЬ <gram type=\"gen\">ж.</gram>\n",
      "СНЫЦАРЬ <gram type=\"gen\">м.</gram>\n",
      "СНЫЧЬ <gram type=\"gen\">м.</gram>\n",
      "СНЯГА <gram type=\"gen\">ж.</gram>\n",
      "СНЯДЕНИЕ <gram type=\"gen\">с.</gram>\n",
      "СНЯСТЬ <gram type=\"gen\">ж.</gram>\n",
      "СНЯТЪ <gram type=\"gen\">м.</gram>\n",
      "СНЯТИ1 <gram form=\"1sg\">соньму</gram>\n"
     ]
    },
    {
     "ename": "AttributeError",
     "evalue": "'NoneType' object has no attribute 'group'",
     "output_type": "error",
     "traceback": [
      "\u001b[0;31m---------------------------------------------------------------------------\u001b[0m",
      "\u001b[0;31mAttributeError\u001b[0m                            Traceback (most recent call last)",
      "\u001b[0;32m/var/folders/3t/4s3f4kp91gqb5r1p8qlhlv300000gp/T/ipykernel_3226/2435704622.py\u001b[0m in \u001b[0;36m<module>\u001b[0;34m\u001b[0m\n\u001b[1;32m     15\u001b[0m         \u001b[0;32melse\u001b[0m\u001b[0;34m:\u001b[0m\u001b[0;34m\u001b[0m\u001b[0;34m\u001b[0m\u001b[0m\n\u001b[1;32m     16\u001b[0m             \u001b[0mprint\u001b[0m\u001b[0;34m(\u001b[0m\u001b[0mword\u001b[0m\u001b[0;34m,\u001b[0m \u001b[0mgram\u001b[0m\u001b[0;34m)\u001b[0m\u001b[0;34m\u001b[0m\u001b[0;34m\u001b[0m\u001b[0m\n\u001b[0;32m---> 17\u001b[0;31m             \u001b[0mgram_type\u001b[0m \u001b[0;34m=\u001b[0m \u001b[0mre\u001b[0m\u001b[0;34m.\u001b[0m\u001b[0msearch\u001b[0m\u001b[0;34m(\u001b[0m\u001b[0;34mr'type=\"(.*)\"'\u001b[0m\u001b[0;34m,\u001b[0m \u001b[0mstr\u001b[0m\u001b[0;34m(\u001b[0m\u001b[0mgram\u001b[0m\u001b[0;34m)\u001b[0m\u001b[0;34m)\u001b[0m\u001b[0;34m.\u001b[0m\u001b[0mgroup\u001b[0m\u001b[0;34m(\u001b[0m\u001b[0;36m1\u001b[0m\u001b[0;34m)\u001b[0m\u001b[0;34m\u001b[0m\u001b[0;34m\u001b[0m\u001b[0m\n\u001b[0m\u001b[1;32m     18\u001b[0m         \u001b[0mentry_inf\u001b[0m\u001b[0;34m[\u001b[0m\u001b[0;34m'gram_type'\u001b[0m\u001b[0;34m]\u001b[0m \u001b[0;34m=\u001b[0m \u001b[0mgram_type\u001b[0m\u001b[0;34m\u001b[0m\u001b[0;34m\u001b[0m\u001b[0m\n\u001b[1;32m     19\u001b[0m         \u001b[0mentry_inf\u001b[0m\u001b[0;34m[\u001b[0m\u001b[0;34m'gram_value'\u001b[0m\u001b[0;34m]\u001b[0m \u001b[0;34m=\u001b[0m \u001b[0mgram_value\u001b[0m\u001b[0;34m\u001b[0m\u001b[0;34m\u001b[0m\u001b[0m\n",
      "\u001b[0;31mAttributeError\u001b[0m: 'NoneType' object has no attribute 'group'"
     ]
    }
   ],
   "source": [
    "for e in entries:\n",
    "    entry_inf = dict()\n",
    "    if e.find('form', {'type': 'lemma'})is not None:\n",
    "        word = e.find('form').find('orth').text\n",
    "    #     print(word)\n",
    "        entry_inf['word'] = word\n",
    "        if e.find('form', {'type': 'variant'}) is not None:\n",
    "            variant = e.find('form', {'type': 'variant'}).text\n",
    "    #         print(variant)\n",
    "            entry_inf['variant'] = variant\n",
    "        gram = e.find('gram')\n",
    "        gram_value = gram.text\n",
    "        if re.search(r'value=\"(.*)\"', str(gram)) is not None:\n",
    "            gram_type = re.search(r'value=\"(.*)\"', str(gram)).group(1)\n",
    "        else:\n",
    "            print(word, gram)\n",
    "            gram_type = re.search(r'type=\"(.*)\"', str(gram)).group(1)\n",
    "        entry_inf['gram_type'] = gram_type\n",
    "        entry_inf['gram_value'] = gram_value\n",
    "    #     print(gram_type, gram_value)\n",
    "        senses =  e.find_all('sense')\n",
    "        sns = dict()\n",
    "        if len(senses) > 0:\n",
    "            for s in senses:\n",
    "                meaning = s.find('def').text\n",
    "    #             print(meaning)\n",
    "                examples = s.find_all('cit', {'type': 'example'})\n",
    "                exmpls =[]\n",
    "                for ex in examples:\n",
    "                    quote = ex.find('quote').text\n",
    "                    bibl = ex.find('bibl').text\n",
    "    #                 print((quote, bibl))\n",
    "                    exmpls.append((quote, bibl))\n",
    "                sns[meaning] = exmpls\n",
    "\n",
    "        else:\n",
    "            meaning = e.find('def').text\n",
    "    #         print(meaning)\n",
    "            examples = e.find_all('cit', {'type': 'example'})\n",
    "            exmpls =[]\n",
    "            for ex in examples:\n",
    "                quote = ex.find('quote').text\n",
    "                bibl = ex.find('bibl').text\n",
    "    #             print(quote, bibl)\n",
    "                exmpls.append((quote, bibl))\n",
    "            sns[meaning] = exmpls\n",
    "        entry_inf['senses'] = sns\n",
    "        \n",
    "entry_inf"
   ]
  },
  {
   "cell_type": "code",
   "execution_count": 20,
   "id": "76805a10",
   "metadata": {},
   "outputs": [
    {
     "data": {
      "text/plain": [
       "{'word': 'СНУРЪ',\n",
       " 'gram_type': 'gen',\n",
       " 'gram_value': 'м.',\n",
       " 'senses': {'Шнур (ср. ст.-нем. snuor,snur).': [('У той грамоты привешена на шелко¬вом снуру из краснаго воску печать.',\n",
       "    'Ка¬бард.-рус. д., 35. 1578 г.'),\n",
       "   ('Снуръ по отласу почервчатому низанъ жемчугомъ большимъ съканителью.',\n",
       "    'Плат. ц. Евд. Лук., 122. 1642 г.'),\n",
       "   ('Върамѣ золоченомъ персона ц<аря> ФедораАл<ексеевича>, писанъ на холстахъ, передънимъ на снуру шелковомъ коруна слюденаяза стекломъ.',\n",
       "    'Заб. Дом. быт., I, 562. 1677 г.')],\n",
       "  'Фитиль для поджигания пороха пристрельбе.': [('Зел<ь>я пищал<ь>ног<о> купи¬ли на 11 ал҃тнъ з денгою, снур да порошни¬цу, да жагры, да свинцу на 5 ал҃тнъ з денгою.',\n",
       "    'Кн. прих.-расх. Кир. м., № 3, 10. 1581 г.')]}}"
      ]
     },
     "execution_count": 20,
     "metadata": {},
     "output_type": "execute_result"
    }
   ],
   "source": [
    "entry_inf = dict()\n",
    "if e.find('form', {'type': 'lemma'})is not None:\n",
    "    word = e.find('form').find('orth').text\n",
    "#     print(word)\n",
    "    entry_inf['word'] = word\n",
    "    if e.find('form', {'type': 'variant'}) is not None:\n",
    "        variant = e.find('form', {'type': 'variant'}).text # постоянный ключ\n",
    "#         print(variant)\n",
    "        entry_inf['variant'] = variant\n",
    "    gram = e.find('gram')\n",
    "    gram_value = gram.text\n",
    "    if re.search(r'value=\"(.*)\"', str(gram)) is not None:\n",
    "        gram_type = re.search(r'value=\"(.*)\"', str(gram)).group(1)\n",
    "    else:\n",
    "        gram_type = re.search(r'type=\"(.*)\"', str(gram)).group(1)\n",
    "    entry_inf['gram_type'] = gram_type\n",
    "    entry_inf['gram_value'] = gram_value\n",
    "#     print(gram_type, gram_value)\n",
    "    senses =  e.find_all('sense')\n",
    "    sns = dict()\n",
    "    if len(senses) > 0:\n",
    "        for s in senses:\n",
    "            meaning = s.find('def').text\n",
    "#             print(meaning)\n",
    "            examples = s.find_all('cit', {'type': 'example'})\n",
    "            exmpls =[]\n",
    "            for ex in examples:\n",
    "                quote = ex.find('quote').text\n",
    "                bibl = ex.find('bibl').text\n",
    "#                 print((quote, bibl))\n",
    "                exmpls.append((quote, bibl))\n",
    "            sns[meaning] = exmpls\n",
    "                    \n",
    "    else:\n",
    "        meaning = e.find('def').text\n",
    "#         print(meaning)\n",
    "        examples = e.find_all('cit', {'type': 'example'})\n",
    "        exmpls =[]\n",
    "        for ex in examples:\n",
    "            quote = ex.find('quote').text\n",
    "            bibl = ex.find('bibl').text\n",
    "#             print(quote, bibl)\n",
    "            exmpls.append((quote, bibl))\n",
    "        sns[meaning] = exmpls\n",
    "    entry_inf['senses'] = sns\n",
    "    \n",
    "entry_inf"
   ]
  },
  {
   "cell_type": "markdown",
   "id": "49ced203",
   "metadata": {},
   "source": [
    "# Варя и Филипп"
   ]
  },
  {
   "cell_type": "code",
   "execution_count": 84,
   "id": "09401216",
   "metadata": {},
   "outputs": [],
   "source": [
    "def text_style(run, st='plain'):\n",
    "    run.font.size = Pt(14)\n",
    "    run.font.name = 'Times New Roman'\n",
    "    if st == 'bold':\n",
    "        run.bold = True\n",
    "    elif st == 'italic':\n",
    "        run.italic = True\n",
    "    \n",
    "    return run\n",
    "        "
   ]
  },
  {
   "cell_type": "code",
   "execution_count": 87,
   "id": "68087d5b",
   "metadata": {},
   "outputs": [],
   "source": [
    "document = Document()\n",
    "for e in entries:\n",
    "    if e.find('form')is not None:\n",
    "        para_font = document.add_paragraph()\n",
    "        \n",
    "        if e.find('form').contents[0].find('hi', {'rend': 'sup'}) is not None:\n",
    "            sup = e.find('form').contents[0].find('hi', {'rend': 'sup'}).text\n",
    "            word = e.find('form').find('orth').text[:-1]\n",
    "            run1 = para_font.add_run(word)\n",
    "            text_style(run1, 'bold')\n",
    "            run2 = para_font.add_run(sup)\n",
    "            text_style(run2, 'bold').font.superscript = True\n",
    "            para_font.add_run(',')\n",
    "            document.save(\"paragraphs.docx\")\n",
    "        else:\n",
    "            word = e.find('form').find('orth').text\n",
    "            run1 = para_font.add_run(word)\n",
    "            text_style(run1, 'bold')\n",
    "            variant = e.find('form', {'type': 'variant'})\n",
    "            \n",
    "            if e.find('form', {'type': 'variant'}) is not None:\n",
    "                variant = e.find('form', {'type': 'variant'}).text\n",
    "                run2 = para_font.add_run(' (')\n",
    "                text_style(run2)\n",
    "                run21 = para_font.add_run(variant)\n",
    "                text_style(run21, 'bold')\n",
    "                run22 = para_font.add_run(')')\n",
    "                text_style(run22)\n",
    "            \n",
    "            para_font.add_run(',')\n",
    "            document.save(\"paragraphs.docx\")\n",
    "        \n",
    "        if e.find('gramGrp') is not None:\n",
    "            gram = e.find('gramGrp').text\n",
    "            run3 = para_font.add_run(' ' + gram)\n",
    "            text_style(run3, 'italic')\n",
    "            para_font.add_run('. ')\n",
    "            document.save(\"paragraphs.docx\")\n",
    "            \n",
    "        \n",
    "        "
   ]
  },
  {
   "cell_type": "code",
   "execution_count": 45,
   "id": "638c7bf5",
   "metadata": {},
   "outputs": [],
   "source": [
    "document = Document()\n",
    "if entries[0].find('form').contents[0].find('hi', {'rend': 'sup'}) is not None:\n",
    "    para_font = document.add_paragraph()\n",
    "    sup = entries[0].find('form').contents[0].find('hi', {'rend': 'sup'}).text\n",
    "    word = entries[0].find('form').find('orth').text[:-1]\n",
    "    run1 = para_font.add_run(word)\n",
    "    text_style(run1, 'bold')\n",
    "    run2 = para_font.add_run(sup)\n",
    "    text_style(run2, 'bold').font.superscript = True\n",
    "    para_font.add_run(', ')\n",
    "    document.save(\"paragraphs.docx\")"
   ]
  },
  {
   "cell_type": "code",
   "execution_count": 73,
   "id": "9f06edc4",
   "metadata": {},
   "outputs": [
    {
     "name": "stdout",
     "output_type": "stream",
     "text": [
      "АБАБЪ ОБАБЪ\n",
      "1\n",
      "А1\n"
     ]
    }
   ],
   "source": [
    "print(entries[4].find('form', {'type': 'lemma'}).text, entries[4].find('form', {'type': 'variant'}).text)\n",
    "print(entries[0].find('form', {'type': 'lemma'}).contents[0].find('hi', {'rend': 'sup'}).text)\n",
    "print(entries[0].find('form', {'type': 'lemma'}).find('orth').text)"
   ]
  },
  {
   "cell_type": "code",
   "execution_count": 78,
   "id": "cd566e25",
   "metadata": {},
   "outputs": [
    {
     "name": "stdout",
     "output_type": "stream",
     "text": [
      "союз\n"
     ]
    }
   ],
   "source": [
    "print(entries[1].find('gramGrp').text)"
   ]
  },
  {
   "cell_type": "code",
   "execution_count": 80,
   "id": "c331262e",
   "metadata": {},
   "outputs": [
    {
     "name": "stdout",
     "output_type": "stream",
     "text": [
      "А2, союз\n",
      "['I. соединительный.', 'Соответ¬ствует и.', 'А идетъ отъ того жеребья полко¬лоды меду а полведра а полбобьра а пол¬тора въска. (Дан. киев. кн.) РИБ II, 6.1392 г.', 'Два брата жили у царицы вверху,а оба умерли в моръ и з женами и з дѣтми.Ав. Ж., 20. 1673 г.', '']\n",
      "\n",
      "['II. присоединительный.', '']\n",
      "\n",
      "['А. ', '      Присоединя¬ет синтаксически независимое предложениеили часть предложения и близок по значе¬нию:', '']\n",
      "\n",
      "['1. ', '      И еще, а также, притом, причем(присоединяет уточняющее или дополняю¬щее предложение или часть предложения).', 'Рассушясь стрѣлами по полю, помчашакрасныя дѣвкы половецкыя, а съ нимизлато, и паволокы, и драгыя оксамиты.Сл. о п. Иг., 10.', 'И оттоле итти до Дамаскаграда три дни, а ходятъ на аслятехъ, аитти по заразамъ и по горамъ по камен¬нымъ, а путь велми труденъ. Х. Тр. Ко¬роб., 4. XVII в. ~ 1594 г.', '']\n",
      "\n",
      "['2. ', '      И... и... и,да... да... да (присоединяет однородные пред¬ложения при перечислении).', 'А отъ Рита доЗевеля 20 верстъ, а отъ Зевеля до Триполя40 верстъ, а отъ Триполя до рѣки Судии60 верстъ. Х. Дан. иг., 90. 1496 г. ~ 1113 г.', 'Ужо нам, братие, в земли своей не бывати,а детей своих не видати, а катун своих нетрепати. Задон. (Рж.), 15. XVI в. ~ XIV в.', '']\n",
      "\n",
      "['Б. ', '      Присоединяет синтаксически зависи¬мое предложение или часть предложения(иногда в сочетании с другими союзами) иблизок по значению:', '']\n",
      "\n",
      "['1. ', '      Если же, когда же.', 'А послух не говорит перед судиями высцевы речи, и истецъ тѣм и виноват.Суд. Ив. III, 26. 1497 г.', 'А егда положатъхристиянина праведнаго или грѣшнаго,а лежитъ тѣло 40 дний и мяхко и цѣло.Х. Тр. Короб., 37. XVII в. ~ 1594 г.', '']\n",
      "\n",
      "['2. ', '      Так как, потому что, вследствие.', 'Коли¬ку в морѣ бѣду подъяхомъ, а надѣяся натвои молитвы. Ж. Зос. С., 99. XVII в.~ 1503 г.', '']\n",
      "\n",
      "['3. ', '      С целью того чтобы, для тогочтобы.', 'Ѣздилъ Гарасимъ въ вотчину въподмосковную для монастырсково дѣла,а купити въ вотчину про гость рыбки иселдей, и колачей. Кн. расх. Болд. м.,49. 1586 г.', '']\n",
      "\n",
      "['III. начинательный.', '(Начинает новоепредложение или период).', '(1096): Олегь жевышед изъ Стародуба и иде Смоленску,и не приаша его смолняне, и иде к Рязаню.А Святополкъ и Володимеръ идоста въсвоаси. Моск. лет., 16.', '(1375): А въ Тфѣриградѣ бышетъ скорбь не мала, акаже небывала въ мимошедшаа лѣта и моръ налюди и на скотъ. А надѣялися помочи отълитвы и отъ татаръ, жда тоя помощи многодоспѣлося погыбели. Рог. лет., 112.', '']\n",
      "\n",
      "['‖', '      И так, и вот (в начале прямой речи).', '(1016): И рѣша ему новгородци: а мы, кня¬же, по тобѣ идемъ. Новг. I лет., 82.', '']\n",
      "\n",
      "['IV. противительный.', 'Соответствует позначению но, же.', '(1078): Похвалявся велми,а не вѣды, яко богъ гордымъ противится.Моск. лет., 12.', 'Предѣлы, государь, ещене освящены, а состроены и готовы сов¬сѣм. Дон. д. IV, 556. 1652 г.', 'А тѣ де кре¬стьяня... сошли въ пустыню собою, и вътой пустынѣ заморились, а не отъ его Ле¬онтьева насилства и блудного дѣла. ДАИX, 78. 1682 г.', '']\n",
      "\n",
      "['V. сопоставительный.', 'Близок по значе¬нию между тем как, в то время как.', 'Въсякъхитръ и мудръ о чужде бѣде, а о своейсмыслити не можетъ. Александрия (Вяз.),1. XVII в. ~ XII в.', 'Вси бо кораблениципоплуша, а мы здѣ есмы. ВМЧ, Дек. 606.', '18А3 - Абрѣдие', 'XVI в.', '']\n",
      "\n"
     ]
    }
   ],
   "source": [
    "a, b = entries[1].find('form', {'type': 'lemma'}), entries[1].find('gramGrp')\n",
    "print(a.text + ', ' + b.text)\n",
    "\n",
    "\n",
    "\n",
    "c = entries[1].find_all('sense')\n",
    "for _ in c:\n",
    "    print(_.text.split('\\n'))\n",
    "    print('')\n",
    "\n",
    "        "
   ]
  },
  {
   "cell_type": "markdown",
   "id": "8243a056",
   "metadata": {},
   "source": [
    "# Попытки записать красиво"
   ]
  },
  {
   "cell_type": "code",
   "execution_count": 13,
   "id": "2dc7a5af",
   "metadata": {},
   "outputs": [],
   "source": [
    "document = Document()"
   ]
  },
  {
   "cell_type": "code",
   "execution_count": 16,
   "id": "6bced77b",
   "metadata": {},
   "outputs": [],
   "source": [
    "# \n",
    "para_font = document.add_paragraph()\n",
    "run = para_font.add_run(entries[0].find('orth').text + '\\n')\n",
    "run.font.superscript = True\n",
    "#text_style(run, \"bold\")\n",
    "# run.font.size = Pt(14) # font size\n",
    "# run.font.name = 'Times New Roman' # font name\n",
    "# run.bold = True"
   ]
  },
  {
   "cell_type": "code",
   "execution_count": 14,
   "id": "94f2d187",
   "metadata": {},
   "outputs": [],
   "source": [
    "p = document.add_paragraph('Normal text with ')\n",
    "\n",
    "super_text = p.add_run('superscript text')\n",
    "super_text.font.superscript = True\n",
    "\n",
    "p.add_run(' and ')\n",
    "\n",
    "sub_text = p.add_run('subscript text')\n",
    "sub_text.font.subscript = True"
   ]
  },
  {
   "cell_type": "code",
   "execution_count": 17,
   "id": "4f2226e2",
   "metadata": {},
   "outputs": [],
   "source": [
    "document.save(\"paragraphs.docx\")"
   ]
  },
  {
   "cell_type": "code",
   "execution_count": null,
   "id": "edb134d8",
   "metadata": {},
   "outputs": [],
   "source": []
  }
 ],
 "metadata": {
  "kernelspec": {
   "display_name": "Python 3 (ipykernel)",
   "language": "python",
   "name": "python3"
  },
  "language_info": {
   "codemirror_mode": {
    "name": "ipython",
    "version": 3
   },
   "file_extension": ".py",
   "mimetype": "text/x-python",
   "name": "python",
   "nbconvert_exporter": "python",
   "pygments_lexer": "ipython3",
   "version": "3.9.2"
  }
 },
 "nbformat": 4,
 "nbformat_minor": 5
}
