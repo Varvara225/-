{
  "cells": [
    {
      "cell_type": "markdown",
      "metadata": {
        "id": "view-in-github",
        "colab_type": "text"
      },
      "source": [
        "<a href=\"https://colab.research.google.com/github/Varvara225/3-year-programming/blob/main/some_python.ipynb\" target=\"_parent\"><img src=\"https://colab.research.google.com/assets/colab-badge.svg\" alt=\"Open In Colab\"/></a>"
      ]
    },
    {
      "cell_type": "markdown",
      "id": "69d32f10",
      "metadata": {
        "id": "69d32f10"
      },
      "source": [
        "# Повторяем питон"
      ]
    },
    {
      "cell_type": "markdown",
      "id": "990a7dc9",
      "metadata": {
        "id": "990a7dc9"
      },
      "source": [
        "## 0. Импорты"
      ]
    },
    {
      "cell_type": "code",
      "execution_count": null,
      "id": "d0fb07f1",
      "metadata": {
        "id": "d0fb07f1"
      },
      "outputs": [],
      "source": [
        "import pandas as pd\n",
        "import scipy as sp\n",
        "import numpy as np\n",
        "import random\n",
        "import os\n",
        "import json\n",
        "import sys\n",
        "from tqdm import tqdm\n",
        "import random\n",
        "\n",
        "import nltk\n",
        "from nltk.tokenize import word_tokenize\n",
        "from nltk.corpus import stopwords\n",
        "import pymorphy2\n",
        "\n",
        "from sklearn.datasets import make_classification\n",
        "from sklearn.feature_extraction.text import CountVectorizer\n",
        "from scipy.sparse import csr_array"
      ]
    },
    {
      "cell_type": "code",
      "execution_count": null,
      "id": "bd730d44",
      "metadata": {
        "id": "bd730d44"
      },
      "outputs": [],
      "source": [
        "morph = pymorphy2.MorphAnalyzer()\n",
        "stops = stopwords.words('russian')\n",
        "# nltk.download('punkt')"
      ]
    },
    {
      "cell_type": "markdown",
      "id": "e9a03b23",
      "metadata": {
        "id": "e9a03b23"
      },
      "source": [
        "## 1. Про пути"
      ]
    },
    {
      "cell_type": "markdown",
      "id": "2a4be095",
      "metadata": {
        "id": "2a4be095"
      },
      "source": [
        "- Абсолютные пути - это очень плохая идея в любом проекте серьезнее домашки первого курса. Причина: скорее всего кто-то (преподаватель, ассистент, коллега, ученик) будет пытаться запускать ваш код, и будет очень расстроен, если ему придется лезть вглубь каких-то непонятных ему функций просто для того, чтобы прпавильно прочитать файл\n",
        "</br>Например, из папки `/Users/some_user/study/something` лучше обозначить путь так: `/some_dir`, чем так: `/Users/some_user/study/something/some_dir`\n",
        "- Старайтесь собирать пути через `os.path.join` (или любую другую либу), так как он умеет внутри себя учитывать особенности типа наклона слэша (как вы знаете, он разный у unix-based систем и windows)\n",
        "- Вообще, библиотека `os` сейчас уже скорее deprecated, все стараются пользоваться `pathlib`, но для каких-то простых штук старая библиотека все еще удобнее, так как намного проще. Но использование красивых решений поощряется :)"
      ]
    },
    {
      "cell_type": "markdown",
      "id": "d98ea1f9",
      "metadata": {
        "id": "d98ea1f9"
      },
      "source": [
        "## 2. Нотация"
      ]
    },
    {
      "cell_type": "code",
      "execution_count": null,
      "id": "ab5a666a",
      "metadata": {
        "id": "ab5a666a"
      },
      "outputs": [],
      "source": [
        "def do_something(lst: list[str], bad: bool = False) -> list[str]:\n",
        "    '''\n",
        "    This function does something (bad or good) to list\n",
        "    :param lst: list of input strings\n",
        "    :param bad: marker if bad action should be done\n",
        "    :return: sorted (or not...) input list\n",
        "    '''\n",
        "    if bad:\n",
        "        random.shuffle(lst)\n",
        "        return lst\n",
        "    else:\n",
        "        return sorted(lst)"
      ]
    },
    {
      "cell_type": "code",
      "execution_count": null,
      "id": "ffcefa49",
      "metadata": {
        "id": "ffcefa49"
      },
      "outputs": [],
      "source": [
        "lst = ['python', 'anaconda', 'spider', 'zoo']"
      ]
    },
    {
      "cell_type": "code",
      "execution_count": null,
      "id": "2ee65539",
      "metadata": {
        "id": "2ee65539"
      },
      "outputs": [],
      "source": [
        "do_something(lst, bad=False)"
      ]
    },
    {
      "cell_type": "code",
      "execution_count": null,
      "id": "4a854209",
      "metadata": {
        "id": "4a854209"
      },
      "outputs": [],
      "source": [
        "do_something(lst, bad=True)"
      ]
    },
    {
      "cell_type": "markdown",
      "id": "0a7586e2",
      "metadata": {
        "id": "0a7586e2"
      },
      "source": [
        "## 3. Ссылки & Co"
      ]
    },
    {
      "cell_type": "markdown",
      "id": "877bb749",
      "metadata": {
        "id": "877bb749"
      },
      "source": [
        "Питон хранит все данные по ссылке, иногда это создает проблемы в неожиданных местах. `id()` - функция, которая позволяет получить индивидуальный номер объекта (а в питоне все объекты), то есть узнать, как питон ссылается на него в памяти"
      ]
    },
    {
      "cell_type": "code",
      "execution_count": null,
      "id": "11998fae",
      "metadata": {
        "id": "11998fae"
      },
      "outputs": [],
      "source": [
        "a = 0\n",
        "b = 1\n",
        "a_list = [0, b]\n",
        "id(0), id(a), id(a_list[0])"
      ]
    },
    {
      "cell_type": "code",
      "execution_count": null,
      "id": "46f8d191",
      "metadata": {
        "id": "46f8d191"
      },
      "outputs": [],
      "source": [
        "id(1), id(b), id(a_list[1])"
      ]
    },
    {
      "cell_type": "markdown",
      "id": "4dda257e",
      "metadata": {
        "id": "4dda257e"
      },
      "source": [
        "А вот с более сложными типами будет интереснее. Какой ответ ожидается в ячейке ниже?"
      ]
    },
    {
      "cell_type": "code",
      "execution_count": null,
      "id": "53145834",
      "metadata": {
        "id": "53145834"
      },
      "outputs": [],
      "source": [
        "test_lst1 = [0, 4, 7, 9]\n",
        "test_lst2 = [2, 6, 3, 8]\n",
        "test_lst3 = [0, 4, 7, 9]\n",
        "id(test_lst1), id(test_lst2), id(test_lst3)"
      ]
    },
    {
      "cell_type": "markdown",
      "id": "129d6849",
      "metadata": {
        "id": "129d6849"
      },
      "source": [
        "А теперь?"
      ]
    },
    {
      "cell_type": "code",
      "execution_count": null,
      "id": "479ef952",
      "metadata": {
        "id": "479ef952"
      },
      "outputs": [],
      "source": [
        "test_lst4 = test_lst1\n",
        "id(test_lst1), id(test_lst3), id(test_lst4)"
      ]
    },
    {
      "cell_type": "markdown",
      "id": "adb46543",
      "metadata": {
        "id": "adb46543"
      },
      "source": [
        "Еще есть прикольная функция `sys.getrefcount`. Я слабо себе представляю, как она может пригодиться вам в жизни (если вы не занимаетесь хардкодом, но тогда вы скорее всего делаете это не на питоне...), но понять хранение питона точно поможет. Надо заметить, что эта функция внутри себя создает еще одну ссылку (возможно, для очень сложным структур больше, но тут я не уверена), так что полученное значение надо уменьшать на единицу"
      ]
    },
    {
      "cell_type": "code",
      "execution_count": null,
      "id": "bf081d82",
      "metadata": {
        "id": "bf081d82"
      },
      "outputs": [],
      "source": [
        "sys.getrefcount([])"
      ]
    },
    {
      "cell_type": "code",
      "execution_count": null,
      "id": "c2bbe7f7",
      "metadata": {
        "id": "c2bbe7f7"
      },
      "outputs": [],
      "source": [
        "sys.getrefcount(test_lst2)"
      ]
    },
    {
      "cell_type": "code",
      "execution_count": null,
      "id": "2cd3243e",
      "metadata": {
        "id": "2cd3243e"
      },
      "outputs": [],
      "source": [
        "sys.getrefcount(test_lst1)"
      ]
    },
    {
      "cell_type": "code",
      "execution_count": null,
      "id": "59530216",
      "metadata": {
        "id": "59530216"
      },
      "outputs": [],
      "source": [
        "sys.getrefcount(test_lst4)"
      ]
    },
    {
      "cell_type": "markdown",
      "id": "4881ddc3",
      "metadata": {
        "id": "4881ddc3"
      },
      "source": [
        "А вот ниже мы, кажется, случайно увидели что-то очень для питона приватное: мы явно не ссылаемся на нули в таком количестве, значит, это информация о ссылках во внутренней струкутре питоне"
      ]
    },
    {
      "cell_type": "code",
      "execution_count": null,
      "id": "708f0098",
      "metadata": {
        "id": "708f0098"
      },
      "outputs": [],
      "source": [
        "sys.getrefcount(0), sys.getrefcount(True), sys.getrefcount(None)"
      ]
    },
    {
      "cell_type": "markdown",
      "id": "f4038073",
      "metadata": {
        "id": "f4038073"
      },
      "source": [
        "Итак, с более сложными струкутрами данных питон начинает мухлевать и экономить усилия, дублируя в памяти ссылки, а не сами объекты. Это может ускорить работу и сэкономить память, но провоцирует опасные ситуации. Не баг, а фича, но фича с подвохом."
      ]
    },
    {
      "cell_type": "markdown",
      "id": "ef425406",
      "metadata": {
        "id": "ef425406"
      },
      "source": [
        "Теперь о подвохах"
      ]
    },
    {
      "cell_type": "code",
      "execution_count": null,
      "id": "682ecdbe",
      "metadata": {
        "id": "682ecdbe"
      },
      "outputs": [],
      "source": [
        "test_lst1, test_lst3, test_lst4"
      ]
    },
    {
      "cell_type": "code",
      "execution_count": null,
      "id": "a9ca413c",
      "metadata": {
        "id": "a9ca413c"
      },
      "outputs": [],
      "source": [
        "test_lst1.append(10)"
      ]
    },
    {
      "cell_type": "markdown",
      "id": "99428c28",
      "metadata": {
        "id": "99428c28"
      },
      "source": [
        "Что мы ожидаем увидеть?"
      ]
    },
    {
      "cell_type": "code",
      "execution_count": null,
      "id": "ee5416fa",
      "metadata": {
        "id": "ee5416fa"
      },
      "outputs": [],
      "source": [
        "test_lst1, test_lst3, test_lst4"
      ]
    },
    {
      "cell_type": "markdown",
      "id": "593e358a",
      "metadata": {
        "id": "593e358a"
      },
      "source": [
        "Теперь о менее очевидном, но более опасном\n",
        "</br>\n",
        "Пусть надо написать функцию, которая считает сумму всех элементов в двух списках. Узнав о классной встроенной функции `sum()` мы решили, что просто сложим все элемерты в первый список и посчитаем сумму. Тут со стороны кажется, что сплошные плюсы: мы экономим строки кода, экономим место в переменных..."
      ]
    },
    {
      "cell_type": "code",
      "execution_count": null,
      "id": "a5499732",
      "metadata": {
        "id": "a5499732"
      },
      "outputs": [],
      "source": [
        "def test_func1(lst1, lst2):\n",
        "    lst1 += lst2\n",
        "    return sum(lst1)"
      ]
    },
    {
      "cell_type": "code",
      "execution_count": null,
      "id": "d9193496",
      "metadata": {
        "id": "d9193496"
      },
      "outputs": [],
      "source": [
        "test_func1(test_lst1, test_lst2)"
      ]
    },
    {
      "cell_type": "markdown",
      "id": "3bbe3160",
      "metadata": {
        "id": "3bbe3160"
      },
      "source": [
        "Что будет выведено дальше?"
      ]
    },
    {
      "cell_type": "code",
      "execution_count": null,
      "id": "f96510d9",
      "metadata": {
        "id": "f96510d9"
      },
      "outputs": [],
      "source": [
        "test_lst1, test_lst2"
      ]
    },
    {
      "cell_type": "markdown",
      "id": "e8b859c3",
      "metadata": {
        "id": "e8b859c3"
      },
      "source": [
        "А тепреь еще интереснее"
      ]
    },
    {
      "cell_type": "code",
      "execution_count": null,
      "id": "9fa26927",
      "metadata": {
        "id": "9fa26927"
      },
      "outputs": [],
      "source": [
        "test_lst4"
      ]
    },
    {
      "cell_type": "markdown",
      "id": "f81bb89c",
      "metadata": {
        "id": "f81bb89c"
      },
      "source": [
        "Казалось бы, и в первом, и во втором случае мы его вообще не трогали, во втором мы еще и не сохраняли никуда резульатат, но питон все решил за нас. Если кому-то хочется пример из жизни, то у меня есть \"увлекательная\" история о том, как мне это усложнило работу над курсовой :)"
      ]
    },
    {
      "cell_type": "markdown",
      "id": "1634bcb5",
      "metadata": {
        "id": "1634bcb5"
      },
      "source": [
        "Еще один пример, теперь про значения по умолчанию. Пусть нам надо написать функцию, которая получает на вход список пассажиров автобуса, имя пассажира и маркер того, что надо сделать: высадить или посадить. По умолчанию автобус пустой"
      ]
    },
    {
      "cell_type": "code",
      "execution_count": null,
      "id": "26b84bdc",
      "metadata": {
        "id": "26b84bdc"
      },
      "outputs": [],
      "source": [
        "def bus_func(bus=[], name=None, take=True):\n",
        "    if name is not None:\n",
        "        if take:\n",
        "            bus.append(name)\n",
        "        else:\n",
        "            if name in bus:\n",
        "                bus.remove(name) # высаживаем первого пассажира с таким именем... кому-то не повезет :)\n",
        "    return bus"
      ]
    },
    {
      "cell_type": "markdown",
      "id": "92ca9aea",
      "metadata": {
        "id": "92ca9aea"
      },
      "source": [
        "Проверяем, что все работает"
      ]
    },
    {
      "cell_type": "code",
      "execution_count": null,
      "id": "440e6e68",
      "metadata": {
        "id": "440e6e68"
      },
      "outputs": [],
      "source": [
        "my_bus = []\n",
        "my_bus = bus_func(my_bus, 'Kate', True)\n",
        "my_bus"
      ]
    },
    {
      "cell_type": "code",
      "execution_count": null,
      "id": "d5b94386",
      "metadata": {
        "id": "d5b94386"
      },
      "outputs": [],
      "source": [
        "my_bus = bus_func(my_bus, 'Max', True)\n",
        "my_bus = bus_func(my_bus, 'Kate', False)\n",
        "my_bus"
      ]
    },
    {
      "cell_type": "markdown",
      "id": "e1d6a12e",
      "metadata": {
        "id": "e1d6a12e"
      },
      "source": [
        "Посадим в пустой автобус кого-нибудь еще"
      ]
    },
    {
      "cell_type": "code",
      "execution_count": null,
      "id": "d839d68e",
      "metadata": {
        "id": "d839d68e"
      },
      "outputs": [],
      "source": [
        "my_bus2 = bus_func(name='Alice', take=True)\n",
        "my_bus2 = bus_func(my_bus2, 'Peter', True)\n",
        "my_bus2"
      ]
    },
    {
      "cell_type": "markdown",
      "id": "6d1800ed",
      "metadata": {
        "id": "6d1800ed"
      },
      "source": [
        "Теперь в другой пустой автобус"
      ]
    },
    {
      "cell_type": "code",
      "execution_count": null,
      "id": "f387f0ba",
      "metadata": {
        "id": "f387f0ba"
      },
      "outputs": [],
      "source": [
        "my_bus3 = bus_func(name='John', take=True)\n",
        "my_bus3"
      ]
    },
    {
      "cell_type": "markdown",
      "id": "576cff9a",
      "metadata": {
        "id": "576cff9a"
      },
      "source": [
        "И сделаем просто пустой автобус. Вдруг пригодится"
      ]
    },
    {
      "cell_type": "code",
      "execution_count": null,
      "id": "d4a40bbf",
      "metadata": {
        "id": "d4a40bbf"
      },
      "outputs": [],
      "source": [
        "my_bus4 = bus_func()\n",
        "my_bus4"
      ]
    },
    {
      "cell_type": "markdown",
      "id": "fa27df5c",
      "metadata": {
        "id": "fa27df5c"
      },
      "source": [
        "Вспомним про второй автобус и высадим кого-нибудь оттуда"
      ]
    },
    {
      "cell_type": "code",
      "execution_count": null,
      "id": "f96e15e7",
      "metadata": {
        "id": "f96e15e7"
      },
      "outputs": [],
      "source": [
        "my_bus2 = bus_func(my_bus3, 'Peter', False)\n",
        "my_bus2"
      ]
    },
    {
      "cell_type": "markdown",
      "id": "ddecbf6d",
      "metadata": {
        "id": "ddecbf6d"
      },
      "source": [
        "А теперь посмотрим, что же произошло с функцией. У каждой функции есть атрибут `__defaults__`, в котором содержаться значения по умолчанию аргументов этой функции"
      ]
    },
    {
      "cell_type": "code",
      "execution_count": null,
      "id": "bdb0bc3f",
      "metadata": {
        "id": "bdb0bc3f"
      },
      "outputs": [],
      "source": [
        "bus_func.__defaults__"
      ]
    },
    {
      "cell_type": "markdown",
      "id": "1670e883",
      "metadata": {
        "id": "1670e883"
      },
      "source": [
        "Ну, теперь это автобус, у которого есть пассажиры по умолчанию :)"
      ]
    },
    {
      "cell_type": "markdown",
      "id": "999b636b",
      "metadata": {
        "id": "999b636b"
      },
      "source": [
        "Теперь разберемся, почему так происходит."
      ]
    },
    {
      "cell_type": "code",
      "execution_count": null,
      "id": "63a0542a",
      "metadata": {
        "id": "63a0542a"
      },
      "outputs": [],
      "source": [
        "class MyList(list):\n",
        "    def __new__(cls, *args, **kwargs):\n",
        "        print('hello, im here')\n",
        "        return super(MyList, cls).__new__(cls, *args, **kwargs)\n",
        "\n",
        "    def __init__(self, *args, **kwargs):\n",
        "        print('and here')\n",
        "        super().__init__(*args, **kwargs)"
      ]
    },
    {
      "cell_type": "code",
      "execution_count": null,
      "id": "be822a0a",
      "metadata": {
        "id": "be822a0a"
      },
      "outputs": [],
      "source": [
        "def bus_func_cust(bus=MyList(), name=None, take=True):\n",
        "    if name is not None:\n",
        "        if take:\n",
        "            bus.append(name)\n",
        "        else:\n",
        "            if name in bus:\n",
        "                bus.remove(name)\n",
        "    return bus"
      ]
    },
    {
      "cell_type": "code",
      "execution_count": null,
      "id": "55e5cc2b",
      "metadata": {
        "id": "55e5cc2b"
      },
      "outputs": [],
      "source": [
        "my_bus2 = bus_func_cust(name='Alice', take=True)\n",
        "my_bus2 = bus_func_cust(my_bus2, 'Peter', True)\n",
        "my_bus2"
      ]
    },
    {
      "cell_type": "code",
      "execution_count": null,
      "id": "0f74975c",
      "metadata": {
        "id": "0f74975c"
      },
      "outputs": [],
      "source": [
        "my_bus4 = bus_func_cust()\n",
        "my_bus4"
      ]
    },
    {
      "cell_type": "code",
      "execution_count": null,
      "id": "b85f10ac",
      "metadata": {
        "id": "b85f10ac"
      },
      "outputs": [],
      "source": [
        "bus_func_cust.__defaults__"
      ]
    },
    {
      "cell_type": "markdown",
      "id": "cb102b69",
      "metadata": {
        "id": "cb102b69"
      },
      "source": [
        "## 4. Сравнения"
      ]
    },
    {
      "cell_type": "markdown",
      "id": "e4ca7dfa",
      "metadata": {
        "id": "e4ca7dfa"
      },
      "source": [
        "Теперь с темы ссылок перейдем к сравнениям, они связаны. В питоне есть два способа проверить равенство двух объектов: </br>`a == b`</br>`a is b` </br>Давайте вернем наши чудесные списки"
      ]
    },
    {
      "cell_type": "code",
      "execution_count": null,
      "id": "9a72fb53",
      "metadata": {
        "id": "9a72fb53"
      },
      "outputs": [],
      "source": [
        "test_lst1 = [0, 4, 7, 9]\n",
        "test_lst2 = [2, 6, 3, 8]\n",
        "test_lst3 = [0, 4, 7, 9]\n",
        "test_lst4 = test_lst1"
      ]
    },
    {
      "cell_type": "markdown",
      "id": "53b1f1f0",
      "metadata": {
        "id": "53b1f1f0"
      },
      "source": [
        "Результаты какой пары из трех ячеек ниже совпадут?"
      ]
    },
    {
      "cell_type": "code",
      "execution_count": null,
      "id": "2a5a2225",
      "metadata": {
        "id": "2a5a2225"
      },
      "outputs": [],
      "source": [
        "test_lst1 == test_lst2, test_lst1 == test_lst3, test_lst1 == test_lst4"
      ]
    },
    {
      "cell_type": "code",
      "execution_count": null,
      "id": "cec13884",
      "metadata": {
        "id": "cec13884"
      },
      "outputs": [],
      "source": [
        "test_lst1 is test_lst2, test_lst1 is test_lst3, test_lst1 is test_lst4"
      ]
    },
    {
      "cell_type": "code",
      "execution_count": null,
      "id": "475abb49",
      "metadata": {
        "id": "475abb49"
      },
      "outputs": [],
      "source": [
        "id(test_lst1) == id(test_lst2), id(test_lst1) == id(test_lst3), id(test_lst1) == id(test_lst4)"
      ]
    },
    {
      "cell_type": "markdown",
      "id": "4e90d4c6",
      "metadata": {
        "id": "4e90d4c6"
      },
      "source": [
        "Данные операторы отличаются тем, что один сравнивает содерждание объектов, а другой - их идентификаторы. Поэтому в большинстве случаев надо использовать `==`: нас чаще интересует содержание, а не странные питоновские нюансы питона. Однако сравнение с уникальными сущностями типа `None`, `False` или `True`лучше производить через `is`. Если кто-то из вас пользуется пайчармом, то он мог говорить вам что-то такое"
      ]
    },
    {
      "cell_type": "markdown",
      "id": "0459e92e",
      "metadata": {
        "id": "0459e92e"
      },
      "source": [
        "О проверке типа `if cat`, когда `cat` - это различные типы данных"
      ]
    },
    {
      "cell_type": "code",
      "execution_count": null,
      "id": "614b4a9a",
      "metadata": {
        "id": "614b4a9a"
      },
      "outputs": [],
      "source": [
        "def if_cat(cat):\n",
        "    if cat:\n",
        "        return 'yes'\n",
        "    else:\n",
        "        return 'no'"
      ]
    },
    {
      "cell_type": "code",
      "execution_count": null,
      "id": "ec57d0d4",
      "metadata": {
        "id": "ec57d0d4"
      },
      "outputs": [],
      "source": [
        "if_cat(True), if_cat(False)"
      ]
    },
    {
      "cell_type": "code",
      "execution_count": null,
      "id": "904736ef",
      "metadata": {
        "id": "904736ef"
      },
      "outputs": [],
      "source": [
        "if_cat(None)"
      ]
    },
    {
      "cell_type": "code",
      "execution_count": null,
      "id": "e4ab4c0a",
      "metadata": {
        "id": "e4ab4c0a"
      },
      "outputs": [],
      "source": [
        "if_cat([]), if_cat(''), if_cat({})"
      ]
    },
    {
      "cell_type": "code",
      "execution_count": null,
      "id": "d1f97170",
      "metadata": {
        "id": "d1f97170"
      },
      "outputs": [],
      "source": [
        "if_cat(0), if_cat(1), if_cat(6)"
      ]
    },
    {
      "cell_type": "code",
      "execution_count": null,
      "id": "67c5c2f2",
      "metadata": {
        "id": "67c5c2f2"
      },
      "outputs": [],
      "source": [
        "if_cat([12, ]), if_cat('hi!'), if_cat({'hi!': 12})"
      ]
    },
    {
      "cell_type": "markdown",
      "id": "6609b490",
      "metadata": {
        "id": "6609b490"
      },
      "source": [
        "Где тут может быть подвох: дейсвтия на `None` часто требуется прописывать отдельно, и такая проверка может перепутать его с любым другим пустым объектом. Пусть у вас есть функция, в которую передается параметр, отвечающий за кол-во симовлов при выводе. Если он `None`, то вывести надо все"
      ]
    },
    {
      "cell_type": "code",
      "execution_count": null,
      "id": "5d29667b",
      "metadata": {
        "id": "5d29667b"
      },
      "outputs": [],
      "source": [
        "def test_func3(text, line=None):\n",
        "    # do something\n",
        "    if not line:\n",
        "        return text\n",
        "    else:\n",
        "        return text[:line]"
      ]
    },
    {
      "cell_type": "code",
      "execution_count": null,
      "id": "7ca7482d",
      "metadata": {
        "id": "7ca7482d"
      },
      "outputs": [],
      "source": [
        "text = '\\nЛиса предложила раку бегать наперегонки. Рак согласился. Лиса побежала, а рак уцепился за лисий хвост. ' + \\\n",
        "'\\nЛиса добежала до места. Обернулась лиса, а рак отцепился и говорит: «A я давно тут тебя жду».\\n'\n",
        "text"
      ]
    },
    {
      "cell_type": "code",
      "execution_count": null,
      "id": "65995d71",
      "metadata": {
        "id": "65995d71"
      },
      "outputs": [],
      "source": [
        "test_func3(text, 10)"
      ]
    },
    {
      "cell_type": "code",
      "execution_count": null,
      "id": "7bf9d3e9",
      "metadata": {
        "id": "7bf9d3e9"
      },
      "outputs": [],
      "source": [
        "test_func3(text, None)"
      ]
    },
    {
      "cell_type": "code",
      "execution_count": null,
      "id": "2202d36c",
      "metadata": {
        "id": "2202d36c"
      },
      "outputs": [],
      "source": [
        "test_func3(text, 0)"
      ]
    },
    {
      "cell_type": "markdown",
      "id": "dffe06fb",
      "metadata": {
        "id": "dffe06fb"
      },
      "source": [
        "Мы же не хотели получать символы в выводе, ввели ноль, а тут вдруг целый текст. Нехорошо :)</br>\n",
        "Поэтому лучше делать сравнение с `None` явным"
      ]
    },
    {
      "cell_type": "markdown",
      "id": "65ac63dc",
      "metadata": {
        "id": "65ac63dc"
      },
      "source": [
        "## 5. Про скорость и память (немного)"
      ]
    },
    {
      "cell_type": "code",
      "execution_count": null,
      "id": "178d67fb",
      "metadata": {
        "id": "178d67fb"
      },
      "outputs": [],
      "source": [
        "row = np.array([0, 0, 1, 2, 2, 2])\n",
        "col = np.array([0, 2, 2, 0, 1, 2])\n",
        "data = np.array([1, 2, 3, 4, 5, 6])\n",
        "mx_zero = csr_array((data, (row, col)), shape=(5, 5))\n",
        "mx_zero.toarray()"
      ]
    },
    {
      "cell_type": "code",
      "execution_count": null,
      "id": "5f594a80",
      "metadata": {
        "id": "5f594a80"
      },
      "outputs": [],
      "source": [
        "sys.getsizeof(mx_zero), sys.getsizeof(mx_zero.toarray())"
      ]
    },
    {
      "cell_type": "markdown",
      "id": "f23ed627",
      "metadata": {
        "id": "f23ed627"
      },
      "source": [
        "### Задание\n",
        "Давайте для каждого текста построим обратный индекс, потом найдем пять самых частотных слов во всем корпусе, а потом (если успеем) посчитаем tf-idf и найдем по три ключевых слова"
      ]
    },
    {
      "cell_type": "code",
      "execution_count": null,
      "id": "e097dbf4",
      "metadata": {
        "id": "e097dbf4"
      },
      "outputs": [],
      "source": [
        "df = pd.read_csv('data.csv')\n",
        "df.head(1)"
      ]
    },
    {
      "cell_type": "code",
      "execution_count": null,
      "id": "317e9a09",
      "metadata": {
        "id": "317e9a09"
      },
      "outputs": [],
      "source": [
        "def preprocess_text(text):\n",
        "    lemmas = []\n",
        "    for word in word_tokenize(text):\n",
        "        if word.isalpha():\n",
        "            word = morph.parse(word.lower())[0]\n",
        "            lemma = word.normal_form\n",
        "            if lemma not in stops:\n",
        "                lemmas.append(lemma)\n",
        "    return ' '.join(lemmas)"
      ]
    },
    {
      "cell_type": "code",
      "execution_count": null,
      "id": "1de782a4",
      "metadata": {
        "id": "1de782a4"
      },
      "outputs": [],
      "source": [
        "df['clean_text'] = df.text.apply(preprocess_text)\n",
        "df.head(1)"
      ]
    },
    {
      "cell_type": "code",
      "execution_count": null,
      "id": "081ba61a",
      "metadata": {
        "id": "081ba61a"
      },
      "outputs": [],
      "source": []
    }
  ],
  "metadata": {
    "kernelspec": {
      "display_name": "Python 3 (ipykernel)",
      "language": "python",
      "name": "python3"
    },
    "language_info": {
      "codemirror_mode": {
        "name": "ipython",
        "version": 3
      },
      "file_extension": ".py",
      "mimetype": "text/x-python",
      "name": "python",
      "nbconvert_exporter": "python",
      "pygments_lexer": "ipython3",
      "version": "3.10.7"
    },
    "colab": {
      "provenance": [],
      "include_colab_link": true
    }
  },
  "nbformat": 4,
  "nbformat_minor": 5
}