{
  "nbformat": 4,
  "nbformat_minor": 0,
  "metadata": {
    "colab": {
      "provenance": []
    },
    "kernelspec": {
      "name": "python3",
      "display_name": "Python 3"
    },
    "language_info": {
      "name": "python"
    }
  },
  "cells": [
    {
      "cell_type": "markdown",
      "source": [
        "* Чуть-Чуть про генераторы"
      ],
      "metadata": {
        "id": "0IuE1TMuq4rb"
      }
    },
    {
      "cell_type": "code",
      "source": [
        "[i for i in range(10)]"
      ],
      "metadata": {
        "colab": {
          "base_uri": "https://localhost:8080/"
        },
        "id": "L1PWitBo9pmM",
        "outputId": "2a9addfa-f01a-4197-ef59-c4e0cd7de182"
      },
      "execution_count": 1,
      "outputs": [
        {
          "output_type": "execute_result",
          "data": {
            "text/plain": [
              "[0, 1, 2, 3, 4, 5, 6, 7, 8, 9]"
            ]
          },
          "metadata": {},
          "execution_count": 1
        }
      ]
    },
    {
      "cell_type": "code",
      "source": [
        "range(10)"
      ],
      "metadata": {
        "colab": {
          "base_uri": "https://localhost:8080/"
        },
        "id": "lpSzi6Kv9w1l",
        "outputId": "562306fa-8804-4f3e-9677-db492365fdb3"
      },
      "execution_count": 3,
      "outputs": [
        {
          "output_type": "execute_result",
          "data": {
            "text/plain": [
              "5"
            ]
          },
          "metadata": {},
          "execution_count": 3
        }
      ]
    },
    {
      "cell_type": "markdown",
      "source": [
        "## Декораторы"
      ],
      "metadata": {
        "id": "tuzcjlAoh4DB"
      }
    },
    {
      "cell_type": "code",
      "source": [
        "def my_decorator_1(f):\n",
        "    def wrapper(*args, **kwargs):\n",
        "        for arg in args:\n",
        "            print(\"У функции есть следующий аргумент:\", arg)\n",
        "        answ = f(*args, **kwargs)\n",
        "        return answ\n",
        "    return wrapper\n",
        "\n",
        "\n",
        "def my_decorator_2(f):\n",
        "    def wrapper(*args, **kwargs):\n",
        "        answ = f(*args, **kwargs)\n",
        "        print(\"В результате выполнения функции был получен следующий результат:\", answ)\n",
        "        return answ\n",
        "    return wrapper"
      ],
      "metadata": {
        "id": "bOSdJ60oY5v3"
      },
      "execution_count": 4,
      "outputs": []
    },
    {
      "cell_type": "code",
      "source": [
        "@my_decorator_2\n"
      ],
      "metadata": {
        "colab": {
          "base_uri": "https://localhost:8080/",
          "height": 130
        },
        "id": "UUpZIZvmfk3Q",
        "outputId": "58fc8f7e-8b54-47fb-d331-6119e3b37111"
      },
      "execution_count": 5,
      "outputs": [
        {
          "output_type": "error",
          "ename": "SyntaxError",
          "evalue": "ignored",
          "traceback": [
            "\u001b[0;36m  File \u001b[0;32m\"<ipython-input-5-dbfc000689c2>\"\u001b[0;36m, line \u001b[0;32m2\u001b[0m\n\u001b[0;31m    \u001b[0m\n\u001b[0m    ^\u001b[0m\n\u001b[0;31mSyntaxError\u001b[0m\u001b[0;31m:\u001b[0m unexpected EOF while parsing\n"
          ]
        }
      ]
    },
    {
      "cell_type": "code",
      "source": [
        "@my_decorator_1\n",
        "def function_1(a, b, c):\n",
        "    return max(a, b, c)"
      ],
      "metadata": {
        "id": "xEnuxU6zZi73"
      },
      "execution_count": 6,
      "outputs": []
    },
    {
      "cell_type": "code",
      "source": [
        "def function_1(a, b, c):\n",
        "    return max(a, b, c)\n",
        "\n",
        "function_1 = my_decorator_1(function_1)"
      ],
      "metadata": {
        "id": "fn4e2SgqaMs6"
      },
      "execution_count": 8,
      "outputs": []
    },
    {
      "cell_type": "code",
      "source": [
        "function_1(10, 12, 14)"
      ],
      "metadata": {
        "colab": {
          "base_uri": "https://localhost:8080/"
        },
        "id": "6roYUKqYabgV",
        "outputId": "841bce3a-6e60-49c9-c1d8-883ab397cad2"
      },
      "execution_count": 9,
      "outputs": [
        {
          "output_type": "stream",
          "name": "stdout",
          "text": [
            "У функции есть следующий аргумент: 10\n",
            "У функции есть следующий аргумент: 12\n",
            "У функции есть следующий аргумент: 14\n"
          ]
        },
        {
          "output_type": "execute_result",
          "data": {
            "text/plain": [
              "14"
            ]
          },
          "metadata": {},
          "execution_count": 9
        }
      ]
    },
    {
      "cell_type": "markdown",
      "source": [
        "**Задание**: написать декоратор `reverse_args` который изменяет порядок позиционных аргументов, переданных функций на обратный "
      ],
      "metadata": {
        "id": "wXQKnDRmh8BI"
      }
    },
    {
      "cell_type": "code",
      "execution_count": null,
      "metadata": {
        "id": "AYK34qE-hbAd"
      },
      "outputs": [],
      "source": [
        "def reverse_args(func):\n",
        "    "
      ]
    },
    {
      "cell_type": "code",
      "source": [
        "def reverse_args(f):\n",
        "    def my_reverse(*args, **kwargs):\n",
        "        a = list(args)\n",
        "        a.reverse()\n",
        "        answ = f(*a, **kwargs)\n",
        "        return answ\n",
        "    return my_reverse\n"
      ],
      "metadata": {
        "id": "owj_4LIeDoU2"
      },
      "execution_count": 18,
      "outputs": []
    },
    {
      "cell_type": "code",
      "source": [
        "def reverse_args(func):\n",
        "    def wrapper(*args, **kwargs):\n",
        "        new_args = args[::-1]\n",
        "        answ = func(*new_args, *kwargs)\n",
        "        return answ\n",
        "    return wrapper\n"
      ],
      "metadata": {
        "id": "mWAVuiw6EV8w"
      },
      "execution_count": 20,
      "outputs": []
    },
    {
      "cell_type": "code",
      "source": [
        "def reverse_args(f):\n",
        "    def wrapper(*args):\n",
        "        lst = f(*args)\n",
        "        return lst.reverse()\n",
        "    return wrapper\n"
      ],
      "metadata": {
        "id": "cO2tZrCpDsb6"
      },
      "execution_count": null,
      "outputs": []
    },
    {
      "cell_type": "code",
      "source": [
        "def reverse_args(f):\n",
        "    def wrapper(*args):\n",
        "        lst = f(*args)\n",
        "        return lst.reverse()\n",
        "    return wrapper\n"
      ],
      "metadata": {
        "id": "3XMfHqz7E8_G"
      },
      "execution_count": null,
      "outputs": []
    },
    {
      "cell_type": "code",
      "source": [
        "def printer(a, b, c):\n",
        "        print(a, b, c)\n",
        "\n",
        "def decorator(f):\n",
        "    def printer(c, b, a):\n",
        "        print(a, b, c)\n",
        "    return printer    \n",
        "\n",
        "dr = decorator(printer)\n",
        "dr(1,2,3)\n"
      ],
      "metadata": {
        "colab": {
          "base_uri": "https://localhost:8080/"
        },
        "id": "VzG_LIwnFHUQ",
        "outputId": "35a2bfbe-ff2c-4d8a-9d2e-91518ecbe0ea"
      },
      "execution_count": 22,
      "outputs": [
        {
          "output_type": "stream",
          "name": "stdout",
          "text": [
            "3 2 1\n"
          ]
        }
      ]
    },
    {
      "cell_type": "code",
      "source": [
        "def reverse_args(f):\n",
        "    def wrapper(*args, **kwargs):\n",
        "        answ = f(*args[::-1], **kwargs)\n",
        "        return answ\n",
        "    return wrapper"
      ],
      "metadata": {
        "id": "TEL16UZZFiCK"
      },
      "execution_count": 23,
      "outputs": []
    },
    {
      "cell_type": "code",
      "source": [
        "@reverse_args\n",
        "def test_func(a, b):\n",
        "  return a / b\n",
        "\n",
        "test_func(10, 5)"
      ],
      "metadata": {
        "colab": {
          "base_uri": "https://localhost:8080/"
        },
        "id": "DQQf6CHRis8I",
        "outputId": "c2967be3-9e48-4a95-b720-90aba32734b0"
      },
      "execution_count": 24,
      "outputs": [
        {
          "output_type": "execute_result",
          "data": {
            "text/plain": [
              "0.5"
            ]
          },
          "metadata": {},
          "execution_count": 24
        }
      ]
    },
    {
      "cell_type": "code",
      "source": [
        "@reverse_args\n",
        "def test_func():\n",
        "    print(\"Hi!\")"
      ],
      "metadata": {
        "colab": {
          "base_uri": "https://localhost:8080/",
          "height": 321
        },
        "id": "5_iLE4UvGA28",
        "outputId": "0a044071-c2f6-486a-bddc-4b3b97def73c"
      },
      "execution_count": 27,
      "outputs": [
        {
          "output_type": "error",
          "ename": "TypeError",
          "evalue": "ignored",
          "traceback": [
            "\u001b[0;31m---------------------------------------------------------------------------\u001b[0m",
            "\u001b[0;31mTypeError\u001b[0m                                 Traceback (most recent call last)",
            "\u001b[0;32m<ipython-input-27-c2981cefeb57>\u001b[0m in \u001b[0;36m<module>\u001b[0;34m\u001b[0m\n\u001b[0;32m----> 1\u001b[0;31m \u001b[0;34m@\u001b[0m\u001b[0mreverse_args\u001b[0m\u001b[0;34m(\u001b[0m\u001b[0;36m5\u001b[0m\u001b[0;34m)\u001b[0m\u001b[0;34m\u001b[0m\u001b[0;34m\u001b[0m\u001b[0m\n\u001b[0m\u001b[1;32m      2\u001b[0m \u001b[0;32mdef\u001b[0m \u001b[0mtest_func\u001b[0m\u001b[0;34m(\u001b[0m\u001b[0;34m)\u001b[0m\u001b[0;34m:\u001b[0m\u001b[0;34m\u001b[0m\u001b[0;34m\u001b[0m\u001b[0m\n\u001b[1;32m      3\u001b[0m     \u001b[0mprint\u001b[0m\u001b[0;34m(\u001b[0m\u001b[0;34m\"Hi!\"\u001b[0m\u001b[0;34m)\u001b[0m\u001b[0;34m\u001b[0m\u001b[0;34m\u001b[0m\u001b[0m\n",
            "\u001b[0;32m<ipython-input-23-64a59854ab43>\u001b[0m in \u001b[0;36mwrapper\u001b[0;34m(*args, **kwargs)\u001b[0m\n\u001b[1;32m      1\u001b[0m \u001b[0;32mdef\u001b[0m \u001b[0mreverse_args\u001b[0m\u001b[0;34m(\u001b[0m\u001b[0mf\u001b[0m\u001b[0;34m)\u001b[0m\u001b[0;34m:\u001b[0m\u001b[0;34m\u001b[0m\u001b[0;34m\u001b[0m\u001b[0m\n\u001b[1;32m      2\u001b[0m     \u001b[0;32mdef\u001b[0m \u001b[0mwrapper\u001b[0m\u001b[0;34m(\u001b[0m\u001b[0;34m*\u001b[0m\u001b[0margs\u001b[0m\u001b[0;34m,\u001b[0m \u001b[0;34m**\u001b[0m\u001b[0mkwargs\u001b[0m\u001b[0;34m)\u001b[0m\u001b[0;34m:\u001b[0m\u001b[0;34m\u001b[0m\u001b[0;34m\u001b[0m\u001b[0m\n\u001b[0;32m----> 3\u001b[0;31m         \u001b[0mansw\u001b[0m \u001b[0;34m=\u001b[0m \u001b[0mf\u001b[0m\u001b[0;34m(\u001b[0m\u001b[0;34m*\u001b[0m\u001b[0margs\u001b[0m\u001b[0;34m[\u001b[0m\u001b[0;34m:\u001b[0m\u001b[0;34m:\u001b[0m\u001b[0;34m-\u001b[0m\u001b[0;36m1\u001b[0m\u001b[0;34m]\u001b[0m\u001b[0;34m,\u001b[0m \u001b[0;34m**\u001b[0m\u001b[0mkwargs\u001b[0m\u001b[0;34m)\u001b[0m\u001b[0;34m\u001b[0m\u001b[0;34m\u001b[0m\u001b[0m\n\u001b[0m\u001b[1;32m      4\u001b[0m         \u001b[0;32mreturn\u001b[0m \u001b[0mansw\u001b[0m\u001b[0;34m\u001b[0m\u001b[0;34m\u001b[0m\u001b[0m\n\u001b[1;32m      5\u001b[0m     \u001b[0;32mreturn\u001b[0m \u001b[0mwrapper\u001b[0m\u001b[0;34m\u001b[0m\u001b[0;34m\u001b[0m\u001b[0m\n",
            "\u001b[0;31mTypeError\u001b[0m: 'int' object is not callable"
          ]
        }
      ]
    },
    {
      "cell_type": "markdown",
      "source": [
        "* А может ли декоратор принимать аргументы на вход?\n",
        "\n",
        "Напишите декоратор, который вызовет декорируемую функцию n раза."
      ],
      "metadata": {
        "id": "n2pv7FNT1Jiq"
      }
    },
    {
      "cell_type": "code",
      "source": [
        "def dec_rep(n=5):\n",
        "    def dec(f):\n",
        "        def wrapper(*args, **kwargs):\n",
        "            for _ in range(n):\n",
        "                answ = f(*args, **kwargs)\n",
        "            return answ\n",
        "        return wrapper\n",
        "    return dec\n"
      ],
      "metadata": {
        "id": "FyL6KJQQII1f"
      },
      "execution_count": 37,
      "outputs": []
    },
    {
      "cell_type": "code",
      "source": [
        "@dec_rep()\n",
        "def func():\n",
        "    print(\"Hi!\")\n",
        "\n",
        "func()"
      ],
      "metadata": {
        "colab": {
          "base_uri": "https://localhost:8080/"
        },
        "id": "LnOCQy5m1N8R",
        "outputId": "9f7569f7-9a2b-47c4-f8b4-995d610d232b"
      },
      "execution_count": 39,
      "outputs": [
        {
          "output_type": "stream",
          "name": "stdout",
          "text": [
            "Hi!\n",
            "Hi!\n",
            "Hi!\n",
            "Hi!\n",
            "Hi!\n"
          ]
        }
      ]
    },
    {
      "cell_type": "markdown",
      "source": [
        "* Что такое док-стринг?"
      ],
      "metadata": {
        "id": "foJ0GKIHz891"
      }
    },
    {
      "cell_type": "code",
      "source": [
        "def f(n=5):\n",
        "    \"\"\"\n",
        "    This is a very important function\n",
        "    params:\n",
        "      n: int, default=5\n",
        "    \"\"\"\n",
        "    pass"
      ],
      "metadata": {
        "id": "oXTf_lKdJ6aM"
      },
      "execution_count": 40,
      "outputs": []
    },
    {
      "cell_type": "code",
      "source": [],
      "metadata": {
        "colab": {
          "base_uri": "https://localhost:8080/",
          "height": 36
        },
        "id": "pusJHFnDKMfF",
        "outputId": "dfd372bf-fc58-404c-c251-faf5e6a42d03"
      },
      "execution_count": 41,
      "outputs": [
        {
          "output_type": "execute_result",
          "data": {
            "text/plain": [
              "' dsfgsad\\nsgdfgdsfgdf\\ndfsgdsfg'"
            ],
            "application/vnd.google.colaboratory.intrinsic+json": {
              "type": "string"
            }
          },
          "metadata": {},
          "execution_count": 41
        }
      ]
    },
    {
      "cell_type": "markdown",
      "source": [
        "**Задание**: написать декоратор, который добавит к фукнции параметр `print_name`, значение которого по умолчанию будет `False`. Если функция была вызвана с `print_name == True`, то функция должна будет напечатать свое имя, а потом вернуть результат, если же с `print_name == False`, то функция будет просто возвращать результат"
      ],
      "metadata": {
        "id": "2dJUXQ_qjl-b"
      }
    },
    {
      "cell_type": "code",
      "source": [
        "from functools import wraps"
      ],
      "metadata": {
        "id": "3ijXmEQkc2zs"
      },
      "execution_count": 24,
      "outputs": []
    },
    {
      "cell_type": "code",
      "source": [
        "def introduce_first(func):\n",
        "    @wraps(func)\n",
        "    def wrapped_function(*args, print_name=False, **kwargs):\n",
        "        if print_name:\n",
        "            print(func.__doc__)\n",
        "        return func(*args, **kwargs)\n",
        "    return wrapped_function"
      ],
      "metadata": {
        "id": "SkvWK1_4jXT1"
      },
      "execution_count": 25,
      "outputs": []
    },
    {
      "cell_type": "code",
      "source": [
        "@introduce_first\n",
        "def test_func(a, b):\n",
        "    \"\"\"\n",
        "    This is a very important doc-string\n",
        "    \"\"\"\n",
        "    return 5 * a + 3 * b\n",
        "\n",
        "test_func(10, 5, print_name=True)"
      ],
      "metadata": {
        "colab": {
          "base_uri": "https://localhost:8080/"
        },
        "id": "IRH3Tqg1kwj8",
        "outputId": "94012000-b5c1-4df6-dec7-f883194e58b3"
      },
      "execution_count": 31,
      "outputs": [
        {
          "output_type": "stream",
          "name": "stdout",
          "text": [
            "test_func\n"
          ]
        },
        {
          "output_type": "execute_result",
          "data": {
            "text/plain": [
              "65"
            ]
          },
          "metadata": {},
          "execution_count": 31
        }
      ]
    },
    {
      "cell_type": "markdown",
      "source": [
        "А теперь напишите декоратор, который добавит значение по умолчанию параметр `prind_doc = False` - который будет печатать док-стринг нашей декорируемой функции."
      ],
      "metadata": {
        "id": "pqOLFX3j0Vkp"
      }
    },
    {
      "cell_type": "code",
      "source": [],
      "metadata": {
        "id": "nVXbAfcU0w-Q"
      },
      "execution_count": null,
      "outputs": []
    },
    {
      "cell_type": "markdown",
      "source": [
        "## Классы"
      ],
      "metadata": {
        "id": "Ug_H-XPbh6Sr"
      }
    },
    {
      "cell_type": "markdown",
      "source": [
        "Попробуем создать класс человека! А что нам для этого надо...? И зачем он нам?"
      ],
      "metadata": {
        "id": "8aihtGo65FEf"
      }
    },
    {
      "cell_type": "code",
      "source": [
        "dir(object)"
      ],
      "metadata": {
        "colab": {
          "base_uri": "https://localhost:8080/"
        },
        "id": "Ng-_OH_5OBVM",
        "outputId": "57ab7b97-d624-437c-a596-65bd5304eb9f"
      },
      "execution_count": 62,
      "outputs": [
        {
          "output_type": "execute_result",
          "data": {
            "text/plain": [
              "['__class__',\n",
              " '__delattr__',\n",
              " '__dir__',\n",
              " '__doc__',\n",
              " '__eq__',\n",
              " '__format__',\n",
              " '__ge__',\n",
              " '__getattribute__',\n",
              " '__gt__',\n",
              " '__hash__',\n",
              " '__init__',\n",
              " '__init_subclass__',\n",
              " '__le__',\n",
              " '__lt__',\n",
              " '__ne__',\n",
              " '__new__',\n",
              " '__reduce__',\n",
              " '__reduce_ex__',\n",
              " '__repr__',\n",
              " '__setattr__',\n",
              " '__sizeof__',\n",
              " '__str__',\n",
              " '__subclasshook__']"
            ]
          },
          "metadata": {},
          "execution_count": 62
        }
      ]
    },
    {
      "cell_type": "code",
      "source": [
        "class Unit:\n",
        "    pass"
      ],
      "metadata": {
        "id": "wHfDU-IFNaoS"
      },
      "execution_count": 42,
      "outputs": []
    },
    {
      "cell_type": "code",
      "source": [
        "a = object\n",
        "print(a)"
      ],
      "metadata": {
        "colab": {
          "base_uri": "https://localhost:8080/"
        },
        "id": "bR9apTJANgM6",
        "outputId": "599a138c-445b-4abb-bccf-61cf7da23f62"
      },
      "execution_count": 64,
      "outputs": [
        {
          "output_type": "stream",
          "name": "stdout",
          "text": [
            "<class 'object'>\n"
          ]
        }
      ]
    },
    {
      "cell_type": "code",
      "source": [
        "class Person:\n",
        "\n",
        "    def __init__(self, name, surname, age, gender):\n",
        "        self.name = name\n",
        "        self.surname = surname\n",
        "        self.age = age\n",
        "        self.gender = gender\n",
        "    \n",
        "    def __repr__(self):\n",
        "        return f\"{self.name} {self.surname}, {self.age} y.o. gender - {self.gender}\""
      ],
      "metadata": {
        "id": "dz3S_JY05EbI"
      },
      "execution_count": 65,
      "outputs": []
    },
    {
      "cell_type": "code",
      "source": [
        "p1 = Person('Bob', 'Smith', 42, 'male')"
      ],
      "metadata": {
        "id": "9b5GicbLRhsv"
      },
      "execution_count": 66,
      "outputs": []
    },
    {
      "cell_type": "code",
      "source": [
        "print(p1)"
      ],
      "metadata": {
        "colab": {
          "base_uri": "https://localhost:8080/"
        },
        "id": "i8yULfoASJHZ",
        "outputId": "3a10ebf3-c8e8-4354-9dde-53c39bb71bc4"
      },
      "execution_count": 67,
      "outputs": [
        {
          "output_type": "stream",
          "name": "stdout",
          "text": [
            "Bob Smith, 42 y.o. gender - male\n"
          ]
        }
      ]
    },
    {
      "cell_type": "code",
      "source": [
        "p1.car = 'BMW'"
      ],
      "metadata": {
        "id": "vGY4LsjvSbfY"
      },
      "execution_count": 57,
      "outputs": []
    },
    {
      "cell_type": "code",
      "source": [
        "p1.car"
      ],
      "metadata": {
        "colab": {
          "base_uri": "https://localhost:8080/",
          "height": 36
        },
        "id": "SgPbBqUiSm06",
        "outputId": "d12c4685-c6ac-4303-e6f0-b828f022695f"
      },
      "execution_count": 58,
      "outputs": [
        {
          "output_type": "execute_result",
          "data": {
            "text/plain": [
              "'BMW'"
            ],
            "application/vnd.google.colaboratory.intrinsic+json": {
              "type": "string"
            }
          },
          "metadata": {},
          "execution_count": 58
        }
      ]
    },
    {
      "cell_type": "code",
      "source": [
        "p2 = Person('Mary', 'ABC', 23, 'female')"
      ],
      "metadata": {
        "colab": {
          "base_uri": "https://localhost:8080/",
          "height": 165
        },
        "id": "pXmtQgCwSp6o",
        "outputId": "4e529d6c-b251-4c74-af60-cebf02ab485c"
      },
      "execution_count": 68,
      "outputs": [
        {
          "output_type": "error",
          "ename": "TypeError",
          "evalue": "ignored",
          "traceback": [
            "\u001b[0;31m---------------------------------------------------------------------------\u001b[0m",
            "\u001b[0;31mTypeError\u001b[0m                                 Traceback (most recent call last)",
            "\u001b[0;32m<ipython-input-68-6d533e7e8ad3>\u001b[0m in \u001b[0;36m<module>\u001b[0;34m\u001b[0m\n\u001b[0;32m----> 1\u001b[0;31m \u001b[0mp2\u001b[0m \u001b[0;34m=\u001b[0m \u001b[0mPerson\u001b[0m\u001b[0;34m.\u001b[0m\u001b[0m__init__\u001b[0m\u001b[0;34m(\u001b[0m\u001b[0;34m'Mary'\u001b[0m\u001b[0;34m,\u001b[0m \u001b[0;34m'ABC'\u001b[0m\u001b[0;34m,\u001b[0m \u001b[0;36m23\u001b[0m\u001b[0;34m,\u001b[0m \u001b[0;34m'female'\u001b[0m\u001b[0;34m)\u001b[0m\u001b[0;34m\u001b[0m\u001b[0;34m\u001b[0m\u001b[0m\n\u001b[0m",
            "\u001b[0;31mTypeError\u001b[0m: __init__() missing 1 required positional argument: 'gender'"
          ]
        }
      ]
    },
    {
      "cell_type": "code",
      "source": [
        "print(p2)"
      ],
      "metadata": {
        "colab": {
          "base_uri": "https://localhost:8080/"
        },
        "id": "Z4DhhBfkSwc0",
        "outputId": "1ffbfc4d-6153-40c0-aaa7-4b3113f8b524"
      },
      "execution_count": 61,
      "outputs": [
        {
          "output_type": "stream",
          "name": "stdout",
          "text": [
            "<__main__.Person object at 0x7fa6c4e526d0>\n"
          ]
        }
      ]
    },
    {
      "cell_type": "markdown",
      "source": [
        "Давайте напишем класс обыкновенной дроби. Какие атрибуты должны быть у нашей дроби?"
      ],
      "metadata": {
        "id": "lXznH0iT3YMh"
      }
    },
    {
      "cell_type": "code",
      "source": [
        "dir(int)"
      ],
      "metadata": {
        "colab": {
          "base_uri": "https://localhost:8080/"
        },
        "id": "ea5xVpHoW3Do",
        "outputId": "4bef5721-adfa-463b-9a3c-cea6d4ed1bce"
      },
      "execution_count": 75,
      "outputs": [
        {
          "output_type": "execute_result",
          "data": {
            "text/plain": [
              "['__abs__',\n",
              " '__add__',\n",
              " '__and__',\n",
              " '__bool__',\n",
              " '__ceil__',\n",
              " '__class__',\n",
              " '__delattr__',\n",
              " '__dir__',\n",
              " '__divmod__',\n",
              " '__doc__',\n",
              " '__eq__',\n",
              " '__float__',\n",
              " '__floor__',\n",
              " '__floordiv__',\n",
              " '__format__',\n",
              " '__ge__',\n",
              " '__getattribute__',\n",
              " '__getnewargs__',\n",
              " '__gt__',\n",
              " '__hash__',\n",
              " '__index__',\n",
              " '__init__',\n",
              " '__init_subclass__',\n",
              " '__int__',\n",
              " '__invert__',\n",
              " '__le__',\n",
              " '__lshift__',\n",
              " '__lt__',\n",
              " '__mod__',\n",
              " '__mul__',\n",
              " '__ne__',\n",
              " '__neg__',\n",
              " '__new__',\n",
              " '__or__',\n",
              " '__pos__',\n",
              " '__pow__',\n",
              " '__radd__',\n",
              " '__rand__',\n",
              " '__rdivmod__',\n",
              " '__reduce__',\n",
              " '__reduce_ex__',\n",
              " '__repr__',\n",
              " '__rfloordiv__',\n",
              " '__rlshift__',\n",
              " '__rmod__',\n",
              " '__rmul__',\n",
              " '__ror__',\n",
              " '__round__',\n",
              " '__rpow__',\n",
              " '__rrshift__',\n",
              " '__rshift__',\n",
              " '__rsub__',\n",
              " '__rtruediv__',\n",
              " '__rxor__',\n",
              " '__setattr__',\n",
              " '__sizeof__',\n",
              " '__str__',\n",
              " '__sub__',\n",
              " '__subclasshook__',\n",
              " '__truediv__',\n",
              " '__trunc__',\n",
              " '__xor__',\n",
              " 'bit_length',\n",
              " 'conjugate',\n",
              " 'denominator',\n",
              " 'from_bytes',\n",
              " 'imag',\n",
              " 'numerator',\n",
              " 'real',\n",
              " 'to_bytes']"
            ]
          },
          "metadata": {},
          "execution_count": 75
        }
      ]
    },
    {
      "cell_type": "code",
      "source": [
        "import math"
      ],
      "metadata": {
        "id": "D3SzUNwAa6eI"
      },
      "execution_count": 76,
      "outputs": []
    },
    {
      "cell_type": "code",
      "source": [
        "class Fraction:\n",
        "    def __init__(self, numerator, denomenator):\n",
        "        self.num = numerator\n",
        "        if denomenator == 0:\n",
        "            raise ZeroDivisionError('denomenator cannot be zero')\n",
        "        self.den = denomenator\n",
        "\n",
        "    def __repr__(self):\n",
        "        return f'{self.num}/{self.den}'\n",
        "\n",
        "    def __add__(self, frac):\n",
        "\n",
        "        if type(frac) != type(self):\n",
        "            if type(frac) == int:\n",
        "                frac = Fraction(frac, 1)\n",
        "        nok = self.common_divisor(frac)\n",
        "        return Fraction(self.num * nok // self.den + frac.num * nok // frac.den, nok)\n",
        "    \n",
        "    def common_divisor(self, frac):\n",
        "        nok = (self.den * frac.den) // math.gcd(self.den, frac.den)\n",
        "        return nok\n",
        "\n",
        "\n"
      ],
      "metadata": {
        "id": "5Waqt8B8Urw3"
      },
      "execution_count": 80,
      "outputs": []
    },
    {
      "cell_type": "markdown",
      "source": [
        "**Бонус на 1**: Допишите класс дробей выше, доопределив вычитание, умножение (на число и другую дробь), сравнение. Еще добавьте метод, проверяющий дробь на правильность (is_regular), и метод, который дробь упрощает дробь (метод меняет исходную дробь и делает так, что у числителя и знаминателя нет общих делителей, кроме 1)."
      ],
      "metadata": {
        "id": "uMilv_eMi6TV"
      }
    },
    {
      "cell_type": "code",
      "source": [
        "f1 = Fraction(1, 3)\n",
        "f2 = Fraction(1, 5)\n",
        "\n",
        "f1 + f2 + 1"
      ],
      "metadata": {
        "colab": {
          "base_uri": "https://localhost:8080/"
        },
        "id": "IJS5QKHY29iR",
        "outputId": "324eaafd-5a6a-4af7-c077-5c9c44db2c1f"
      },
      "execution_count": 82,
      "outputs": [
        {
          "output_type": "execute_result",
          "data": {
            "text/plain": [
              "23/15"
            ]
          },
          "metadata": {},
          "execution_count": 82
        }
      ]
    },
    {
      "cell_type": "markdown",
      "source": [
        "Реализуйте класс `Dot`. Для класа должна быть реализована возможность вывода с помощью функции `print`, а также возможность сравнивать точки *(точка $A(x_1, y_1)$ меньше точки $B(x_2, y_2)$, если $x_1 < x_2$)*. На вход конструктор принимает две координаты $x$ и $y$"
      ],
      "metadata": {
        "id": "gEyMHiy1z192"
      }
    },
    {
      "cell_type": "code",
      "source": [
        "class Dot:\n",
        "    def __init__(self, x, y):\n",
        "        self.x = x\n",
        "        self.y = y\n",
        "    \n",
        "    def __repr__(self):\n",
        "        return f\"Dot: ({self.x}, {self.y})\"\n",
        "\n",
        "    def __gt__(self, dot):\n",
        "        return self.x > dot.x\n",
        "\n",
        "    def __lt__(self, dot):\n",
        "        return self.x < dot.x\n",
        "\n",
        "    def __eq__(self, dot):\n",
        "        return self.x == dot.x"
      ],
      "metadata": {
        "id": "BcqiWiso0gk8"
      },
      "execution_count": 83,
      "outputs": []
    },
    {
      "cell_type": "code",
      "source": [
        "d = Dot(1.0, 2.0)\n",
        "print(d)"
      ],
      "metadata": {
        "colab": {
          "base_uri": "https://localhost:8080/"
        },
        "id": "WKOm8hOcdw0o",
        "outputId": "b6a6a673-e5c7-46a6-addf-3d66b930db5a"
      },
      "execution_count": 84,
      "outputs": [
        {
          "output_type": "stream",
          "name": "stdout",
          "text": [
            "Dot: (1.0, 2.0)\n"
          ]
        }
      ]
    },
    {
      "cell_type": "code",
      "source": [
        "t = Dot(2, 0)\n",
        "d < t"
      ],
      "metadata": {
        "colab": {
          "base_uri": "https://localhost:8080/"
        },
        "id": "EI5Vxdozev7s",
        "outputId": "1d4efdea-ce95-43f0-99ae-7ba236a80105"
      },
      "execution_count": 85,
      "outputs": [
        {
          "output_type": "execute_result",
          "data": {
            "text/plain": [
              "True"
            ]
          },
          "metadata": {},
          "execution_count": 85
        }
      ]
    },
    {
      "cell_type": "code",
      "source": [
        "t > d"
      ],
      "metadata": {
        "colab": {
          "base_uri": "https://localhost:8080/"
        },
        "id": "L4yAJSbZfWPQ",
        "outputId": "bb12efa7-9405-4804-a663-658de5e59da4"
      },
      "execution_count": 86,
      "outputs": [
        {
          "output_type": "execute_result",
          "data": {
            "text/plain": [
              "True"
            ]
          },
          "metadata": {},
          "execution_count": 86
        }
      ]
    },
    {
      "cell_type": "markdown",
      "source": [
        "Задача: реализуйте класс `Vector`. В классе должны быть предусмотрены методы для сложения, вычитания, умножения на вектор и скаляр, печати, вычисления длины вектора, проверки на невырожденность. При инициализации экземпляр класса должен получать на вход два экземпляра класса `Dot`."
      ],
      "metadata": {
        "id": "UXdcFvnfyzg7"
      }
    },
    {
      "cell_type": "code",
      "source": [
        "dir(float)"
      ],
      "metadata": {
        "colab": {
          "base_uri": "https://localhost:8080/"
        },
        "id": "os2_UaEQh7RG",
        "outputId": "ad69f48a-a1a5-4e89-dd20-b102212adc05"
      },
      "execution_count": 91,
      "outputs": [
        {
          "output_type": "execute_result",
          "data": {
            "text/plain": [
              "['__abs__',\n",
              " '__add__',\n",
              " '__bool__',\n",
              " '__class__',\n",
              " '__delattr__',\n",
              " '__dir__',\n",
              " '__divmod__',\n",
              " '__doc__',\n",
              " '__eq__',\n",
              " '__float__',\n",
              " '__floordiv__',\n",
              " '__format__',\n",
              " '__ge__',\n",
              " '__getattribute__',\n",
              " '__getformat__',\n",
              " '__getnewargs__',\n",
              " '__gt__',\n",
              " '__hash__',\n",
              " '__init__',\n",
              " '__init_subclass__',\n",
              " '__int__',\n",
              " '__le__',\n",
              " '__lt__',\n",
              " '__mod__',\n",
              " '__mul__',\n",
              " '__ne__',\n",
              " '__neg__',\n",
              " '__new__',\n",
              " '__pos__',\n",
              " '__pow__',\n",
              " '__radd__',\n",
              " '__rdivmod__',\n",
              " '__reduce__',\n",
              " '__reduce_ex__',\n",
              " '__repr__',\n",
              " '__rfloordiv__',\n",
              " '__rmod__',\n",
              " '__rmul__',\n",
              " '__round__',\n",
              " '__rpow__',\n",
              " '__rsub__',\n",
              " '__rtruediv__',\n",
              " '__set_format__',\n",
              " '__setattr__',\n",
              " '__sizeof__',\n",
              " '__str__',\n",
              " '__sub__',\n",
              " '__subclasshook__',\n",
              " '__truediv__',\n",
              " '__trunc__',\n",
              " 'as_integer_ratio',\n",
              " 'conjugate',\n",
              " 'fromhex',\n",
              " 'hex',\n",
              " 'imag',\n",
              " 'is_integer',\n",
              " 'real']"
            ]
          },
          "metadata": {},
          "execution_count": 91
        }
      ]
    },
    {
      "cell_type": "code",
      "source": [
        "class Vector:\n",
        "\n",
        "    def __init__(self, dot_1, dot_2):\n",
        "        self.x = dot_2.x - dot_1.x\n",
        "        self.y = dot_2.y - dot_1.y\n",
        "\n",
        "    def __add__(self, vec):\n",
        "        return Vector(Dot(0, 0), Dot(self.x + vec.x, self.y + vec.y))\n",
        "    \n",
        "    def __sub__(self, vec):\n",
        "        return Vector(Dot(0, 0), Dot(self.x - vec.x, self.y - vec.y))\n",
        "    \n",
        "    def __mul__(self, num):\n",
        "        return Vector(Dot(0, 0), Dot(self.x * num, self.y * num))\n",
        "    \n",
        "    def dot_product(self, vec):\n",
        "        return self.x * vec.x + self.y * vec.y\n",
        "    \n",
        "    def __repr__(self):\n",
        "        return f\"Vector: ({self.x}, {self.y})\"\n",
        "\n",
        "    def __abs__(self):\n",
        "        pass\n",
        "    \n",
        "    def __pow__(self):\n",
        "        pass"
      ],
      "metadata": {
        "id": "BTw6aJoimq5d"
      },
      "execution_count": 87,
      "outputs": []
    },
    {
      "cell_type": "code",
      "source": [
        "d1 = Dot(1, 3)\n",
        "v, w = Vector(t, d), Vector(d, t)\n",
        "v + w"
      ],
      "metadata": {
        "colab": {
          "base_uri": "https://localhost:8080/"
        },
        "id": "1VXZOLthg0o0",
        "outputId": "4db21aed-2d1e-4a9d-d297-bf9704fd96e2"
      },
      "execution_count": 88,
      "outputs": [
        {
          "output_type": "execute_result",
          "data": {
            "text/plain": [
              "Vector: (0.0, 0.0)"
            ]
          },
          "metadata": {},
          "execution_count": 88
        }
      ]
    },
    {
      "cell_type": "code",
      "source": [
        "abs(v) ** 2"
      ],
      "metadata": {
        "colab": {
          "base_uri": "https://localhost:8080/",
          "height": 165
        },
        "id": "-vPJwuhNh5ZJ",
        "outputId": "ba8fbe3d-b4fe-465a-d7d2-1481cd3f6602"
      },
      "execution_count": 89,
      "outputs": [
        {
          "output_type": "error",
          "ename": "TypeError",
          "evalue": "ignored",
          "traceback": [
            "\u001b[0;31m---------------------------------------------------------------------------\u001b[0m",
            "\u001b[0;31mTypeError\u001b[0m                                 Traceback (most recent call last)",
            "\u001b[0;32m<ipython-input-89-8c7765d591ac>\u001b[0m in \u001b[0;36m<module>\u001b[0;34m\u001b[0m\n\u001b[0;32m----> 1\u001b[0;31m \u001b[0mabs\u001b[0m\u001b[0;34m(\u001b[0m\u001b[0mv\u001b[0m\u001b[0;34m)\u001b[0m \u001b[0;34m**\u001b[0m \u001b[0;36m2\u001b[0m\u001b[0;34m\u001b[0m\u001b[0;34m\u001b[0m\u001b[0m\n\u001b[0m",
            "\u001b[0;31mTypeError\u001b[0m: bad operand type for abs(): 'Vector'"
          ]
        }
      ]
    },
    {
      "cell_type": "code",
      "source": [
        "if v + w:\n",
        "  print('YES')"
      ],
      "metadata": {
        "id": "oT6wMMfkiXmK"
      },
      "execution_count": null,
      "outputs": []
    },
    {
      "cell_type": "code",
      "source": [
        "v, w"
      ],
      "metadata": {
        "colab": {
          "base_uri": "https://localhost:8080/"
        },
        "id": "wnQigligjsqO",
        "outputId": "8438e469-e538-44c9-a18c-ef54d8cc4642"
      },
      "execution_count": null,
      "outputs": [
        {
          "output_type": "execute_result",
          "data": {
            "text/plain": [
              "(Vector (-1.0, 2.0), Vector (1.0, -2.0))"
            ]
          },
          "metadata": {},
          "execution_count": 78
        }
      ]
    },
    {
      "cell_type": "code",
      "source": [
        "v * 10"
      ],
      "metadata": {
        "colab": {
          "base_uri": "https://localhost:8080/"
        },
        "id": "aydm2S03i1ko",
        "outputId": "016fbe91-8039-4716-aaee-ede3f8ab4847"
      },
      "execution_count": null,
      "outputs": [
        {
          "output_type": "execute_result",
          "data": {
            "text/plain": [
              "Vector (-10.0, 20.0)"
            ]
          },
          "metadata": {},
          "execution_count": 79
        }
      ]
    },
    {
      "cell_type": "code",
      "source": [
        "v.product_mul(w)"
      ],
      "metadata": {
        "colab": {
          "base_uri": "https://localhost:8080/"
        },
        "id": "-NeN8BQMkXB8",
        "outputId": "b79992ef-9f65-40b8-df1a-2cc2021ac65c"
      },
      "execution_count": null,
      "outputs": [
        {
          "output_type": "execute_result",
          "data": {
            "text/plain": [
              "0.0"
            ]
          },
          "metadata": {},
          "execution_count": 80
        }
      ]
    },
    {
      "cell_type": "code",
      "source": [
        "v - w"
      ],
      "metadata": {
        "colab": {
          "base_uri": "https://localhost:8080/"
        },
        "id": "yhMZzzIRk1Ia",
        "outputId": "863cb07b-b298-4609-df60-df8fd2cd7ecd"
      },
      "execution_count": null,
      "outputs": [
        {
          "output_type": "execute_result",
          "data": {
            "text/plain": [
              "Vector (-2.0, 4.0)"
            ]
          },
          "metadata": {},
          "execution_count": 81
        }
      ]
    }
  ]
}