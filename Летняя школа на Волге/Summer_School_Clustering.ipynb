{
 "cells": [
  {
   "cell_type": "markdown",
   "metadata": {},
   "source": [
    "<h1>Кластеризация</h1>"
   ]
  },
  {
   "cell_type": "markdown",
   "metadata": {},
   "source": [
    "Выделяют несколько групп методов обучения без учителя:\n",
    "* кластеризация;\n",
    "* поиск правил ассоциации;\n",
    "* заполнение пропущенных значений;\n",
    "* сокращение размерности.\n",
    "\n",
    "Под кластеризацией понимается ситуация, в которой у нас нет значений целевой переменной, но ее необходимо приписать каждому из объектов.\n",
    "* Дано множество объектов $X = \\{x_1, x_2, \\dots, x_N\\}$.\n",
    "* Дано множество классов $C = \\{c_1, c_2, \\dots, c_K\\}$.\n",
    "* Необходимо найти функцию $f(X) \\rightarrow C$.\n"
   ]
  },
  {
   "cell_type": "markdown",
   "metadata": {},
   "source": [
    "## Метод к-средних (k-means)\n",
    "\n",
    "**Постановка задачи**\n",
    "\n",
    "* Дано множество объектов $X = \\{x_1, x_2, \\dots, x_N\\}$\n",
    "* Кластер $C_k \\Leftrightarrow \\text{ центроид } \\mu_k$\n",
    "* Объект $x_i \\in C_k \\Leftrightarrow \\mu_k = \\arg \\min\\limits_{\\mu_j} \\|x_i - \\mu_j \\|^2$\n",
    "* Надо найти такое разбиение на $K$ кластеров, чтобы минизировать\n",
    "$$ L(C) = \\sum_{k=1}^K\\sum_{i\\in C_k} ||x_i - \\mu_k||^2 \\rightarrow \\min\\limits_C $$\n",
    "$$\\mu_k = \\frac{1}{|C_k|} \\sum _{x_n \\in C_k} x_n$$\n",
    "\n",
    "** Алгоритм работы**\n",
    "1. Выбрать $K$ начальных центроидов случайным образом  $rnd() \\rightarrow \\mu_k, \\ k=1\\dots K$\n",
    "2. Для каждой точки из набора данных присвоить кластер, соответствующий ближайшему центроиду\n",
    "$$C_k = \\{x_n : argmin_{k=1 \\dots K}(||x_n - \\mu_k||^2)\\} $$\n",
    "3. Обновить центроиды: \n",
    "$$\\mu_k = \\frac{1}{|C_k|} \\sum _{x_n \\in C_k} x_n$$\n",
    "4. Повторять 2 и 3 до тех пор, пока изменения перестанут быть существенными "
   ]
  },
  {
   "cell_type": "code",
   "execution_count": 7,
   "metadata": {},
   "outputs": [],
   "source": [
    "import numpy as np\n",
    "import pandas as pd\n",
    "\n",
    "import matplotlib.pyplot as plt\n",
    "import seaborn as sns\n",
    "\n",
    "from sklearn.datasets import make_blobs\n",
    "from sklearn.cluster import KMeans\n",
    "\n",
    "from ipywidgets import interact, IntSlider, fixed, FloatSlider"
   ]
  },
  {
   "cell_type": "code",
   "execution_count": 8,
   "metadata": {},
   "outputs": [],
   "source": [
    "%matplotlib inline\n",
    "\n",
    "plt.style.use('ggplot')\n",
    "plt.rcParams['figure.figsize'] = (12, 8)"
   ]
  },
  {
   "cell_type": "code",
   "execution_count": 9,
   "metadata": {},
   "outputs": [
    {
     "data": {
      "application/vnd.jupyter.widget-view+json": {
       "model_id": "d2c728f7aba9435a9e6a4eb8ff0174ee",
       "version_major": 2,
       "version_minor": 0
      },
      "text/plain": [
       "interactive(children=(IntSlider(value=2, description='n', max=8, min=2), Output()), _dom_classes=('widget-inte…"
      ]
     },
     "metadata": {},
     "output_type": "display_data"
    }
   ],
   "source": [
    "def drawClusters(n=2):\n",
    "    \n",
    "    X, y = make_blobs(n_samples=500,\n",
    "                      n_features=2,\n",
    "                      centers=4,\n",
    "                      cluster_std=1,\n",
    "                      center_box=(-10.0, 10.0),\n",
    "                      shuffle=True,\n",
    "                      random_state=1) \n",
    "\n",
    "    #kmeans = KMeans(n_clusters=n, random_state=1).fit(X)\n",
    "    kmeans = KMeans(n_clusters=n).fit(X)\n",
    "\n",
    "    fig, ax = plt.subplots(1,1)\n",
    "    ax.scatter(X[:,0], X[:,1], c=kmeans.labels_)\n",
    "    \n",
    "    ax.scatter(kmeans.cluster_centers_[:, 0], kmeans.cluster_centers_[:, 1],\n",
    "                  marker='o', c=\"white\", alpha=1, s=200)\n",
    "    \n",
    "    ax.set_xlabel('$x_1$')\n",
    "    ax.set_ylabel('$x_2$')\n",
    "\n",
    "    for i, c in enumerate(kmeans.cluster_centers_):\n",
    "        ax.scatter(c[0], c[1], marker='$%d$' % i, alpha=1, s=50)\n",
    "    plt.show()\n",
    "    \n",
    "interact(drawClusters, n=IntSlider(min=2,max=8,step=1,value=2));\n",
    "    "
   ]
  },
  {
   "cell_type": "markdown",
   "metadata": {},
   "source": [
    "### Как это работает"
   ]
  },
  {
   "cell_type": "markdown",
   "metadata": {},
   "source": [
    "Вы можете пропустить этот кусок кода и посмотреть хорошую интерактивную демку вот [здесь](https://www.naftaliharris.com/blog/visualizing-k-means-clustering/). "
   ]
  },
  {
   "cell_type": "code",
   "execution_count": 4,
   "metadata": {},
   "outputs": [],
   "source": [
    "import numpy as np\n",
    "import pandas as pd\n",
    "\n",
    "import matplotlib.pyplot as plt\n",
    "import seaborn as sns\n",
    "plt.style.use('ggplot')\n",
    "plt.rcParams['figure.figsize'] = (12,8)\n",
    "\n",
    "\n",
    "from sklearn.datasets import make_blobs\n",
    "from sklearn.cluster import KMeans\n",
    "\n",
    "from ipywidgets import Button, interact, interactive_output, HBox, VBox, Layout, \\\n",
    "                       Output, FloatSlider, IntSlider, Checkbox, interact\n",
    "from IPython.display import display\n"
   ]
  },
  {
   "cell_type": "code",
   "execution_count": 5,
   "metadata": {},
   "outputs": [],
   "source": [
    "centers_count = 4\n",
    "coord_centers = []\n",
    "k_classes = []\n",
    "points_count = 180\n",
    "min_x = 0\n",
    "max_x = 100\n",
    "min_y = 0\n",
    "max_y = 100\n",
    "step_no = 1\n",
    "\n",
    "def drawKPoints():\n",
    "    global ax, out5, k_points, k_classes, coord_centers\n",
    "    ax.clear()\n",
    "    ax.set_xlim(min_x-2, max_x+2)\n",
    "    ax.set_ylim(min_y-2, max_y+2)\n",
    "    ax.scatter(k_points[:,0], k_points[:,1], c=k_classes)\n",
    "    ax.scatter(coord_centers[:,0], coord_centers[:,1], c='r', s=70)\n",
    "\n",
    "    if buttonLines.value:\n",
    "        for i in range(centers_count):\n",
    "            for j in range(i+1, centers_count):\n",
    "                a = -(coord_centers[i,0] - coord_centers[j,0]) / (coord_centers[i,1] - coord_centers[j,1])\n",
    "                x = (coord_centers[i,0] + coord_centers[j,0]) / 2\n",
    "                y = (coord_centers[i,1] + coord_centers[j,1]) / 2\n",
    "                b = y - a * x\n",
    "                ax.plot([min_x, max_x], [a*min_x+b, a*max_x+b], c='g', alpha=0.3)\n",
    "                ax.scatter([x], [y], c='g')\n",
    "    \n",
    "    with out5:\n",
    "        out5.clear_output(wait=True)\n",
    "        display(ax.figure)\n",
    "\n",
    "def makeAStep(arg):\n",
    "    global k_points, k_classes, coord_centers, step_no\n",
    "    if step_no != 1:\n",
    "        for i in range(centers_count):\n",
    "            coord_centers[i] = np.average(k_points[k_classes==i], axis=0)   \n",
    "        \n",
    "    dist = np.zeros((k_points.shape[0], centers_count))\n",
    "    for i in range(centers_count):\n",
    "        dist[:,i] = np.linalg.norm(k_points - coord_centers[i], axis=1)\n",
    "        \n",
    "    k_classes = np.argmin(dist, axis=1)\n",
    "#     for i in range(centers_count):\n",
    "#         coord_centers[i] = np.average(k_points[k_classes==i], axis=0)   \n",
    "    step_no += 1\n",
    "\n",
    "    drawKPoints()\n",
    "    \n",
    "def generateKPoints(arg):\n",
    "    global k_points, k_classes, coord_centers, centers_count, min_x, max_x, min_y, max_y, ax, step_no\n",
    "    k_points, k_classes = make_blobs(n_samples=points_count, centers=sld1.value, \n",
    "                                     cluster_std=1.2,  random_state=1)\n",
    "    centers_count = sld2.value\n",
    "    coord_centers = k_points[np.random.randint(0, points_count-1, centers_count)]\n",
    "    step_no = 1\n",
    "    min_x = min(k_points[:,0])\n",
    "    max_x = max(k_points[:,0])\n",
    "    min_y = min(k_points[:,1])\n",
    "    max_y = max(k_points[:,1])\n",
    "    drawKPoints()\n"
   ]
  },
  {
   "cell_type": "code",
   "execution_count": 10,
   "metadata": {
    "scrolled": false
   },
   "outputs": [
    {
     "data": {
      "application/vnd.jupyter.widget-view+json": {
       "model_id": "5e1a127b48954204a502525024a0e1c0",
       "version_major": 2,
       "version_minor": 0
      },
      "text/plain": [
       "VBox(children=(Output(layout=Layout(border='solid', height='400px', width='600px')), HBox(children=(Button(des…"
      ]
     },
     "metadata": {},
     "output_type": "display_data"
    },
    {
     "data": {
      "image/png": "[encoded data removed]",
      "text/plain": [
       "<Figure size 864x576 with 1 Axes>"
      ]
     },
     "metadata": {},
     "output_type": "display_data"
    }
   ],
   "source": [
    "# Отображение точек.\n",
    "out5 = Output(layout=Layout(height='400px', width = '600px', border='solid'))\n",
    "ax = plt.gca()\n",
    "\n",
    "buttonGen = Button(description='Generate')\n",
    "buttonStep = Button(description='Step')\n",
    "buttonLines = Checkbox(value=True, description='Draw borders')\n",
    "sld1 = IntSlider(value=3, min=2, max=10, step=1, description='Clusters to generate')\n",
    "sld2 = IntSlider(value=3, min=2, max=10, step=1, description='Clusters to generate')\n",
    "hbox = HBox(children=(buttonGen, buttonStep,buttonLines,))\n",
    "hbox2 = HBox(children=(sld1, sld2,))\n",
    "\n",
    "vbox = VBox(children=(out5, hbox, hbox2))\n",
    "display(vbox)\n",
    "with out5:\n",
    "    out5.clear_output(wait=True)\n",
    "\n",
    "buttonGen.on_click(generateKPoints)\n",
    "buttonStep.on_click(makeAStep)\n",
    "\n",
    "generateKPoints(None)\n"
   ]
  },
  {
   "cell_type": "markdown",
   "metadata": {},
   "source": [
    "Проблемы:\n",
    "* разбиение на кластеры неустойчивое;\n",
    "* сколько кластеров брать неясно;\n",
    "* все кластеры по определению выпуклые.\n",
    "\n",
    "Достоинства:\n",
    "* простой и эффективный как палка;\n",
    "* очень быстрый;\n",
    "* хорошее первое приближение;\n",
    "* имеет массу модификаций;\n",
    "* интерпретируемые результаты.\n",
    "\n",
    "**Хорошее первое приближение.**"
   ]
  },
  {
   "cell_type": "markdown",
   "metadata": {},
   "source": [
    "### Как выбрать k?\n",
    "\n",
    "**Elbow method (Метод локтя)**\n",
    "* Критерий минимизации k-means\n",
    "$$ L(C) = \\sum_{k=1}^K\\sum_{i\\in C_k} ||x_i - \\mu_k||^2 \\rightarrow \\min\\limits_C $$\n",
    "* Давайте возьмем всевозможные $K$, для каждого запустим алгоритм, посчитаем на результате $L(C)$ и выберем минимум!"
   ]
  },
  {
   "cell_type": "code",
   "execution_count": 11,
   "metadata": {},
   "outputs": [],
   "source": [
    "X, y = make_blobs(n_samples=500,\n",
    "                  n_features=2,\n",
    "                  centers=4,\n",
    "                  cluster_std=1,\n",
    "                  center_box=(-10.0, 10.0),\n",
    "                  shuffle=True,\n",
    "                  random_state=1) \n",
    "\n",
    "\n",
    "crit = []\n",
    "\n",
    "max_num = 12\n",
    "for k in range(2, max_num):\n",
    "    kmeans = KMeans(n_clusters=k, random_state=1).fit(X)\n",
    "    crit.append(np.sqrt(kmeans.inertia_))\n",
    "    \n",
    "def elbow_demo(k=2):\n",
    "    \n",
    "    X, y = make_blobs(n_samples=500,\n",
    "                  n_features=2,\n",
    "                  centers=4,\n",
    "                  cluster_std=1,\n",
    "                  center_box=(-10.0, 10.0),\n",
    "                  shuffle=True,\n",
    "                  random_state=1) \n",
    "    \n",
    "    kmeans = KMeans(n_clusters=k, random_state=1).fit(X)\n",
    "    \n",
    "    fig, ax = plt.subplots(1,2)\n",
    "    \n",
    "    ax[0].scatter(X[:,0], X[:,1], c=kmeans.labels_)\n",
    "    \n",
    "    ax[0].scatter(kmeans.cluster_centers_[:, 0], kmeans.cluster_centers_[:, 1],\n",
    "                  marker='o', c=\"white\", alpha=1, s=200)\n",
    "    \n",
    "    ax[0].set_xlabel('$x_1$')\n",
    "    ax[0].set_ylabel('$x_2$')\n",
    "\n",
    "    for i, c in enumerate(kmeans.cluster_centers_):\n",
    "        ax[0].scatter(c[0], c[1], marker=f'${i}$', alpha=1, s=50)\n",
    "        \n",
    "    ax[1].scatter(k, crit[k-2], color='g', marker='s', s=90)\n",
    "    ax[1].plot(range(2,max_num), crit, marker='s')\n",
    "    \n",
    "    ax[1].set_xlabel('$k$')\n",
    "    ax[1].set_ylabel('$L^{(k)}(C)$')\n",
    "    \n",
    "    plt.show()\n",
    "    \n",
    "    \n",
    "    "
   ]
  },
  {
   "cell_type": "code",
   "execution_count": 12,
   "metadata": {},
   "outputs": [
    {
     "data": {
      "application/vnd.jupyter.widget-view+json": {
       "model_id": "6edb4dd8f1da4a0db71d3aa0f49d647d",
       "version_major": 2,
       "version_minor": 0
      },
      "text/plain": [
       "interactive(children=(IntSlider(value=2, description='k', max=10, min=2), Output()), _dom_classes=('widget-int…"
      ]
     },
     "metadata": {},
     "output_type": "display_data"
    }
   ],
   "source": [
    "interact(elbow_demo, k=IntSlider(min=2,max=10,step=1,value=2));"
   ]
  },
  {
   "cell_type": "markdown",
   "metadata": {},
   "source": [
    "### Dunn Index\n",
    "\n",
    "Введем обозначения:\n",
    "* $\\delta(C_k,C_l) = \\min\\limits_{x_i\\in C_k, x_j \\in C_l}d(x_i, x_j) $ - расстояние между кластерами $C_k, C_l$\n",
    "* $\\Delta(C_k) = \\max\\limits_{x_i, x_j \\in C_k}d(x_i, x_j)$ - диаметр кластера\n",
    "\n",
    "Тогда \n",
    "$$DI = \\frac{\\min\\limits_{k \\neq l} \\delta(C_k, C_l)}{\\max\\limits_{(C_k)} \\Delta(C_k)} $$\n",
    "\n",
    "*Существует несколько вариаций данного индекса*"
   ]
  },
  {
   "cell_type": "code",
   "execution_count": 13,
   "metadata": {},
   "outputs": [],
   "source": [
    "from scipy.spatial import distance_matrix"
   ]
  },
  {
   "cell_type": "code",
   "execution_count": 14,
   "metadata": {},
   "outputs": [],
   "source": [
    "# Рассчитываем расстоярия между центроидами кластеров.\n",
    "def calc_clusters_dist(data, cluster_count):\n",
    "    dist = distance_matrix(data, data)\n",
    "    dist[np.arange(cluster_count), np.arange(cluster_count)] = 10e9\n",
    "    pos = np.argmin(dist)\n",
    "    x_max, y_max = pos % cluster_count, int(pos / cluster_count)\n",
    "    return dist[y_max, x_max], y_max, x_max\n",
    "\n",
    "# Рассчитываем диаметры кластеров.\n",
    "def calc_points_dist(data):\n",
    "    dist = distance_matrix(data, data)\n",
    "    pos = np.argmax(dist)\n",
    "    x_max, y_max = pos % data.shape[0], int(pos / data.shape[0])\n",
    "    return dist[y_max, x_max], y_max, x_max\n",
    "\n",
    "def calc_dunn(data, cluster_centers, clusters):\n",
    "    dist_cl, y_cl, x_cl = calc_clusters_dist(cluster_centers, cluster_centers.shape[0])\n",
    "    dd = [calc_points_dist(data[clusters==i]) for i in range(max(clusters)+1)]\n",
    "    points = np.argmax([d[0] for d in dd])\n",
    "    return dist_cl, y_cl, x_cl, dd[points][0], points\n",
    "        \n",
    "    \n",
    "def dunn_demo(k=2):\n",
    "    \n",
    "    kmeans = KMeans(n_clusters=k, random_state=1).fit(X)\n",
    "    \n",
    "    fig, ax = plt.subplots(1,2)\n",
    "    \n",
    "    ax[0].scatter(X[:,0], X[:,1], c=kmeans.labels_)\n",
    "    \n",
    "    ax[0].scatter(kmeans.cluster_centers_[:, 0], kmeans.cluster_centers_[:, 1],\n",
    "                  marker='o', c=\"white\", alpha=1, s=200)\n",
    "    \n",
    "    ax[0].set_xlabel('$x_1$')\n",
    "    ax[0].set_ylabel('$x_2$')\n",
    "\n",
    "    for i, c in enumerate(kmeans.cluster_centers_):\n",
    "        ax[0].scatter(c[0], c[1], marker=f'${i}$', alpha=1, s=50)\n",
    "        \n",
    "        \n",
    "    dn = calc_dunn(X, kmeans.cluster_centers_, kmeans.labels_)\n",
    "    ax[0].plot(kmeans.cluster_centers_[[dn[1], dn[2]], 0], \n",
    "               kmeans.cluster_centers_[[dn[1], dn[2]], 1],\n",
    "               linewidth=3)\n",
    "    max_clust = X[kmeans.labels_==dn[4]]\n",
    "    r = calc_points_dist(max_clust)\n",
    "    ax[0].plot([max_clust[r[1]][0], max_clust[r[2]][0]],\n",
    "               [max_clust[r[1]][1], max_clust[r[2]][1]], \n",
    "               c=\"g\", linewidth=3)\n",
    "        \n",
    "    ax[1].scatter(k, crit[k-2], color='g', marker='s', s=90)\n",
    "    ax[1].plot(range(2,max_num), crit, marker='s')\n",
    "    \n",
    "    ax[1].set_xlabel('$k$')\n",
    "    ax[1].set_ylabel('$L^{(k)}(C)$')\n",
    "    \n",
    "    plt.show()\n",
    "\n",
    "    \n",
    "X, y = make_blobs(n_samples=500,\n",
    "                  n_features=2,\n",
    "                  centers=4,\n",
    "                  cluster_std=1,\n",
    "                  center_box=(-10.0, 10.0),\n",
    "                  shuffle=True,\n",
    "                  random_state=1) \n",
    "\n",
    "\n",
    "crit = []\n",
    "\n",
    "max_num = 12\n",
    "for k in range(2, max_num):\n",
    "    kmeans = KMeans(n_clusters=k, random_state=1).fit(X)\n",
    "    dn = calc_dunn(X, kmeans.cluster_centers_, kmeans.labels_)\n",
    "    crit.append(dn[0]/dn[3])\n",
    "    \n",
    "    "
   ]
  },
  {
   "cell_type": "code",
   "execution_count": 15,
   "metadata": {
    "scrolled": false
   },
   "outputs": [
    {
     "data": {
      "application/vnd.jupyter.widget-view+json": {
       "model_id": "7cfb860dfd0d4a249b39bd3eb08ddf91",
       "version_major": 2,
       "version_minor": 0
      },
      "text/plain": [
       "interactive(children=(IntSlider(value=2, description='k', max=10, min=2), Output()), _dom_classes=('widget-int…"
      ]
     },
     "metadata": {},
     "output_type": "display_data"
    }
   ],
   "source": [
    "interact(dunn_demo, k=IntSlider(min=2,max=10,step=1,value=2));"
   ]
  },
  {
   "cell_type": "markdown",
   "metadata": {},
   "source": [
    "### Davies–Bouldin Index\n",
    "\n",
    "Введем обозначения\n",
    "* $S(C_k) = 1/|C_k|\\sum\\limits_{x_i \\in C_k} d(x_i, \\mu_{c_k})$ - разброс данных внутри кластера $C_k$\n",
    "\n",
    "$$ DB = \\frac{1}{K}\\sum\\limits_{C_k}\\max\\limits_{C_l \\neq C_k}\\frac{S(C_K) + S(C_l)}{d(\\mu_{c_k}, \\mu_{c_l})} $$\n",
    "\n",
    "*Существует несколько вариаций данного индекса*"
   ]
  },
  {
   "cell_type": "code",
   "execution_count": 16,
   "metadata": {},
   "outputs": [],
   "source": [
    "# Рассчитываем среднее расстояние до центроида внутри кластеров.\n",
    "def calc_incluster_dist(data, cluster_centers, clusters):\n",
    "    dists = []\n",
    "    for i, clust in enumerate(cluster_centers):\n",
    "        t_data = data[clusters==i]\n",
    "        d = t_data - clust\n",
    "        d = np.hypot(d[:, 0], d[:, 1])\n",
    "        dists.append(d.mean())\n",
    "    return dists\n",
    "    \n",
    "def calc_davis(data, cluster_centers, clusters):\n",
    "    inter_dist = calc_incluster_dist(data, cluster_centers, clusters)\n",
    "    dist = distance_matrix(cluster_centers, cluster_centers)\n",
    "    nearest = []\n",
    "    vals = 0\n",
    "    for i in range(cluster_centers.shape[0]):\n",
    "        max2, max_val = -1, 0\n",
    "        for j in range(cluster_centers.shape[0]):\n",
    "            if i == j:\n",
    "                continue\n",
    "            db = (inter_dist[i] + inter_dist[j]) / dist[j][i]\n",
    "#             print(i, j, db, inter_dist[i], inter_dist[j], dist[j][i])\n",
    "            if db > max_val:\n",
    "                max2, max_val = j, db\n",
    "        nearest.append(max2)\n",
    "        vals += max_val\n",
    "                \n",
    "#     return min1, min2, dist[min1][min2], inter_dist[min1], inter_dist[min2]\n",
    "    return vals / cluster_centers.shape[0], nearest\n",
    "        \n",
    "    \n",
    "def davis_demo(k=2):\n",
    "    \n",
    "    kmeans = KMeans(n_clusters=k, random_state=1).fit(X)\n",
    "    \n",
    "    fig, ax = plt.subplots(1,2)\n",
    "    \n",
    "    ax[0].scatter(X[:,0], X[:,1], c=kmeans.labels_)\n",
    "    \n",
    "    ax[0].scatter(kmeans.cluster_centers_[:, 0], kmeans.cluster_centers_[:, 1],\n",
    "                  marker='o', c=\"white\", alpha=1, s=200)\n",
    "    \n",
    "    ax[0].set_xlabel('$x_1$')\n",
    "    ax[0].set_ylabel('$x_2$')\n",
    "\n",
    "    for i, c in enumerate(kmeans.cluster_centers_):\n",
    "        ax[0].scatter(c[0], c[1], marker=f'${i}$', alpha=1, s=50)\n",
    "        \n",
    "        \n",
    "    val, nearest = calc_davis(X, kmeans.cluster_centers_, kmeans.labels_)\n",
    "    for i, near in enumerate(nearest):\n",
    "        ax[0].plot([kmeans.cluster_centers_[i, 0],\n",
    "                    kmeans.cluster_centers_[near, 0]+0.2], \n",
    "                   [kmeans.cluster_centers_[i, 1],\n",
    "                    kmeans.cluster_centers_[near, 1]+0.2],\n",
    "                   linewidth=3)\n",
    "        \n",
    "    ax[1].scatter(k, crit[k-2], color='g', marker='s', s=90)\n",
    "    ax[1].plot(range(2,max_num), crit, marker='s')\n",
    "    \n",
    "    ax[1].set_xlabel('$k$')\n",
    "    ax[1].set_ylabel('$L^{(k)}(C)$')\n",
    "    \n",
    "    plt.show()\n",
    "\n",
    "    \n",
    "X, y = make_blobs(n_samples=500,\n",
    "                  n_features=2,\n",
    "                  centers=4,\n",
    "                  cluster_std=1,\n",
    "                  center_box=(-10.0, 10.0),\n",
    "                  shuffle=True,\n",
    "                  random_state=1) \n",
    "\n",
    "\n",
    "crit = []\n",
    "\n",
    "max_num = 12\n",
    "for k in range(2, max_num):\n",
    "    kmeans = KMeans(n_clusters=k, random_state=1).fit(X)\n",
    "    crit.append(calc_davis(X, kmeans.cluster_centers_, kmeans.labels_)[0])\n",
    "    \n",
    "    "
   ]
  },
  {
   "cell_type": "code",
   "execution_count": 17,
   "metadata": {
    "scrolled": false
   },
   "outputs": [
    {
     "data": {
      "application/vnd.jupyter.widget-view+json": {
       "model_id": "703461e276024a42a9c10c54c64d7ab1",
       "version_major": 2,
       "version_minor": 0
      },
      "text/plain": [
       "interactive(children=(IntSlider(value=2, description='k', max=11, min=2), Output()), _dom_classes=('widget-int…"
      ]
     },
     "metadata": {},
     "output_type": "display_data"
    }
   ],
   "source": [
    "interact(davis_demo, k=IntSlider(min=2,max=11,step=1,value=2));"
   ]
  },
  {
   "cell_type": "markdown",
   "metadata": {},
   "source": [
    "### Критерий Kalinski-Harabacz (Калинского-Гарабача)\n",
    "\n",
    "$CH(k)=\\frac{B(k)/(k-1)}{W(k)/(N-k)}=\\frac{B(k)}{W(k)}*\\frac{N-k}{k-1}$\n",
    "\n",
    "$B(k)=\\sum\\limits_{i=1}^{N_c}{n_i*(c_i-c)^2}$ ; \n",
    "$W(k)=\\sum\\limits_{j=1}^{N_c}{\\sum\\limits_{i=1}^{n_j}{(d_i-c_j)^2}}$\n",
    "\n",
    "$N_c$ - количество кластеров;<br>\n",
    "$N_d$ - количество документов;<br>\n",
    "$n_i$ - количество документов в кластере $i$;<br>\n",
    "$с_i$ - вектор центроида кластера $i$;<br>\n",
    "$с$ - вектор центроида всей коллекции документов;<br>\n",
    "$d_i$ - вектор документа $i$.<br>"
   ]
  },
  {
   "cell_type": "markdown",
   "metadata": {},
   "source": [
    "### Критерий Silhouette\n",
    "\n",
    "Пусть дана кластеризация в $K$ кластеров, и объект $i$ попал в $C_k$\n",
    "\n",
    "* $a(i)$ -- среднее расстояние от $i$ объекта до объектов из $C_k$\n",
    "* $b(i) = min_{j \\neq k} b_j(i)$,  где $b_j(i)$ -- среднее расстояние от $i$ объекта до объектов из $C_j$\n",
    "$$\n",
    "silhouette(i) = \\frac{b(i) - a(i)}{\\max(a(i), b(i))}\n",
    "$$\n",
    "Средний silhouette для всех точек из $\\mathbf{X}$ является критерием качества кластеризации."
   ]
  },
  {
   "cell_type": "code",
   "execution_count": 18,
   "metadata": {},
   "outputs": [],
   "source": [
    "from sklearn.metrics import silhouette_samples, silhouette_score\n",
    "from matplotlib.cm import autumn"
   ]
  },
  {
   "cell_type": "code",
   "execution_count": 19,
   "metadata": {},
   "outputs": [],
   "source": [
    "def sil_demo(k=2):\n",
    "    \n",
    "    kmeans = KMeans(n_clusters=k, random_state=1).fit(X)\n",
    "    \n",
    "    fig, ax = plt.subplots(1,2)\n",
    "    \n",
    "    sil = silhouette_samples(X, kmeans.labels_)\n",
    "    ax[0].scatter(X[:,0], X[:,1], c=sil)\n",
    "    \n",
    "    ax[0].scatter(kmeans.cluster_centers_[:, 0], kmeans.cluster_centers_[:, 1],\n",
    "                  marker='o', c=\"white\", alpha=1, s=200)\n",
    "    \n",
    "    ax[0].set_xlabel('$x_1$')\n",
    "    ax[0].set_ylabel('$x_2$')\n",
    "\n",
    "    for i, c in enumerate(kmeans.cluster_centers_):\n",
    "        ax[0].scatter(c[0], c[1], marker=f'${i}$', alpha=1, s=50)\n",
    "        \n",
    "        \n",
    "        \n",
    "    ax[1].scatter(k, crit[k-2], color='g', marker='s', s=90)\n",
    "    ax[1].plot(range(2, max_num), crit, marker='s')\n",
    "    \n",
    "    ax[1].set_xlabel('$k$')\n",
    "    ax[1].set_ylabel('$L^{(k)}(C)$')\n",
    "    \n",
    "    plt.show()\n",
    "\n",
    "    \n",
    "X, y = make_blobs(n_samples=500,\n",
    "                  n_features=2,\n",
    "                  centers=4,\n",
    "                  cluster_std=1,\n",
    "                  center_box=(-10.0, 10.0),\n",
    "                  shuffle=True,\n",
    "                  random_state=1) \n",
    "\n",
    "crit = []\n",
    "\n",
    "max_num = 12\n",
    "for k in range(2, max_num):\n",
    "    kmeans = KMeans(n_clusters=k, random_state=1).fit(X)\n",
    "    crit.append(silhouette_score(X, kmeans.labels_))\n",
    "    \n",
    "    "
   ]
  },
  {
   "cell_type": "code",
   "execution_count": 20,
   "metadata": {
    "scrolled": false
   },
   "outputs": [
    {
     "data": {
      "application/vnd.jupyter.widget-view+json": {
       "model_id": "3451c81df33d41d9806f254e00970f17",
       "version_major": 2,
       "version_minor": 0
      },
      "text/plain": [
       "interactive(children=(IntSlider(value=2, description='k', max=10, min=2), Output()), _dom_classes=('widget-int…"
      ]
     },
     "metadata": {},
     "output_type": "display_data"
    }
   ],
   "source": [
    "interact(sil_demo, k=IntSlider(min=2,max=10,step=1,value=2));"
   ]
  },
  {
   "cell_type": "markdown",
   "metadata": {},
   "source": [
    "Если мы знаем истинное разбиение объектов на классы, то можно посчитать \n",
    "### Rand Index\n",
    "\n",
    "$$ \\text{Rand}(\\hat{\\pi},\\pi^*) = \\frac{a + d}{a + b + c + d} \\text{,}$$\n",
    "где \n",
    "* $a$ - количество пар объектов, находящихся в одинаковых кластерах в $\\hat{\\pi}$ и\n",
    "$\\pi^*$ (true positive);\n",
    "* $b$ ($c$) - количество пар объектов в одном и том же кластере в  $\\hat{\\pi}$ ($\\pi^*$), но в разных в  $\\pi^*$ ($\\hat{\\pi}$) (false positive, false negative);\n",
    "* $d$ - количество пар объектов в разных кластерах в $\\hat{\\pi}$ и $\\pi^*$ (true negative).\n",
    "\n",
    "\n",
    "### Adjusted Rand Index - корректировка Rand index:\n",
    "\n",
    "$$\\text{ARI}(\\hat{\\pi},\\pi^*)   = \\frac{\\text{Rand}(\\hat{\\pi},\\pi^*) - \\text{Expected}}{\\text{Max} - \\text{Expected}}$$\n"
   ]
  },
  {
   "cell_type": "markdown",
   "metadata": {},
   "source": [
    "Вот [здесь](https://scikit-learn.org/0.21/modules/classes.html#clustering-metrics) есть еще куча разных метрик.\n",
    "\n",
    "И вот [тут](http://neerc.ifmo.ru/wiki/index.php?title=%D0%9E%D1%86%D0%B5%D0%BD%D0%BA%D0%B0_%D0%BA%D0%B0%D1%87%D0%B5%D1%81%D1%82%D0%B2%D0%B0_%D0%B2_%D0%B7%D0%B0%D0%B4%D0%B0%D1%87%D0%B5_%D0%BA%D0%BB%D0%B0%D1%81%D1%82%D0%B5%D1%80%D0%B8%D0%B7%D0%B0%D1%86%D0%B8%D0%B8) - не меньше."
   ]
  },
  {
   "cell_type": "code",
   "execution_count": 21,
   "metadata": {},
   "outputs": [],
   "source": [
    "from sklearn.metrics import silhouette_score\n",
    "from sklearn.metrics import adjusted_rand_score\n"
   ]
  },
  {
   "cell_type": "code",
   "execution_count": 24,
   "metadata": {},
   "outputs": [
    {
     "data": {
      "image/png": "[encoded data removed]",
      "text/plain": [
       "<Figure size 864x576 with 4 Axes>"
      ]
     },
     "metadata": {},
     "output_type": "display_data"
    }
   ],
   "source": [
    "X, y = make_blobs(n_samples=500,\n",
    "                  n_features=2,\n",
    "                  centers=4,\n",
    "                  cluster_std=1,\n",
    "                  center_box=(-10.0, 10.0),\n",
    "                  shuffle=True,\n",
    "                  random_state=1) \n",
    "\n",
    "\n",
    "crit = []\n",
    "sil = []\n",
    "ari = []\n",
    "\n",
    "for k in range(2, 8):\n",
    "    kmeans = KMeans(n_clusters=k, random_state=1).fit(X)\n",
    "    crit.append(np.sqrt(kmeans.inertia_))\n",
    "    sil.append(silhouette_score(X, kmeans.labels_))\n",
    "    ari.append(adjusted_rand_score(y, kmeans.labels_))\n",
    "    \n",
    "ax1 = plt.subplot(211)\n",
    "\n",
    "ax1.scatter(X[:,0], X[:,1], c=kmeans.labels_)\n",
    "\n",
    "ax1.scatter(kmeans.cluster_centers_[:, 0], kmeans.cluster_centers_[:, 1],\n",
    "              marker='o', c=\"white\", alpha=1, s=200)\n",
    "\n",
    "ax1.set_xlabel('$x_1$')\n",
    "ax1.set_ylabel('$x_2$')\n",
    "\n",
    "for i, c in enumerate(kmeans.cluster_centers_):\n",
    "    ax1.scatter(c[0], c[1], marker='$%d$' % i, alpha=1, s=50)\n",
    "\n",
    "ax2 = plt.subplot(234)\n",
    "ax2.plot(range(2,8), crit, marker='s')\n",
    "ax2.set_xlabel('$k$')\n",
    "ax2.set_title('Elbow')\n",
    "\n",
    "ax3 = plt.subplot(235)\n",
    "ax3.plot(range(2,8), sil, marker='s')\n",
    "ax3.set_xlabel('$k$')\n",
    "ax3.set_title('Silhouette')\n",
    "\n",
    "ax4 = plt.subplot(236)\n",
    "ax4.plot(range(2,8), ari, marker='s')\n",
    "ax4.set_xlabel('$k$')\n",
    "ax4.set_title('Adjusted Rand Index')\n",
    "\n",
    "plt.show()\n",
    "\n"
   ]
  },
  {
   "cell_type": "markdown",
   "metadata": {},
   "source": [
    "---"
   ]
  },
  {
   "cell_type": "markdown",
   "metadata": {},
   "source": [
    "## Методы, основанные на плотности\n",
    "\n",
    "Вместо того, чтобы оценивать расстояния между объектами, начнем оценивать плотность расположения объектов.\n",
    "\n",
    "### Метод DBSCAN\n",
    "\n",
    "Основные положения.\n",
    "1. Составляем кластер состоит не меньше чем из $n$ объектов, расположеных не дальше, чем $\\epsilon$. Берем для него $n$ самых близко расположенных точек.\n",
    "2. Добавляем все точки, расположенные ближе чем $\\epsilon$ к точкам, которые уже есть в кластере.\n",
    "3. Повторяем п. 2 пока есть что добавлять.\n",
    "4. Повторяем пп. 1-3 пока образуются кластеры.\n",
    "5. Помечаем все оставшиеся точки как не объединенные в кластеры (кластер точек, для которых кластеризация не была проведена).\n",
    "\n",
    "[Он-лайн демо для DBSCAN](https://www.naftaliharris.com/blog/visualizing-dbscan-clustering/)\n",
    "\n",
    "![](img/dbscan.jpg)"
   ]
  },
  {
   "cell_type": "markdown",
   "metadata": {},
   "source": [
    "Попробуем кластеризовать ирисы Фишера."
   ]
  },
  {
   "cell_type": "code",
   "execution_count": 25,
   "metadata": {},
   "outputs": [],
   "source": [
    "# Берем метод DBSCAN\n",
    "from sklearn.cluster import DBSCAN\n",
    "# Подключаем набор данных.\n",
    "from sklearn.datasets import load_iris"
   ]
  },
  {
   "cell_type": "code",
   "execution_count": 26,
   "metadata": {},
   "outputs": [],
   "source": [
    "# Загружаем набор данных.\n",
    "iris = sns.load_dataset('iris')"
   ]
  },
  {
   "cell_type": "code",
   "execution_count": 27,
   "metadata": {},
   "outputs": [
    {
     "data": {
      "text/html": [
       "<div>\n",
       "<style scoped>\n",
       "    .dataframe tbody tr th:only-of-type {\n",
       "        vertical-align: middle;\n",
       "    }\n",
       "\n",
       "    .dataframe tbody tr th {\n",
       "        vertical-align: top;\n",
       "    }\n",
       "\n",
       "    .dataframe thead th {\n",
       "        text-align: right;\n",
       "    }\n",
       "</style>\n",
       "<table border=\"1\" class=\"dataframe\">\n",
       "  <thead>\n",
       "    <tr style=\"text-align: right;\">\n",
       "      <th></th>\n",
       "      <th>sepal_length</th>\n",
       "      <th>sepal_width</th>\n",
       "      <th>petal_length</th>\n",
       "      <th>petal_width</th>\n",
       "      <th>species</th>\n",
       "    </tr>\n",
       "  </thead>\n",
       "  <tbody>\n",
       "    <tr>\n",
       "      <th>0</th>\n",
       "      <td>5.1</td>\n",
       "      <td>3.5</td>\n",
       "      <td>1.4</td>\n",
       "      <td>0.2</td>\n",
       "      <td>setosa</td>\n",
       "    </tr>\n",
       "    <tr>\n",
       "      <th>1</th>\n",
       "      <td>4.9</td>\n",
       "      <td>3.0</td>\n",
       "      <td>1.4</td>\n",
       "      <td>0.2</td>\n",
       "      <td>setosa</td>\n",
       "    </tr>\n",
       "    <tr>\n",
       "      <th>2</th>\n",
       "      <td>4.7</td>\n",
       "      <td>3.2</td>\n",
       "      <td>1.3</td>\n",
       "      <td>0.2</td>\n",
       "      <td>setosa</td>\n",
       "    </tr>\n",
       "    <tr>\n",
       "      <th>3</th>\n",
       "      <td>4.6</td>\n",
       "      <td>3.1</td>\n",
       "      <td>1.5</td>\n",
       "      <td>0.2</td>\n",
       "      <td>setosa</td>\n",
       "    </tr>\n",
       "    <tr>\n",
       "      <th>4</th>\n",
       "      <td>5.0</td>\n",
       "      <td>3.6</td>\n",
       "      <td>1.4</td>\n",
       "      <td>0.2</td>\n",
       "      <td>setosa</td>\n",
       "    </tr>\n",
       "    <tr>\n",
       "      <th>...</th>\n",
       "      <td>...</td>\n",
       "      <td>...</td>\n",
       "      <td>...</td>\n",
       "      <td>...</td>\n",
       "      <td>...</td>\n",
       "    </tr>\n",
       "    <tr>\n",
       "      <th>145</th>\n",
       "      <td>6.7</td>\n",
       "      <td>3.0</td>\n",
       "      <td>5.2</td>\n",
       "      <td>2.3</td>\n",
       "      <td>virginica</td>\n",
       "    </tr>\n",
       "    <tr>\n",
       "      <th>146</th>\n",
       "      <td>6.3</td>\n",
       "      <td>2.5</td>\n",
       "      <td>5.0</td>\n",
       "      <td>1.9</td>\n",
       "      <td>virginica</td>\n",
       "    </tr>\n",
       "    <tr>\n",
       "      <th>147</th>\n",
       "      <td>6.5</td>\n",
       "      <td>3.0</td>\n",
       "      <td>5.2</td>\n",
       "      <td>2.0</td>\n",
       "      <td>virginica</td>\n",
       "    </tr>\n",
       "    <tr>\n",
       "      <th>148</th>\n",
       "      <td>6.2</td>\n",
       "      <td>3.4</td>\n",
       "      <td>5.4</td>\n",
       "      <td>2.3</td>\n",
       "      <td>virginica</td>\n",
       "    </tr>\n",
       "    <tr>\n",
       "      <th>149</th>\n",
       "      <td>5.9</td>\n",
       "      <td>3.0</td>\n",
       "      <td>5.1</td>\n",
       "      <td>1.8</td>\n",
       "      <td>virginica</td>\n",
       "    </tr>\n",
       "  </tbody>\n",
       "</table>\n",
       "<p>150 rows × 5 columns</p>\n",
       "</div>"
      ],
      "text/plain": [
       "     sepal_length  sepal_width  petal_length  petal_width    species\n",
       "0             5.1          3.5           1.4          0.2     setosa\n",
       "1             4.9          3.0           1.4          0.2     setosa\n",
       "2             4.7          3.2           1.3          0.2     setosa\n",
       "3             4.6          3.1           1.5          0.2     setosa\n",
       "4             5.0          3.6           1.4          0.2     setosa\n",
       "..            ...          ...           ...          ...        ...\n",
       "145           6.7          3.0           5.2          2.3  virginica\n",
       "146           6.3          2.5           5.0          1.9  virginica\n",
       "147           6.5          3.0           5.2          2.0  virginica\n",
       "148           6.2          3.4           5.4          2.3  virginica\n",
       "149           5.9          3.0           5.1          1.8  virginica\n",
       "\n",
       "[150 rows x 5 columns]"
      ]
     },
     "execution_count": 27,
     "metadata": {},
     "output_type": "execute_result"
    }
   ],
   "source": [
    "iris"
   ]
  },
  {
   "cell_type": "code",
   "execution_count": 28,
   "metadata": {},
   "outputs": [],
   "source": [
    "def dbscan_demo(eps=1, min_pts=5):\n",
    "    \n",
    "    dbscan = DBSCAN(eps=eps, min_samples=min_pts).fit(iris[['sepal_length', 'sepal_width', 'petal_length', 'petal_width']])\n",
    "    \n",
    "    iris['labels'] = dbscan.labels_+1\n",
    "    \n",
    "    plt.figure(figsize=(7,5))\n",
    "    plt.scatter(iris.iloc[:,0], iris.iloc[:,3], c=dbscan.labels_+1)\n",
    "    \n",
    "    plt.show()"
   ]
  },
  {
   "cell_type": "code",
   "execution_count": 29,
   "metadata": {},
   "outputs": [
    {
     "data": {
      "application/vnd.jupyter.widget-view+json": {
       "model_id": "f373f9ca71894f1ba36d7df9e6de62dd",
       "version_major": 2,
       "version_minor": 0
      },
      "text/plain": [
       "interactive(children=(FloatSlider(value=1.0, description='eps', max=3.0, min=0.1, step=0.05), IntSlider(value=…"
      ]
     },
     "metadata": {},
     "output_type": "display_data"
    }
   ],
   "source": [
    "interact(dbscan_demo, eps=FloatSlider(min=0.1, max=3, step=0.05, value=1), min_pts=IntSlider(min=2, max=15, step=1, value=5));"
   ]
  },
  {
   "cell_type": "code",
   "execution_count": 39,
   "metadata": {},
   "outputs": [
    {
     "data": {
      "text/html": [
       "<div>\n",
       "<style scoped>\n",
       "    .dataframe tbody tr th:only-of-type {\n",
       "        vertical-align: middle;\n",
       "    }\n",
       "\n",
       "    .dataframe tbody tr th {\n",
       "        vertical-align: top;\n",
       "    }\n",
       "\n",
       "    .dataframe thead th {\n",
       "        text-align: right;\n",
       "    }\n",
       "</style>\n",
       "<table border=\"1\" class=\"dataframe\">\n",
       "  <thead>\n",
       "    <tr style=\"text-align: right;\">\n",
       "      <th></th>\n",
       "      <th>sepal_length</th>\n",
       "      <th>sepal_width</th>\n",
       "      <th>petal_length</th>\n",
       "      <th>petal_width</th>\n",
       "      <th>species</th>\n",
       "      <th>labels</th>\n",
       "    </tr>\n",
       "  </thead>\n",
       "  <tbody>\n",
       "    <tr>\n",
       "      <th>0</th>\n",
       "      <td>5.1</td>\n",
       "      <td>3.5</td>\n",
       "      <td>1.4</td>\n",
       "      <td>0.2</td>\n",
       "      <td>setosa</td>\n",
       "      <td>1</td>\n",
       "    </tr>\n",
       "    <tr>\n",
       "      <th>1</th>\n",
       "      <td>4.9</td>\n",
       "      <td>3.0</td>\n",
       "      <td>1.4</td>\n",
       "      <td>0.2</td>\n",
       "      <td>setosa</td>\n",
       "      <td>1</td>\n",
       "    </tr>\n",
       "    <tr>\n",
       "      <th>2</th>\n",
       "      <td>4.7</td>\n",
       "      <td>3.2</td>\n",
       "      <td>1.3</td>\n",
       "      <td>0.2</td>\n",
       "      <td>setosa</td>\n",
       "      <td>1</td>\n",
       "    </tr>\n",
       "    <tr>\n",
       "      <th>3</th>\n",
       "      <td>4.6</td>\n",
       "      <td>3.1</td>\n",
       "      <td>1.5</td>\n",
       "      <td>0.2</td>\n",
       "      <td>setosa</td>\n",
       "      <td>1</td>\n",
       "    </tr>\n",
       "    <tr>\n",
       "      <th>4</th>\n",
       "      <td>5.0</td>\n",
       "      <td>3.6</td>\n",
       "      <td>1.4</td>\n",
       "      <td>0.2</td>\n",
       "      <td>setosa</td>\n",
       "      <td>1</td>\n",
       "    </tr>\n",
       "  </tbody>\n",
       "</table>\n",
       "</div>"
      ],
      "text/plain": [
       "   sepal_length  sepal_width  petal_length  petal_width species  labels\n",
       "0           5.1          3.5           1.4          0.2  setosa       1\n",
       "1           4.9          3.0           1.4          0.2  setosa       1\n",
       "2           4.7          3.2           1.3          0.2  setosa       1\n",
       "3           4.6          3.1           1.5          0.2  setosa       1\n",
       "4           5.0          3.6           1.4          0.2  setosa       1"
      ]
     },
     "execution_count": 39,
     "metadata": {},
     "output_type": "execute_result"
    }
   ],
   "source": [
    "iris.head()"
   ]
  },
  {
   "cell_type": "markdown",
   "metadata": {},
   "source": [
    "Для того, чтобы правильно выбрать $\\epsilon$ можно посмотреть, чему равно для каждой точки среднее расстояние до нескольких ближайших точек. Если выбрать $\\epsilon$ больше, чем максимальное среднее расстояние, то всё точки \"слипнутся\" в один кластер. Если выбрать меньше, чем минимальное среднее, то скорее всего, все точки окажутся в разных кластерах. Лучше выбирать значение из диапазона, в котором наблюдается устойчивое значение среднего."
   ]
  },
  {
   "cell_type": "code",
   "execution_count": 40,
   "metadata": {},
   "outputs": [
    {
     "data": {
      "image/png": "[encoded data removed]",
      "text/plain": [
       "<Figure size 864x576 with 1 Axes>"
      ]
     },
     "metadata": {},
     "output_type": "display_data"
    }
   ],
   "source": [
    "neighbours=[]\n",
    "for v1 in iris.iloc[:,:4].iterrows():\n",
    "    neighbours.append(np.mean(sorted([np.linalg.norm(v1[1]-v2[1]) for v2 in iris.iloc[:,:4].iterrows()])[1:6]))\n",
    "neighbours=sorted(neighbours)\n",
    "fig, ax = plt.subplots()\n",
    "ax.plot(range(len(neighbours)), neighbours)\n",
    "plt.show()"
   ]
  },
  {
   "cell_type": "markdown",
   "metadata": {},
   "source": [
    "---"
   ]
  },
  {
   "cell_type": "markdown",
   "metadata": {},
   "source": [
    "## Задание\n",
    "\n",
    "Определить количество тематических кластеров для Rosbalt."
   ]
  },
  {
   "cell_type": "code",
   "execution_count": 32,
   "metadata": {},
   "outputs": [],
   "source": [
    "from os import listdir"
   ]
  },
  {
   "cell_type": "code",
   "execution_count": null,
   "metadata": {},
   "outputs": [],
   "source": [
    "filenames = listdir()\n",
    "\n",
    "texts = []\n",
    "for filename in filenames:\n",
    "    with open(filename) as in_file:\n",
    "        text = in_file.read()\n",
    "    texts.append(text)"
   ]
  },
  {
   "cell_type": "code",
   "execution_count": null,
   "metadata": {},
   "outputs": [],
   "source": []
  },
  {
   "cell_type": "markdown",
   "metadata": {},
   "source": [
    "<img src=\"https://img.rudalle.ru/images/f2/b9/85/f2b985df52864c66bf2a4eddd3056826_00000.jpg\" width=\"50%\">\n",
    "\n",
    "<center><h2>Это просто яркий разделитель</h2></center>\n",
    "\n",
    "Спасибо, [ruDALL-E XL](https://rudalle.ru/check_image/f2b985df52864c66bf2a4eddd3056826).\n",
    "\n",
    "А разделитель был нужен для того, чтобы обратить внимание, что дальнейший материал идет на самостоятельное изучение."
   ]
  },
  {
   "cell_type": "markdown",
   "metadata": {},
   "source": [
    "## Иерархическая кластеризация (на самостоятельное изучение)\n",
    "\n",
    "** Аггломеративные алгоритмы: **\n",
    "* начинаем с ситуации, когда каждый объект - отдельный кластер;\n",
    "* на каждом шаге совмещаем два наиболее близких кластера;\n",
    "* останавливаемся, когда получаем требуемое количество или единственный кластер.\n",
    "\n",
    "\n",
    "** Дивизивные алгоритмы: **\n",
    "* начинаем с ситуации, когда все объекты составляют один кластер;\n",
    "* на каждом шаге разделяем один из кластеров пополам;\n",
    "* останавливаемся, когда получаем требуемое количество или $N$ кластеровю\n"
   ]
  },
  {
   "cell_type": "markdown",
   "metadata": {},
   "source": [
    "## Пересчет расстояний после объединения кластеров\n",
    "\n",
    "* Single linkage\n",
    "$$ d_{min}(C_i, C_j) = \\min_{\\mathbf{x} \\in C_i, \\mathbf{x}' \\in C_j} d(\\mathbf{x}, \\mathbf{x}' ) $$\n",
    "\n",
    "* Complete linkage\n",
    "$$ d_{max}(C_i, C_j) = \\max_{\\mathbf{x} \\in C_i, \\mathbf{x}' \\in C_j} d(\\mathbf{x},\\mathbf{x}') $$\n",
    "\n",
    "* Average linkage\n",
    "$$ d_{avg}(C_i, C_j) = \\frac{1}{n_i n_j}\\sum_{\\mathbf{x} \\in C_i}\\sum_{\\mathbf{x}' \\in C_j} d(\\mathbf{x}, \\mathbf{x}' ) $$\n",
    "\n",
    "* Centroid linkage\n",
    "$$ d_{cent}(C_i, C_j) = \\|\\mu_i -\\mu_j \\|^2 $$\n",
    "\n",
    "* Ward linkage\n",
    "$$ d_{ward}(C_i, C_j) = \\sqrt{\\frac{n_i n_j}{n_i + n_j}} \\|\\mu_i - \\mu_j \\|^2$$\n"
   ]
  },
  {
   "cell_type": "code",
   "execution_count": 22,
   "metadata": {},
   "outputs": [],
   "source": [
    "from scipy.cluster.hierarchy import fcluster, linkage, dendrogram"
   ]
  },
  {
   "cell_type": "code",
   "execution_count": 23,
   "metadata": {},
   "outputs": [],
   "source": [
    "X = np.array([\n",
    "        [1,1],\n",
    "        [2,2],\n",
    "        [2, 2.5],\n",
    "        [5, 2],\n",
    "        [4.5, 5],\n",
    "        [3, 6],\n",
    "        [5, 6],\n",
    "        [6, 6]\n",
    "    ])"
   ]
  },
  {
   "cell_type": "code",
   "execution_count": 24,
   "metadata": {},
   "outputs": [
    {
     "data": {
      "image/png": "[encoded data removed]",
      "text/plain": [
       "<Figure size 864x576 with 1 Axes>"
      ]
     },
     "metadata": {},
     "output_type": "display_data"
    }
   ],
   "source": [
    "plt.scatter(X[:,0], X[:,1]);"
   ]
  },
  {
   "cell_type": "code",
   "execution_count": 25,
   "metadata": {},
   "outputs": [],
   "source": [
    "Z = linkage(X, method='single', metric='euclidean')"
   ]
  },
  {
   "cell_type": "code",
   "execution_count": 26,
   "metadata": {},
   "outputs": [
    {
     "data": {
      "text/plain": [
       "array([[ 1.        ,  2.        ,  0.5       ,  2.        ],\n",
       "       [ 6.        ,  7.        ,  1.        ,  2.        ],\n",
       "       [ 4.        ,  9.        ,  1.11803399,  3.        ],\n",
       "       [ 0.        ,  8.        ,  1.41421356,  3.        ],\n",
       "       [ 5.        , 10.        ,  1.80277564,  4.        ],\n",
       "       [ 3.        , 11.        ,  3.        ,  4.        ],\n",
       "       [12.        , 13.        ,  3.04138127,  8.        ]])"
      ]
     },
     "execution_count": 26,
     "metadata": {},
     "output_type": "execute_result"
    }
   ],
   "source": [
    "Z"
   ]
  },
  {
   "cell_type": "code",
   "execution_count": 27,
   "metadata": {},
   "outputs": [
    {
     "data": {
      "image/png": "[encoded data removed]",
      "text/plain": [
       "<Figure size 864x576 with 1 Axes>"
      ]
     },
     "metadata": {},
     "output_type": "display_data"
    }
   ],
   "source": [
    "dend = dendrogram(Z)"
   ]
  },
  {
   "cell_type": "code",
   "execution_count": 28,
   "metadata": {},
   "outputs": [
    {
     "data": {
      "text/plain": [
       "array([2, 2, 2, 3, 1, 1, 1, 1], dtype=int32)"
      ]
     },
     "execution_count": 28,
     "metadata": {},
     "output_type": "execute_result"
    }
   ],
   "source": [
    "fcluster(Z, 2.5, criterion='distance')"
   ]
  },
  {
   "cell_type": "code",
   "execution_count": 29,
   "metadata": {},
   "outputs": [
    {
     "data": {
      "text/plain": [
       "array([5, 4, 4, 6, 2, 3, 1, 1], dtype=int32)"
      ]
     },
     "execution_count": 29,
     "metadata": {},
     "output_type": "execute_result"
    }
   ],
   "source": [
    "fcluster(Z, 1, criterion='distance')"
   ]
  },
  {
   "cell_type": "code",
   "execution_count": 30,
   "metadata": {},
   "outputs": [
    {
     "data": {
      "text/plain": [
       "array([5, 4, 4, 6, 2, 3, 1, 1], dtype=int32)"
      ]
     },
     "execution_count": 30,
     "metadata": {},
     "output_type": "execute_result"
    }
   ],
   "source": [
    "fcluster(Z, 6, criterion='maxclust')"
   ]
  },
  {
   "cell_type": "markdown",
   "metadata": {},
   "source": [
    "### Меры близости\n",
    "\n",
    "$$ d(a, b) = \\sum\\limits_{i=1}^{D}(a_i - b_i)^2 \\text{: euclidean distance} $$\n",
    "\n",
    "$$ d(a, b) = \\sum\\limits_{i=1}^{D}|a_i - b_i| \\text{: manhattan distance} $$\n",
    "\n",
    "$$ d(a, b) = \\frac{\\langle a,b \\rangle}{||a||\\cdot||b||} \\text{: cosine similarity} $$\n"
   ]
  },
  {
   "cell_type": "markdown",
   "metadata": {},
   "source": [
    "**Кофенетическое расстояние** между объектами $x_i$ и $x_j$ - высота дерева, при котором эти объекты объединились.\n",
    "<center><img src='img/dendro2.png' width=700></center>\n",
    "\n",
    "**Кофенетическая корреляция** — коэффициент корреляции между массивами попарных расстояний и попарных кофенетических расстояний.\n",
    "\n",
    "$$ \\text{cophCorr} = \\frac{\\sum\\limits_{i < j}(d(x_i, x_j) - \\bar{d})(coph(x_i, x_j) - \\bar{coph})}{\\sqrt{\\sum\\limits_{i < j}(d(x_i, x_j) - \\bar{d})^2 \\cdot \\sum\\limits_{i < j}(coph(x_i, x_j) - \\bar{coph})^2}} $$\n",
    "\n",
    "При \"удачно\" построенном дереве эти массивы должны сильно коррелировать."
   ]
  },
  {
   "cell_type": "code",
   "execution_count": 31,
   "metadata": {},
   "outputs": [],
   "source": [
    "from scipy.spatial.distance import pdist\n",
    "from scipy.cluster.hierarchy import cophenet\n"
   ]
  },
  {
   "cell_type": "code",
   "execution_count": 32,
   "metadata": {},
   "outputs": [],
   "source": [
    "def coph_demo(link='single', metric='euclidean', k=2):\n",
    "    \n",
    "    X, y = make_blobs(n_samples=500,\n",
    "                  n_features=2,\n",
    "                  centers=4,\n",
    "                  cluster_std=1,\n",
    "                  center_box=(-10.0, 10.0),\n",
    "                  shuffle=True,\n",
    "                  random_state=1) \n",
    "    \n",
    "    d = pdist(X, metric=metric)\n",
    "    \n",
    "    Z = linkage(X, method=link, metric=metric)\n",
    "    labels = fcluster(Z,  k, criterion='maxclust')\n",
    "    \n",
    "    fig, ax = plt.subplots(1,2)\n",
    "    \n",
    "    ax[0].scatter(X[:,0], X[:,1], c=labels)\n",
    "        \n",
    "    ax[0].set_xlabel('$x_1$')\n",
    "    ax[0].set_ylabel('$x_2$')\n",
    "        \n",
    "    dend = dendrogram(Z, ax=ax[1], truncate_mode='lastp')   \n",
    "    coph_corr, coph_dist = cophenet(Z, d)\n",
    "    \n",
    "    ax[1].set_title('cophCorr = %.3f' % coph_corr)\n",
    "    \n",
    "    plt.show()\n",
    "    \n",
    "    pdist"
   ]
  },
  {
   "cell_type": "code",
   "execution_count": 33,
   "metadata": {},
   "outputs": [
    {
     "data": {
      "application/vnd.jupyter.widget-view+json": {
       "model_id": "",
       "version_major": 2,
       "version_minor": 0
      },
      "text/plain": [
       "interactive(children=(Dropdown(description='link', index=1, options=('complete', 'single', 'average', 'centroi…"
      ]
     },
     "metadata": {},
     "output_type": "display_data"
    }
   ],
   "source": [
    "interact(coph_demo, k=IntSlider(min=2, max=10, step=1, value=2), link=['complete', 'single', 'average', 'centroid'], metric=['euclidean', 'cityblock', 'cosine']);"
   ]
  }
 ],
 "metadata": {
  "kernelspec": {
   "display_name": "Python 3 (ipykernel)",
   "language": "python",
   "name": "python3"
  },
  "language_info": {
   "codemirror_mode": {
    "name": "ipython",
    "version": 3
   },
   "file_extension": ".py",
   "mimetype": "text/x-python",
   "name": "python",
   "nbconvert_exporter": "python",
   "pygments_lexer": "ipython3",
   "version": "3.9.5"
  }
 },
 "nbformat": 4,
 "nbformat_minor": 2
}
