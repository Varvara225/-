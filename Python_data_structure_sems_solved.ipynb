{
  "nbformat": 4,
  "nbformat_minor": 0,
  "metadata": {
    "colab": {
      "provenance": []
    },
    "kernelspec": {
      "name": "python3",
      "display_name": "Python 3"
    },
    "language_info": {
      "name": "python"
    }
  },
  "cells": [
    {
      "cell_type": "markdown",
      "source": [
        "# List"
      ],
      "metadata": {
        "id": "JSrvfXABopDQ"
      }
    },
    {
      "cell_type": "code",
      "execution_count": null,
      "metadata": {
        "id": "KRyVSLV7oMPP"
      },
      "outputs": [],
      "source": [
        "x = [1, 2, 3]\n",
        "y = x[:]"
      ]
    },
    {
      "cell_type": "code",
      "source": [
        "id(x), id(y)"
      ],
      "metadata": {
        "colab": {
          "base_uri": "https://localhost:8080/"
        },
        "id": "TIRa5sY6otpO",
        "outputId": "2f68b084-05e7-4a90-a647-f4b03d692190"
      },
      "execution_count": null,
      "outputs": [
        {
          "output_type": "execute_result",
          "data": {
            "text/plain": [
              "(140315300155840, 140315287745728)"
            ]
          },
          "metadata": {},
          "execution_count": 2
        }
      ]
    },
    {
      "cell_type": "code",
      "source": [
        "x == y"
      ],
      "metadata": {
        "colab": {
          "base_uri": "https://localhost:8080/"
        },
        "id": "Jy8lNXs6y9LH",
        "outputId": "b6c6a008-4eb3-49a3-8de6-f2958a3ddfc7"
      },
      "execution_count": null,
      "outputs": [
        {
          "output_type": "execute_result",
          "data": {
            "text/plain": [
              "True"
            ]
          },
          "metadata": {},
          "execution_count": 10
        }
      ]
    },
    {
      "cell_type": "code",
      "source": [
        "id(x[0]), id(y[0])"
      ],
      "metadata": {
        "colab": {
          "base_uri": "https://localhost:8080/"
        },
        "id": "SgWXTqtDov44",
        "outputId": "780c398e-1f13-4554-b3b4-c4bf4de70a2d"
      },
      "execution_count": null,
      "outputs": [
        {
          "output_type": "execute_result",
          "data": {
            "text/plain": [
              "(9793088, 9793088)"
            ]
          },
          "metadata": {},
          "execution_count": 3
        }
      ]
    },
    {
      "cell_type": "code",
      "source": [
        "id(x[0]), id(x[1]), id(x[2]) # А хранятся ли они подряд?"
      ],
      "metadata": {
        "colab": {
          "base_uri": "https://localhost:8080/"
        },
        "id": "6iKCVJZ5o3eY",
        "outputId": "f2930ddb-d27b-47d0-94de-a4963eb4f76b"
      },
      "execution_count": null,
      "outputs": [
        {
          "output_type": "execute_result",
          "data": {
            "text/plain": [
              "(9793088, 9793120, 9793152)"
            ]
          },
          "metadata": {},
          "execution_count": 5
        }
      ]
    },
    {
      "cell_type": "code",
      "source": [
        "5 is 6"
      ],
      "metadata": {
        "colab": {
          "base_uri": "https://localhost:8080/"
        },
        "id": "Y71Ss5b1zeUj",
        "outputId": "72492736-8925-4a39-dcac-6b43e896403a"
      },
      "execution_count": null,
      "outputs": [
        {
          "output_type": "stream",
          "name": "stderr",
          "text": [
            "<>:1: SyntaxWarning: \"is\" with a literal. Did you mean \"==\"?\n",
            "<>:1: SyntaxWarning: \"is\" with a literal. Did you mean \"==\"?\n",
            "<ipython-input-11-635fcd361971>:1: SyntaxWarning: \"is\" with a literal. Did you mean \"==\"?\n",
            "  5 is 6\n"
          ]
        },
        {
          "output_type": "execute_result",
          "data": {
            "text/plain": [
              "False"
            ]
          },
          "metadata": {},
          "execution_count": 11
        }
      ]
    },
    {
      "cell_type": "code",
      "source": [
        "s = ['abcd', 'aaa', 'This string is longer than other']\n",
        "\n",
        "id(s[0]), id(s[1]), id(s[2])"
      ],
      "metadata": {
        "colab": {
          "base_uri": "https://localhost:8080/"
        },
        "id": "-Bt7XMhUtF_B",
        "outputId": "5f7f4db1-4376-4971-b9db-9f54e22685f5"
      },
      "execution_count": null,
      "outputs": [
        {
          "output_type": "execute_result",
          "data": {
            "text/plain": [
              "(140315211001776, 140315073072880, 140315072575312)"
            ]
          },
          "metadata": {},
          "execution_count": 6
        }
      ]
    },
    {
      "cell_type": "code",
      "source": [
        "print(id(s[0]) - id(s[1]))\n",
        "id(s[1]) - id(s[2])"
      ],
      "metadata": {
        "colab": {
          "base_uri": "https://localhost:8080/"
        },
        "id": "x0U1hZ4CtcN8",
        "outputId": "2573d029-20b2-4dc1-fc9a-d40737149959"
      },
      "execution_count": null,
      "outputs": [
        {
          "output_type": "stream",
          "name": "stdout",
          "text": [
            "137928896\n"
          ]
        },
        {
          "output_type": "execute_result",
          "data": {
            "text/plain": [
              "497568"
            ]
          },
          "metadata": {},
          "execution_count": 7
        }
      ]
    },
    {
      "cell_type": "code",
      "source": [
        "s = ['ab', 'ft', 'np']\n",
        "\n",
        "id(s[0]), id(s[1]), id(s[2])"
      ],
      "metadata": {
        "colab": {
          "base_uri": "https://localhost:8080/"
        },
        "id": "P1pBp1RHtm-U",
        "outputId": "8480a432-df3f-410f-9dba-23963a9df14f"
      },
      "execution_count": null,
      "outputs": [
        {
          "output_type": "execute_result",
          "data": {
            "text/plain": [
              "(140315562574704, 140315554436592, 140315548914416)"
            ]
          },
          "metadata": {},
          "execution_count": 8
        }
      ]
    },
    {
      "cell_type": "code",
      "source": [
        "print(id(s[0]) - id(s[1]))\n",
        "id(s[1]) - id(s[2])"
      ],
      "metadata": {
        "colab": {
          "base_uri": "https://localhost:8080/"
        },
        "id": "AwYJLkU_ts47",
        "outputId": "5556a9ed-30ab-4ab1-9ee4-3d950020a3c5"
      },
      "execution_count": null,
      "outputs": [
        {
          "output_type": "stream",
          "name": "stdout",
          "text": [
            "8138112\n"
          ]
        },
        {
          "output_type": "execute_result",
          "data": {
            "text/plain": [
              "5522176"
            ]
          },
          "metadata": {},
          "execution_count": 9
        }
      ]
    },
    {
      "cell_type": "code",
      "source": [
        "x = [100, 200, 300]\n",
        "id(x[0]), id(x[1]), id(x[2])"
      ],
      "metadata": {
        "colab": {
          "base_uri": "https://localhost:8080/"
        },
        "id": "7jokkQU0twQX",
        "outputId": "8aedc080-556e-4e88-f88c-2195c4348bcd"
      },
      "execution_count": null,
      "outputs": [
        {
          "output_type": "execute_result",
          "data": {
            "text/plain": [
              "(9796256, 9799456, 140315072288144)"
            ]
          },
          "metadata": {},
          "execution_count": 11
        }
      ]
    },
    {
      "cell_type": "code",
      "source": [
        "import numpy as np\n",
        "\n",
        "x = np.array([1000, 2000, 3000])\n",
        "id(x[0]), id(x[1]), id(x[2])"
      ],
      "metadata": {
        "colab": {
          "base_uri": "https://localhost:8080/"
        },
        "id": "etOK393RvfjS",
        "outputId": "36c35021-6acb-486c-a941-a983aca320bf"
      },
      "execution_count": null,
      "outputs": [
        {
          "output_type": "execute_result",
          "data": {
            "text/plain": [
              "(140315072290000, 140315072290000, 140315072290000)"
            ]
          },
          "metadata": {},
          "execution_count": 14
        }
      ]
    },
    {
      "cell_type": "markdown",
      "source": [
        "# Set / Dict"
      ],
      "metadata": {
        "id": "alBBDCXT1v5I"
      }
    },
    {
      "cell_type": "code",
      "source": [
        "hash(1)"
      ],
      "metadata": {
        "colab": {
          "base_uri": "https://localhost:8080/"
        },
        "id": "E2ldFIpBvw9L",
        "outputId": "64b7d7f2-c63b-4b8b-c26c-d39669f71702"
      },
      "execution_count": null,
      "outputs": [
        {
          "output_type": "execute_result",
          "data": {
            "text/plain": [
              "1"
            ]
          },
          "metadata": {},
          "execution_count": 15
        }
      ]
    },
    {
      "cell_type": "code",
      "source": [
        "hash(123456789009876543234567890098763345678909876434567)"
      ],
      "metadata": {
        "colab": {
          "base_uri": "https://localhost:8080/"
        },
        "id": "ws2CoJk97tB6",
        "outputId": "00b6d047-54b8-4935-bc4b-bf4838a12a5f"
      },
      "execution_count": null,
      "outputs": [
        {
          "output_type": "execute_result",
          "data": {
            "text/plain": [
              "21508552792817716"
            ]
          },
          "metadata": {},
          "execution_count": 16
        }
      ]
    },
    {
      "cell_type": "code",
      "source": [
        "hash('1')"
      ],
      "metadata": {
        "colab": {
          "base_uri": "https://localhost:8080/"
        },
        "id": "BJ5JL41I7vAG",
        "outputId": "b2aa0c38-20c1-4e6a-f59a-7bfb031f546c"
      },
      "execution_count": null,
      "outputs": [
        {
          "output_type": "execute_result",
          "data": {
            "text/plain": [
              "2969652730105644289"
            ]
          },
          "metadata": {},
          "execution_count": 17
        }
      ]
    },
    {
      "cell_type": "code",
      "source": [
        "hash('this is a very long string and it should have a large hash')"
      ],
      "metadata": {
        "colab": {
          "base_uri": "https://localhost:8080/"
        },
        "id": "0TYJQ4Xp7xdd",
        "outputId": "1f8ee409-99ca-42e3-cc38-e5c1aafddb83"
      },
      "execution_count": null,
      "outputs": [
        {
          "output_type": "execute_result",
          "data": {
            "text/plain": [
              "-4646360683541559363"
            ]
          },
          "metadata": {},
          "execution_count": 18
        }
      ]
    },
    {
      "cell_type": "code",
      "source": [
        "hash(object)"
      ],
      "metadata": {
        "colab": {
          "base_uri": "https://localhost:8080/"
        },
        "id": "Qs9bw9JI72gV",
        "outputId": "4ff3ade2-a19c-47cf-c807-e43e138bce15"
      },
      "execution_count": null,
      "outputs": [
        {
          "output_type": "execute_result",
          "data": {
            "text/plain": [
              "591962"
            ]
          },
          "metadata": {},
          "execution_count": 20
        }
      ]
    },
    {
      "cell_type": "code",
      "source": [
        "hash(print)"
      ],
      "metadata": {
        "colab": {
          "base_uri": "https://localhost:8080/"
        },
        "id": "paDxX_oBC7-G",
        "outputId": "0a160ea4-0555-4966-823d-7811f62a4b4a"
      },
      "execution_count": null,
      "outputs": [
        {
          "output_type": "execute_result",
          "data": {
            "text/plain": [
              "8769722589618"
            ]
          },
          "metadata": {},
          "execution_count": 21
        }
      ]
    },
    {
      "cell_type": "code",
      "source": [
        "hash([1, 2, 3])"
      ],
      "metadata": {
        "colab": {
          "base_uri": "https://localhost:8080/",
          "height": 165
        },
        "id": "vRyoXSXcC-KU",
        "outputId": "281fbc1d-cb13-4a22-8c3b-2c78719fb7c3"
      },
      "execution_count": null,
      "outputs": [
        {
          "output_type": "error",
          "ename": "TypeError",
          "evalue": "ignored",
          "traceback": [
            "\u001b[0;31m---------------------------------------------------------------------------\u001b[0m",
            "\u001b[0;31mTypeError\u001b[0m                                 Traceback (most recent call last)",
            "\u001b[0;32m<ipython-input-23-84d65be9aa35>\u001b[0m in \u001b[0;36m<module>\u001b[0;34m\u001b[0m\n\u001b[0;32m----> 1\u001b[0;31m \u001b[0mhash\u001b[0m\u001b[0;34m(\u001b[0m\u001b[0;34m[\u001b[0m\u001b[0;36m1\u001b[0m\u001b[0;34m,\u001b[0m \u001b[0;36m2\u001b[0m\u001b[0;34m,\u001b[0m \u001b[0;36m3\u001b[0m\u001b[0;34m]\u001b[0m\u001b[0;34m)\u001b[0m\u001b[0;34m\u001b[0m\u001b[0;34m\u001b[0m\u001b[0m\n\u001b[0m",
            "\u001b[0;31mTypeError\u001b[0m: unhashable type: 'list'"
          ]
        }
      ]
    },
    {
      "cell_type": "code",
      "source": [
        "ord('1')"
      ],
      "metadata": {
        "id": "9EMLEOYiC_-i",
        "colab": {
          "base_uri": "https://localhost:8080/"
        },
        "outputId": "e8816b50-21ac-46b8-b471-eb183e274c27"
      },
      "execution_count": null,
      "outputs": [
        {
          "output_type": "execute_result",
          "data": {
            "text/plain": [
              "49"
            ]
          },
          "metadata": {},
          "execution_count": 24
        }
      ]
    },
    {
      "cell_type": "code",
      "source": [
        "ord('argrgrgr')"
      ],
      "metadata": {
        "colab": {
          "base_uri": "https://localhost:8080/",
          "height": 165
        },
        "id": "wEcTPYa1RwEb",
        "outputId": "98f403d6-e1d9-418b-c063-105359c0194d"
      },
      "execution_count": null,
      "outputs": [
        {
          "output_type": "error",
          "ename": "TypeError",
          "evalue": "ignored",
          "traceback": [
            "\u001b[0;31m---------------------------------------------------------------------------\u001b[0m",
            "\u001b[0;31mTypeError\u001b[0m                                 Traceback (most recent call last)",
            "\u001b[0;32m<ipython-input-25-e0bc3a1c43ff>\u001b[0m in \u001b[0;36m<module>\u001b[0;34m\u001b[0m\n\u001b[0;32m----> 1\u001b[0;31m \u001b[0mord\u001b[0m\u001b[0;34m(\u001b[0m\u001b[0;34m'argrgrgr'\u001b[0m\u001b[0;34m)\u001b[0m\u001b[0;34m\u001b[0m\u001b[0;34m\u001b[0m\u001b[0m\n\u001b[0m",
            "\u001b[0;31mTypeError\u001b[0m: ord() expected a character, but string of length 8 found"
          ]
        }
      ]
    },
    {
      "cell_type": "markdown",
      "source": [
        "# Задачи"
      ],
      "metadata": {
        "id": "Gs_WFlDqaMUv"
      }
    },
    {
      "cell_type": "markdown",
      "source": [
        "Давайте что-то реализуем (Linked list как пример)"
      ],
      "metadata": {
        "id": "6IM3XzDOfseH"
      }
    },
    {
      "cell_type": "code",
      "source": [
        "class Node:\n",
        "    def __init__(self, value, next=None):\n",
        "        self.value = value\n",
        "        self.next = next\n",
        "\n",
        "\n",
        "class LinkedList:\n",
        "\n",
        "    def __init__(self, *args):\n",
        "        self.head = None\n",
        "        self.len = 0\n",
        "        for i in args:\n",
        "            self.append(i)\n",
        "    \n",
        "    def append(self, value):\n",
        "        if self.head is None:\n",
        "            self.head = Node(value)\n",
        "        else:\n",
        "            cur = self.head\n",
        "            while cur.next:\n",
        "                cur = cur.next\n",
        "            cur.next = Node(value)\n",
        "        self.len += 1\n",
        "    \n",
        "    def push(self, value):\n",
        "        if self.head is None:\n",
        "            self.head = Node(value)\n",
        "        else:\n",
        "            cur = Node(value)\n",
        "            old_head = self.head\n",
        "            self.head = cur\n",
        "            cur.next = old_head\n",
        "        self.len += 1\n",
        "\n",
        "    def pop(self):\n",
        "        val = self.head.value\n",
        "        self.head = self.head.next\n",
        "        self.len -= 1\n",
        "        return val\n",
        "\n",
        "    def popback(self):\n",
        "        cur = self.head\n",
        "        while cur.next:\n",
        "            cur = cur.next\n",
        "            if cur.next.next is None:\n",
        "                val = cur.next.value\n",
        "                cur.next = None\n",
        "        self.len -= 1\n",
        "        return val\n",
        "\n",
        "    def __len__(self):\n",
        "        return self.len\n",
        "    \n",
        "    def __getitem__(self, i):\n",
        "        if i >= self.len:\n",
        "            raise IndexError('Index out of range')\n",
        "        cur = self.head\n",
        "        for _ in range(i):\n",
        "            cur = cur.next\n",
        "        return cur.value"
      ],
      "metadata": {
        "id": "7NjfizUrRylA"
      },
      "execution_count": null,
      "outputs": []
    },
    {
      "cell_type": "code",
      "source": [
        "class Node:\n",
        "    def __init__(self, val, nxt=None):\n",
        "        self.val = val\n",
        "        self.nxt = nxt\n",
        "\n",
        "class LinkedList:\n",
        "    def __init__(self, *args):\n",
        "        for i in range(len(args)-1, -1, -1):\n",
        "            if i == len(args)-1:\n",
        "                cur = Node(args[i])\n",
        "            else:\n",
        "                cur = Node(args[i], cur)\n",
        "        self.head = cur"
      ],
      "metadata": {
        "id": "tfhiP6ph3nB8"
      },
      "execution_count": null,
      "outputs": []
    },
    {
      "cell_type": "code",
      "source": [
        "l = LinkedList(1, 2, 3)\n",
        "l.push(0)"
      ],
      "metadata": {
        "id": "iYxb38YJ1Ucg"
      },
      "execution_count": null,
      "outputs": []
    },
    {
      "cell_type": "code",
      "source": [
        "len(l)"
      ],
      "metadata": {
        "colab": {
          "base_uri": "https://localhost:8080/"
        },
        "id": "irxgk9l607pE",
        "outputId": "eb73d7ac-3d62-472a-90d9-d706587fedb0"
      },
      "execution_count": null,
      "outputs": [
        {
          "output_type": "execute_result",
          "data": {
            "text/plain": [
              "4"
            ]
          },
          "metadata": {},
          "execution_count": 14
        }
      ]
    },
    {
      "cell_type": "code",
      "source": [
        "l[1]"
      ],
      "metadata": {
        "colab": {
          "base_uri": "https://localhost:8080/"
        },
        "id": "V2Wu0QOQ07rd",
        "outputId": "d43d9815-c4c6-497a-dc88-d2194aff6f21"
      },
      "execution_count": null,
      "outputs": [
        {
          "output_type": "execute_result",
          "data": {
            "text/plain": [
              "1"
            ]
          },
          "metadata": {},
          "execution_count": 16
        }
      ]
    },
    {
      "cell_type": "code",
      "source": [],
      "metadata": {
        "id": "xT2G-yHU07tv"
      },
      "execution_count": null,
      "outputs": []
    },
    {
      "cell_type": "code",
      "source": [],
      "metadata": {
        "id": "eu7_VFsT07v3"
      },
      "execution_count": null,
      "outputs": []
    },
    {
      "cell_type": "markdown",
      "source": [
        "Задача на скобочные последовательности. На вход подается последовательность скобок, нужно понять, сбалансирована ли она. Усложните решение, добавив возможности проверять и другие виды скобок `[, {`"
      ],
      "metadata": {
        "id": "stZdj2JYgP6R"
      }
    },
    {
      "cell_type": "code",
      "source": [
        "s1 = \"(())\"\n",
        "s2 = \"))((\"\n",
        "s3 = \"(((())(())))\"\n",
        "s4 = \"((((((()\"\n",
        "s5 = \"((((()))))\"\n",
        "s6 = \"(()()(())((()))(((()))))\"\n",
        "s7 = \"({[]})\"\n",
        "s8 = \"([)]\"\n",
        "s9 = \"(({{[[([])]]}}))\""
      ],
      "metadata": {
        "id": "DmCqSVqRgzMn"
      },
      "execution_count": null,
      "outputs": []
    },
    {
      "cell_type": "code",
      "source": [
        "def skobochki(s):\n",
        "\n",
        "    stack = LinkedList()\n",
        "    for elem in s:\n",
        "        if elem in '([{':\n",
        "            stack.push(elem)\n",
        "        elif elem in ')]}' and len(stack) > 0:\n",
        "            cur = stack.pop()\n",
        "            if (cur == '(' and elem == ')') or (cur == '[' and elem == ']') or (cur == '{' and elem == '}'):\n",
        "                pass\n",
        "            else:\n",
        "                return False\n",
        "        else:\n",
        "            return False\n",
        "    if len(stack) == 0:\n",
        "        return True\n",
        "    else:\n",
        "        return False"
      ],
      "metadata": {
        "id": "-2DGubDbCXmQ"
      },
      "execution_count": null,
      "outputs": []
    },
    {
      "cell_type": "code",
      "source": [
        "s = [s1, s2, s3, s4, s5, s6, s7, s8, s9]\n",
        "\n",
        "list(map(skobochki, s))"
      ],
      "metadata": {
        "colab": {
          "base_uri": "https://localhost:8080/"
        },
        "id": "4d2Q2nvQIVqB",
        "outputId": "3f8db7cc-5be4-489e-ca8d-3e5adb9829aa"
      },
      "execution_count": null,
      "outputs": [
        {
          "output_type": "execute_result",
          "data": {
            "text/plain": [
              "[True, False, True, False, True, True, True, False, True]"
            ]
          },
          "metadata": {},
          "execution_count": 69
        }
      ]
    },
    {
      "cell_type": "code",
      "source": [
        "list."
      ],
      "metadata": {
        "id": "misJRc5hCXrW"
      },
      "execution_count": null,
      "outputs": []
    },
    {
      "cell_type": "markdown",
      "source": [
        "Даны 2 последовательности pushed и popped, содержащие уникальные целые числа. popped  является перестановкой pushed, то есть, все элементы совпадают, но может отличаться порядок.\n",
        "\n",
        "Программа должна вернуть True, если эти последовательности могут получиться в результате некоторой последовательности операций push и pop на пустом стеке.\n",
        "\n",
        "1 <= len(pushed) <= 100_000\n",
        "\n",
        " \n",
        "\n",
        "Пример 1:\n",
        "\n",
        "```pushed: 1 2 3 4 5```\n",
        "\n",
        "```popped: 1 3 5 4 2```\n",
        "\n",
        "```result: True```\n",
        "\n",
        "Последовательность операций: push(1), pop(1), push(2), push(3), pop(3), push(4), push(5), pop(5), pop(4), pop(2)\n",
        "\n",
        "Пример 2:\n",
        "\n",
        "```pushed: 1 2 3```\n",
        "\n",
        "```popped: 3 1 2```\n",
        "\n",
        "```result: False```\n",
        "\n",
        "Последовательность операций: push(1), push(2), push(3), pop(3), нужно pop(1), но на вершине стека лежит 2."
      ],
      "metadata": {
        "id": "bDZktrJ7hThr"
      }
    },
    {
      "cell_type": "code",
      "source": [
        "l = [1, 2]\n",
        "l.pop(0)\n",
        "l"
      ],
      "metadata": {
        "colab": {
          "base_uri": "https://localhost:8080/"
        },
        "id": "7ssJF726BmGK",
        "outputId": "de42fccf-7449-43f5-c7cf-92d36cd81495"
      },
      "execution_count": null,
      "outputs": [
        {
          "output_type": "execute_result",
          "data": {
            "text/plain": [
              "[2]"
            ]
          },
          "metadata": {},
          "execution_count": 3
        }
      ]
    },
    {
      "cell_type": "code",
      "source": [
        "def validate_pushed_popped(pushed: list, popped: list) -> bool:\n",
        "\n",
        "    stack = []\n",
        "\n",
        "    while pushed:\n",
        "        if pushed[0] == popped[0]:\n",
        "            pushed = pushed[1:]\n",
        "            popped = popped[1:]\n",
        "        else:\n",
        "            i = 1\n",
        "            while pushed[i] != popped[0]:\n",
        "                stack.insert(0, pushed[i])\n",
        "                i += 1\n",
        "            pushed = pushed[i:]\n",
        "    return stack == popped[::-1]\n"
      ],
      "metadata": {
        "id": "RlTst96Rhgpe"
      },
      "execution_count": null,
      "outputs": []
    },
    {
      "cell_type": "code",
      "source": [
        "def validatestack(pushed, popped):\n",
        "    push_idx = 0\n",
        "    pop_idx = 0\n",
        "    while pop_idx < len(popped):\n",
        "        while push_idx < len(pushed) and pushed[push_idx] != popped[pop_idx]:\n",
        "            push_idx += 1\n",
        "        if push_idx < len(pushed) and pushed[push_idx] == popped[pop_idx]:\n",
        "            pushed.pop(push_idx)\n",
        "            push_idx -= 1\n",
        "            pop_idx += 1\n",
        "        else: \n",
        "            return False\n",
        "    return True"
      ],
      "metadata": {
        "id": "cFRB0jaQTqRH"
      },
      "execution_count": null,
      "outputs": []
    },
    {
      "cell_type": "code",
      "source": [
        "def validate_pushed_popped(pushed: list, popped: list) -> bool:\n",
        "\n",
        "    j = 0\n",
        "    aux_stack = []\n",
        " \n",
        "    for x in pushed:\n",
        "        aux_stack.append(x)\n",
        "        while aux_stack and j < len(popped) and aux_stack[-1] == popped[j]:\n",
        "            aux_stack.pop()\n",
        "            j = j + 1\n",
        " \n",
        "    return j == len(popped)"
      ],
      "metadata": {
        "id": "UFNBs1g_U0hM"
      },
      "execution_count": null,
      "outputs": []
    },
    {
      "cell_type": "code",
      "source": [
        "validatestack([1, 2, 3, 4, 5], [5, 4, 3, 2, 1])"
      ],
      "metadata": {
        "colab": {
          "base_uri": "https://localhost:8080/"
        },
        "id": "1FdNFN1-D5eW",
        "outputId": "b74c4764-e8da-4d50-b963-ce7b357a909b"
      },
      "execution_count": null,
      "outputs": [
        {
          "output_type": "execute_result",
          "data": {
            "text/plain": [
              "True"
            ]
          },
          "metadata": {},
          "execution_count": 80
        }
      ]
    },
    {
      "cell_type": "code",
      "source": [
        "l = [1, 2, 3]\n",
        "l.pop()"
      ],
      "metadata": {
        "colab": {
          "base_uri": "https://localhost:8080/"
        },
        "id": "i4tUlFC7Tmim",
        "outputId": "e410920b-36a0-4799-d0f5-9e2fd483ebe1"
      },
      "execution_count": null,
      "outputs": [
        {
          "output_type": "execute_result",
          "data": {
            "text/plain": [
              "3"
            ]
          },
          "metadata": {},
          "execution_count": 81
        }
      ]
    },
    {
      "cell_type": "markdown",
      "source": [
        "Дан массив `prices` - цена на некоторую акцию в каждый день. Мы хотим узнать, сколько дней подряд цена на акцию была не выше текущей. Нужно вернуть массив spans, где `spans[i]` - это количество подряд идущих дней перед текущим днём (включая сам день), где цена была меньше или равна цене в день i\n",
        "\n",
        "Ограничение: 1 <= len(prices) <= 10**6\n",
        "\n",
        " \n",
        "\n",
        "Пример 1:\n",
        "\n",
        "`prices: 100 10 40 50 60 100 90 120`\n",
        "\n",
        "`spans: 1 1 2 3 4 6 1 8`\n",
        "\n",
        "В последний день span будет равен 1, так как в предпоследний день цена была больше.\n",
        "\n",
        "Пример 2:\n",
        "\n",
        "`prices: 90 60 30`\n",
        "\n",
        "`spans: 1 1 1`\n",
        "\n",
        "\n",
        "Пример 3:\n",
        "\n",
        "`prices: 10 20 30 100 110 120 40 50 30 60 90 100`\n",
        "\n",
        "`spans: 1 2 3 4 5 6 1 2 1 4 5 6`"
      ],
      "metadata": {
        "id": "Jj7RQeDdi1IK"
      }
    },
    {
      "cell_type": "code",
      "source": [
        "def calculate_stock_spans(prices: list) -> list:\n",
        "    \n",
        "    aux_stack = [] # Стэк для индексов\n",
        "    spans = [1 for _ in range(len(prices))]\n",
        "\n",
        "    for i in range(len(prices)):\n",
        "        while len(aux_stack) > 0 and prices[i] >= prices[aux_stack[-1]]:\n",
        "            aux_stack.pop()\n",
        "\n",
        "        if len(aux_stack) == 0:\n",
        "            spans[i] = i + 1\n",
        "        else:\n",
        "            spans[i] = i - aux_stack[-1]\n",
        "\n",
        "        aux_stack.append(i)\n",
        "    \n",
        "    return spans"
      ],
      "metadata": {
        "id": "J6xA7JSPizzA"
      },
      "execution_count": null,
      "outputs": []
    },
    {
      "cell_type": "code",
      "source": [
        "calculate_stock_spans(list(map(int, \"10 20 30 100 110 120 40 50 30 40 60 90 100\".split())))"
      ],
      "metadata": {
        "colab": {
          "base_uri": "https://localhost:8080/"
        },
        "id": "_CaqZfxPQUkH",
        "outputId": "78f634e3-89b9-43f5-aa4d-73c78f718844"
      },
      "execution_count": null,
      "outputs": [
        {
          "output_type": "execute_result",
          "data": {
            "text/plain": [
              "[1, 2, 3, 4, 5, 6, 1, 2, 1, 2, 5, 6, 7]"
            ]
          },
          "metadata": {},
          "execution_count": 6
        }
      ]
    },
    {
      "cell_type": "code",
      "source": [
        "calculate_stock_spans(list(map(int, \"100 10 40 50 60 100 90 120\".split())))"
      ],
      "metadata": {
        "colab": {
          "base_uri": "https://localhost:8080/"
        },
        "id": "d_PKIuqXl6N2",
        "outputId": "afc4b41a-4a76-4a11-b34f-075179c56d55"
      },
      "execution_count": null,
      "outputs": [
        {
          "output_type": "execute_result",
          "data": {
            "text/plain": [
              "[1, 1, 2, 3, 4, 6, 1, 8]"
            ]
          },
          "metadata": {},
          "execution_count": 9
        }
      ]
    },
    {
      "cell_type": "markdown",
      "source": [
        "**Разворот linked-list** Вспомним нашу прошлую имплементацию листа. Давайте напишем программу, которая будет его разворачивать (последний элемент меняется местом с первым, передпоследний со вторым и т.д.)."
      ],
      "metadata": {
        "id": "EkxJjxxGkRrC"
      }
    },
    {
      "cell_type": "code",
      "source": [
        "def reverse_linked_list(l: LinkedList) -> LinkedList:\n",
        "\n",
        "    reverse = LinkedList()\n",
        "    cur = l.head\n",
        "    while cur.next:\n",
        "        reverse.push(cur.value)\n",
        "        cur = cur.next\n",
        "\n",
        "    reverse.push(cur.value)\n",
        "\n",
        "    return reverse"
      ],
      "metadata": {
        "id": "ltBV2cHblvHF"
      },
      "execution_count": null,
      "outputs": []
    },
    {
      "cell_type": "code",
      "source": [
        "rev_l = reverse_linked_list(l)"
      ],
      "metadata": {
        "id": "_ZqlQHgUr5W3"
      },
      "execution_count": null,
      "outputs": []
    },
    {
      "cell_type": "code",
      "source": [
        "rev_l[0]"
      ],
      "metadata": {
        "colab": {
          "base_uri": "https://localhost:8080/"
        },
        "id": "lF8znPsyr-rg",
        "outputId": "2abc6807-d8ea-48c6-de52-484fa5ee6ac4"
      },
      "execution_count": null,
      "outputs": [
        {
          "output_type": "execute_result",
          "data": {
            "text/plain": [
              "3"
            ]
          },
          "metadata": {},
          "execution_count": 26
        }
      ]
    },
    {
      "cell_type": "markdown",
      "source": [
        "# Deque"
      ],
      "metadata": {
        "id": "0S7gPeNXjyH0"
      }
    },
    {
      "cell_type": "code",
      "source": [
        "from collections import deque\n",
        "\n",
        "d = deque([1,2,3])\n",
        "\n",
        "d.append(5)\n",
        "d.append(4)\n",
        "d.appendleft(8)\n",
        "\n",
        "print(d)"
      ],
      "metadata": {
        "colab": {
          "base_uri": "https://localhost:8080/"
        },
        "id": "QgzF44BFjxfA",
        "outputId": "156f692b-2e01-4128-c35b-1f64f51eefcf"
      },
      "execution_count": null,
      "outputs": [
        {
          "output_type": "stream",
          "name": "stdout",
          "text": [
            "deque([8, 1, 2, 2, 3, 5, 4])\n"
          ]
        }
      ]
    },
    {
      "cell_type": "markdown",
      "source": [
        "# Hash"
      ],
      "metadata": {
        "id": "5Gwxe-9Bxefc"
      }
    },
    {
      "cell_type": "code",
      "source": [
        "l = [1, 2, 3]\n",
        "hash(l)"
      ],
      "metadata": {
        "colab": {
          "base_uri": "https://localhost:8080/"
        },
        "id": "T4RF4HKYxdvp",
        "outputId": "3f1deaa9-5996-4096-9793-adc5b61e1025"
      },
      "execution_count": null,
      "outputs": [
        {
          "output_type": "execute_result",
          "data": {
            "text/plain": [
              "529344067295497451"
            ]
          },
          "metadata": {},
          "execution_count": 35
        }
      ]
    },
    {
      "cell_type": "code",
      "source": [
        "hash('abc')"
      ],
      "metadata": {
        "colab": {
          "base_uri": "https://localhost:8080/"
        },
        "id": "FhN9bYY14MMb",
        "outputId": "eee76177-a284-4400-d44b-a84bae43ddd8"
      },
      "execution_count": 1,
      "outputs": [
        {
          "output_type": "execute_result",
          "data": {
            "text/plain": [
              "5770667602218528273"
            ]
          },
          "metadata": {},
          "execution_count": 1
        }
      ]
    },
    {
      "cell_type": "markdown",
      "source": [
        "# Алгоритм Шинглов"
      ],
      "metadata": {
        "id": "tpdA4CGi4Vii"
      }
    },
    {
      "cell_type": "markdown",
      "source": [
        "# Localy sensetivity hash"
      ],
      "metadata": {
        "id": "e9vovnwL4yiL"
      }
    },
    {
      "cell_type": "markdown",
      "source": [
        "**Two Sum**\n",
        "\n",
        "Дан массив целых чисел arr и целое число k. Нужно найти индексы двух элементов, сумма которых равна k\n",
        "\n",
        "Гарантируется, что такая пара будет ровно одна. В качестве ответа выпишите 2 индекса через пробел в порядке возрастания."
      ],
      "metadata": {
        "id": "W6Sx2xPIh05f"
      }
    },
    {
      "cell_type": "code",
      "source": [
        "def two_sum(arr: list, k: int):\n",
        "    \n",
        "    d = {}\n",
        "    for i in range(len(arr)):\n",
        "        if k - arr[i] in d:\n",
        "            return i, d[k - arr[i]]\n",
        "        else:\n",
        "            d[arr[i]] = i"
      ],
      "metadata": {
        "id": "fvplUGlGiDW1"
      },
      "execution_count": 2,
      "outputs": []
    },
    {
      "cell_type": "code",
      "source": [
        "arr = [1, 2, 3, -1, 0, 7, 4, -2]\n",
        "\n",
        "two_sum(arr, 15)"
      ],
      "metadata": {
        "id": "XB7BE_Nu-ZOG"
      },
      "execution_count": 5,
      "outputs": []
    },
    {
      "cell_type": "markdown",
      "source": [
        "*Бонус на 1.* **Zero Sum Subarrays Count**\n",
        "\n",
        "Дан массив целых чисел `arr`. Нужно найти количество подмассивов, сумма которых равна k\n",
        "\n",
        "Подмассив – это непрерывный участок массива `arr[i:j]`. Один элемент и весь массив так же являются подмассивами."
      ],
      "metadata": {
        "id": "K3WnVkH2hmEJ"
      }
    },
    {
      "cell_type": "code",
      "source": [
        "def zero_sum_subarrays(arr: list) -> int:\n",
        "    \n",
        "    "
      ],
      "metadata": {
        "id": "7CytJVKmh0XM"
      },
      "execution_count": null,
      "outputs": []
    },
    {
      "cell_type": "markdown",
      "source": [
        "**Сломанная клавиатура**\n",
        "\n",
        "Имеется неисправная клавиатура, на которой не работают некоторые буквенные клавиши. Все остальные клавиши на клавиатуре работают нормально.\n",
        "\n",
        "Задана строка text, состоящая из слов, разделенных одним пробелом (без ведущих и последующих пробелов), и строка brokenLetters, состоящая из всех отдельных буквенных клавиш, которые не работают. Верните количество слов в тексте, которые можно полностью набрать с помощью этой клавиатуры.\n"
      ],
      "metadata": {
        "id": "DLw0v24P28HU"
      }
    },
    {
      "cell_type": "code",
      "source": [
        "text = 'abc xyz cat zxcvbn qawsdedf'\n",
        "broken_letter = 'qwertyuiop'\n",
        "\n",
        "def check_broken(text, broken_letter):\n",
        "    broken_set = set(list(broken_letter))\n",
        "    cnt = 0\n",
        "    for word in text.split():\n",
        "        if len(broken_set.intersection(set(list(word)))) == 0:\n",
        "            cnt += 1\n",
        "    return cnt\n",
        "\n",
        "check_broken(text, broken_letter)"
      ],
      "metadata": {
        "id": "s7uReu4E6Afb",
        "colab": {
          "base_uri": "https://localhost:8080/"
        },
        "outputId": "8b9fc36a-48da-48b1-d0c6-60c7a3b93642"
      },
      "execution_count": 11,
      "outputs": [
        {
          "output_type": "execute_result",
          "data": {
            "text/plain": [
              "2"
            ]
          },
          "metadata": {},
          "execution_count": 11
        }
      ]
    },
    {
      "cell_type": "markdown",
      "source": [
        "**Группируем анаграммы**\n",
        "\n",
        "На вход программе подается список строк, нужно сгруппировать вместе все анаграммы (вернуть список списков)"
      ],
      "metadata": {
        "id": "9u9ILa-u8ztO"
      }
    },
    {
      "cell_type": "code",
      "source": [
        "words = ['abc', 'bca', 'cab', 'row', 'cat', 'tac', 'smoke', 'wor']\n",
        "res = [['abc', 'bca', 'cab'], ['cat', 'tac']]\n",
        "\n",
        "def list_an(words):\n",
        "    d = {}\n",
        "    for word in words:\n",
        "        if frozenset(list(word)) in d:\n",
        "            d[frozenset(list(word))].append(word)\n",
        "        else:\n",
        "            d[frozenset(list(word))] = [word]\n",
        "    return list(d.values())"
      ],
      "metadata": {
        "id": "aeujXdAX8v8b"
      },
      "execution_count": 16,
      "outputs": []
    },
    {
      "cell_type": "code",
      "source": [
        "frozenset(['a', 'b', 'c']) == frozenset(['b', 'c', 'a'])"
      ],
      "metadata": {
        "colab": {
          "base_uri": "https://localhost:8080/"
        },
        "id": "D0AMXwEAHVJS",
        "outputId": "715ef36d-a1d7-4ae1-8d96-468bc24c7808"
      },
      "execution_count": 17,
      "outputs": [
        {
          "output_type": "execute_result",
          "data": {
            "text/plain": [
              "True"
            ]
          },
          "metadata": {},
          "execution_count": 17
        }
      ]
    },
    {
      "cell_type": "code",
      "source": [
        "list_an(words)"
      ],
      "metadata": {
        "colab": {
          "base_uri": "https://localhost:8080/"
        },
        "id": "gKBXcfZ1HdgF",
        "outputId": "ca3848ec-0edf-452a-f605-c5772ce4b741"
      },
      "execution_count": 18,
      "outputs": [
        {
          "output_type": "execute_result",
          "data": {
            "text/plain": [
              "[['abc', 'bca', 'cab'], ['row', 'wor'], ['cat', 'tac'], ['smoke']]"
            ]
          },
          "metadata": {},
          "execution_count": 18
        }
      ]
    },
    {
      "cell_type": "code",
      "source": [
        "hash(\"I love python\")"
      ],
      "metadata": {
        "colab": {
          "base_uri": "https://localhost:8080/"
        },
        "id": "p5x-NsauHukd",
        "outputId": "f011a33d-c9d2-43cb-c193-5367842ad41d"
      },
      "execution_count": 20,
      "outputs": [
        {
          "output_type": "execute_result",
          "data": {
            "text/plain": [
              "2048557102123033948"
            ]
          },
          "metadata": {},
          "execution_count": 20
        }
      ]
    },
    {
      "cell_type": "code",
      "source": [],
      "metadata": {
        "id": "Z4kSJh2FJutu"
      },
      "execution_count": null,
      "outputs": []
    },
    {
      "cell_type": "code",
      "source": [],
      "metadata": {
        "id": "1bB7qtBPJPY8"
      },
      "execution_count": null,
      "outputs": []
    }
  ]
}